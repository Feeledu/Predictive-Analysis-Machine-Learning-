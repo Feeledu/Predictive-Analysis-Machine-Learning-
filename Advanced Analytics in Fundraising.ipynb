{
 "cells": [
  {
   "cell_type": "markdown",
   "metadata": {},
   "source": [
    "# Advanced Analytics in Fundraising\n",
    "### How knowing donors helps in growing donors"
   ]
  },
  {
   "cell_type": "markdown",
   "metadata": {},
   "source": [
    "Analytical basetable is composed of the population, the candidate predictors and the target\n",
    "\n",
    "Population is a group of people or objects you want to make a prediction for (eg: donors). There is one row for each object of the population\n",
    "\n",
    "The candidate predictors describes the objects and the populations. Information can be used to predict events. Age, gender or previous gifts can be used to predict whether someone who will donate for future projects\n",
    "\n",
    "The target is an information about event to predict. 1 means that the event occurs and O otherwise. The target is whether the donor donated for a historical event \n"
   ]
  },
  {
   "cell_type": "code",
   "execution_count": 293,
   "metadata": {},
   "outputs": [
    {
     "name": "stdout",
     "output_type": "stream",
     "text": [
      "Requirement already satisfied: scikit-plot in c:\\anaconda3\\lib\\site-packages (0.3.7)\n",
      "Requirement already satisfied: scikit-learn>=0.18 in c:\\anaconda3\\lib\\site-packages (from scikit-plot) (0.23.1)\n",
      "Requirement already satisfied: joblib>=0.10 in c:\\anaconda3\\lib\\site-packages (from scikit-plot) (0.16.0)\n",
      "Requirement already satisfied: matplotlib>=1.4.0 in c:\\anaconda3\\lib\\site-packages (from scikit-plot) (3.2.2)\n",
      "Requirement already satisfied: scipy>=0.9 in c:\\anaconda3\\lib\\site-packages (from scikit-plot) (1.4.1)\n",
      "Requirement already satisfied: threadpoolctl>=2.0.0 in c:\\anaconda3\\lib\\site-packages (from scikit-learn>=0.18->scikit-plot) (2.1.0)\n",
      "Requirement already satisfied: numpy>=1.13.3 in c:\\anaconda3\\lib\\site-packages (from scikit-learn>=0.18->scikit-plot) (1.18.5)\n",
      "Requirement already satisfied: kiwisolver>=1.0.1 in c:\\anaconda3\\lib\\site-packages (from matplotlib>=1.4.0->scikit-plot) (1.2.0)\n",
      "Requirement already satisfied: python-dateutil>=2.1 in c:\\anaconda3\\lib\\site-packages (from matplotlib>=1.4.0->scikit-plot) (2.8.1)\n",
      "Requirement already satisfied: cycler>=0.10 in c:\\anaconda3\\lib\\site-packages (from matplotlib>=1.4.0->scikit-plot) (0.10.0)\n",
      "Requirement already satisfied: pyparsing!=2.0.4,!=2.1.2,!=2.1.6,>=2.0.1 in c:\\anaconda3\\lib\\site-packages (from matplotlib>=1.4.0->scikit-plot) (2.4.7)\n",
      "Requirement already satisfied: six>=1.5 in c:\\anaconda3\\lib\\site-packages (from python-dateutil>=2.1->matplotlib>=1.4.0->scikit-plot) (1.15.0)\n"
     ]
    }
   ],
   "source": [
    "!pip install scikit-plot"
   ]
  },
  {
   "cell_type": "code",
   "execution_count": 1,
   "metadata": {},
   "outputs": [],
   "source": [
    "import sys\n",
    "import pandas as pd\n",
    "from pandas     import DataFrame\n",
    "import numpy as np\n",
    "import datetime as dt\n",
    "from datetime import date \n",
    "import re\n",
    "\n",
    "from sklearn import linear_model\n",
    "from sklearn.metrics import roc_auc_score\n",
    "from scipy.stats.mstats import winsorize\n",
    "from numpy                import array\n",
    "from numpy                import random\n",
    "from sklearn.linear_model import LogisticRegression \n",
    "from sklearn.metrics      import auc\n",
    "from sklearn.metrics      import roc_auc_score\n",
    "from matplotlib           import pyplot as plt\n",
    "from scipy.stats          import pearsonr\n",
    "import warnings\n",
    "warnings.filterwarnings('ignore')\n",
    "\n",
    "from sklearn.linear_model   import LogisticRegression\n",
    "from sklearn.tree           import DecisionTreeClassifier\n",
    "from sklearn.ensemble       import RandomForestClassifier\n",
    "from sklearn.ensemble       import GradientBoostingClassifier\n",
    "from sklearn.svm            import SVC\n",
    "from sklearn.neural_network import MLPClassifier\n",
    "from sklearn.neighbors      import KNeighborsClassifier\n",
    "from sklearn.metrics        import accuracy_score\n",
    "from sklearn.metrics        import auc\n",
    "from sklearn.metrics        import roc_auc_score\n",
    "from matplotlib             import pyplot\n",
    "import scikitplot as skplt"
   ]
  },
  {
   "cell_type": "code",
   "execution_count": 2,
   "metadata": {},
   "outputs": [],
   "source": [
    "from ieseg import partition\n",
    "from ieseg import roc\n",
    "from ieseg import lift\n",
    "from ieseg import cumulativeResponse\n",
    "from ieseg import cumulativeGains"
   ]
  },
  {
   "cell_type": "markdown",
   "metadata": {},
   "source": [
    "## READING THE DATA"
   ]
  },
  {
   "cell_type": "code",
   "execution_count": 3,
   "metadata": {},
   "outputs": [
    {
     "data": {
      "text/html": [
       "<div>\n",
       "<style scoped>\n",
       "    .dataframe tbody tr th:only-of-type {\n",
       "        vertical-align: middle;\n",
       "    }\n",
       "\n",
       "    .dataframe tbody tr th {\n",
       "        vertical-align: top;\n",
       "    }\n",
       "\n",
       "    .dataframe thead th {\n",
       "        text-align: right;\n",
       "    }\n",
       "</style>\n",
       "<table border=\"1\" class=\"dataframe\">\n",
       "  <thead>\n",
       "    <tr style=\"text-align: right;\">\n",
       "      <th></th>\n",
       "      <th>campaignID</th>\n",
       "      <th>date</th>\n",
       "      <th>lettersSent</th>\n",
       "      <th>CostUnit</th>\n",
       "    </tr>\n",
       "  </thead>\n",
       "  <tbody>\n",
       "    <tr>\n",
       "      <th>0</th>\n",
       "      <td>153</td>\n",
       "      <td>13/12/2004</td>\n",
       "      <td>6 873</td>\n",
       "      <td>0,17 €</td>\n",
       "    </tr>\n",
       "    <tr>\n",
       "      <th>1</th>\n",
       "      <td>154</td>\n",
       "      <td>01/01/2005</td>\n",
       "      <td>7 656</td>\n",
       "      <td>0,30 €</td>\n",
       "    </tr>\n",
       "    <tr>\n",
       "      <th>2</th>\n",
       "      <td>180</td>\n",
       "      <td>18/01/2005</td>\n",
       "      <td>9 933</td>\n",
       "      <td>0,20 €</td>\n",
       "    </tr>\n",
       "    <tr>\n",
       "      <th>3</th>\n",
       "      <td>433</td>\n",
       "      <td>29/01/2005</td>\n",
       "      <td>7 448</td>\n",
       "      <td>0,59 €</td>\n",
       "    </tr>\n",
       "    <tr>\n",
       "      <th>4</th>\n",
       "      <td>476</td>\n",
       "      <td>12/02/2005</td>\n",
       "      <td>6 605</td>\n",
       "      <td>0,51 €</td>\n",
       "    </tr>\n",
       "  </tbody>\n",
       "</table>\n",
       "</div>"
      ],
      "text/plain": [
       "   campaignID        date lettersSent CostUnit\n",
       "0         153  13/12/2004       6 873   0,17 €\n",
       "1         154  01/01/2005       7 656   0,30 €\n",
       "2         180  18/01/2005       9 933   0,20 €\n",
       "3         433  29/01/2005       7 448   0,59 €\n",
       "4         476  12/02/2005       6 605   0,51 €"
      ]
     },
     "execution_count": 3,
     "metadata": {},
     "output_type": "execute_result"
    }
   ],
   "source": [
    "campaigns = pd.read_csv('campaigns.csv', sep=\";\")\n",
    "campaigns.head()"
   ]
  },
  {
   "cell_type": "code",
   "execution_count": 4,
   "metadata": {},
   "outputs": [
    {
     "data": {
      "text/html": [
       "<div>\n",
       "<style scoped>\n",
       "    .dataframe tbody tr th:only-of-type {\n",
       "        vertical-align: middle;\n",
       "    }\n",
       "\n",
       "    .dataframe tbody tr th {\n",
       "        vertical-align: top;\n",
       "    }\n",
       "\n",
       "    .dataframe thead th {\n",
       "        text-align: right;\n",
       "    }\n",
       "</style>\n",
       "<table border=\"1\" class=\"dataframe\">\n",
       "  <thead>\n",
       "    <tr style=\"text-align: right;\">\n",
       "      <th></th>\n",
       "      <th>campaignID</th>\n",
       "      <th>date</th>\n",
       "      <th>lettersSent</th>\n",
       "      <th>CostUnit</th>\n",
       "    </tr>\n",
       "  </thead>\n",
       "  <tbody>\n",
       "    <tr>\n",
       "      <th>335</th>\n",
       "      <td>6169</td>\n",
       "      <td>04/09/2018</td>\n",
       "      <td>34 888</td>\n",
       "      <td>0,87 €</td>\n",
       "    </tr>\n",
       "  </tbody>\n",
       "</table>\n",
       "</div>"
      ],
      "text/plain": [
       "     campaignID        date lettersSent CostUnit\n",
       "335        6169  04/09/2018      34 888   0,87 €"
      ]
     },
     "execution_count": 4,
     "metadata": {},
     "output_type": "execute_result"
    }
   ],
   "source": [
    "campaigns[campaigns['campaignID']==6169]"
   ]
  },
  {
   "cell_type": "code",
   "execution_count": 5,
   "metadata": {},
   "outputs": [
    {
     "data": {
      "text/plain": [
       "367"
      ]
     },
     "execution_count": 5,
     "metadata": {},
     "output_type": "execute_result"
    }
   ],
   "source": [
    "len(campaigns)"
   ]
  },
  {
   "cell_type": "code",
   "execution_count": 6,
   "metadata": {},
   "outputs": [
    {
     "data": {
      "text/plain": [
       "(367, 4)"
      ]
     },
     "execution_count": 6,
     "metadata": {},
     "output_type": "execute_result"
    }
   ],
   "source": [
    "campaigns.shape"
   ]
  },
  {
   "cell_type": "code",
   "execution_count": 7,
   "metadata": {},
   "outputs": [
    {
     "data": {
      "text/plain": [
       "campaignID     0\n",
       "date           0\n",
       "lettersSent    0\n",
       "CostUnit       0\n",
       "dtype: int64"
      ]
     },
     "execution_count": 7,
     "metadata": {},
     "output_type": "execute_result"
    }
   ],
   "source": [
    "campaigns.isna().sum()"
   ]
  },
  {
   "cell_type": "code",
   "execution_count": 8,
   "metadata": {},
   "outputs": [
    {
     "name": "stdout",
     "output_type": "stream",
     "text": [
      "34888\n"
     ]
    },
    {
     "data": {
      "text/html": [
       "<div>\n",
       "<style scoped>\n",
       "    .dataframe tbody tr th:only-of-type {\n",
       "        vertical-align: middle;\n",
       "    }\n",
       "\n",
       "    .dataframe tbody tr th {\n",
       "        vertical-align: top;\n",
       "    }\n",
       "\n",
       "    .dataframe thead th {\n",
       "        text-align: right;\n",
       "    }\n",
       "</style>\n",
       "<table border=\"1\" class=\"dataframe\">\n",
       "  <thead>\n",
       "    <tr style=\"text-align: right;\">\n",
       "      <th></th>\n",
       "      <th>donorID</th>\n",
       "    </tr>\n",
       "  </thead>\n",
       "  <tbody>\n",
       "    <tr>\n",
       "      <th>0</th>\n",
       "      <td>100001</td>\n",
       "    </tr>\n",
       "    <tr>\n",
       "      <th>1</th>\n",
       "      <td>100002</td>\n",
       "    </tr>\n",
       "    <tr>\n",
       "      <th>2</th>\n",
       "      <td>100004</td>\n",
       "    </tr>\n",
       "    <tr>\n",
       "      <th>3</th>\n",
       "      <td>100008</td>\n",
       "    </tr>\n",
       "    <tr>\n",
       "      <th>4</th>\n",
       "      <td>100009</td>\n",
       "    </tr>\n",
       "  </tbody>\n",
       "</table>\n",
       "</div>"
      ],
      "text/plain": [
       "   donorID\n",
       "0   100001\n",
       "1   100002\n",
       "2   100004\n",
       "3   100008\n",
       "4   100009"
      ]
     },
     "execution_count": 8,
     "metadata": {},
     "output_type": "execute_result"
    }
   ],
   "source": [
    "campaign6169 = pd.read_csv('selection campaign 6169.csv')\n",
    "print(len(campaign6169))\n",
    "campaign6169.head()"
   ]
  },
  {
   "cell_type": "code",
   "execution_count": 9,
   "metadata": {},
   "outputs": [
    {
     "name": "stdout",
     "output_type": "stream",
     "text": [
      "25645\n"
     ]
    }
   ],
   "source": [
    "campaign7244 = pd.read_csv('selection campaign 7244.csv')\n",
    "campaign7244.head()\n",
    "print(len(campaign7244))"
   ]
  },
  {
   "cell_type": "code",
   "execution_count": 10,
   "metadata": {},
   "outputs": [
    {
     "data": {
      "text/plain": [
       "(25645, 1)"
      ]
     },
     "execution_count": 10,
     "metadata": {},
     "output_type": "execute_result"
    }
   ],
   "source": [
    "campaign7244.shape"
   ]
  },
  {
   "cell_type": "code",
   "execution_count": 6,
   "metadata": {
    "scrolled": false
   },
   "outputs": [
    {
     "ename": "FileNotFoundError",
     "evalue": "[Errno 2] File donors.csv does not exist: 'donors.csv'",
     "output_type": "error",
     "traceback": [
      "\u001b[1;31m---------------------------------------------------------------------------\u001b[0m",
      "\u001b[1;31mFileNotFoundError\u001b[0m                         Traceback (most recent call last)",
      "\u001b[1;32m<ipython-input-6-480a24a12450>\u001b[0m in \u001b[0;36m<module>\u001b[1;34m\u001b[0m\n\u001b[0;32m      1\u001b[0m \u001b[1;31m#population\u001b[0m\u001b[1;33m\u001b[0m\u001b[1;33m\u001b[0m\u001b[1;33m\u001b[0m\u001b[0m\n\u001b[1;32m----> 2\u001b[1;33m \u001b[0mdonors\u001b[0m \u001b[1;33m=\u001b[0m \u001b[0mpd\u001b[0m\u001b[1;33m.\u001b[0m\u001b[0mread_csv\u001b[0m\u001b[1;33m(\u001b[0m\u001b[1;34m'donors.csv'\u001b[0m\u001b[1;33m,\u001b[0m \u001b[0msep\u001b[0m\u001b[1;33m=\u001b[0m\u001b[1;34m\";\"\u001b[0m\u001b[1;33m)\u001b[0m\u001b[1;33m\u001b[0m\u001b[1;33m\u001b[0m\u001b[0m\n\u001b[0m\u001b[0;32m      3\u001b[0m \u001b[0mdonors\u001b[0m\u001b[1;33m.\u001b[0m\u001b[0mhead\u001b[0m\u001b[1;33m(\u001b[0m\u001b[1;33m)\u001b[0m\u001b[1;33m\u001b[0m\u001b[1;33m\u001b[0m\u001b[0m\n",
      "\u001b[1;32mC:\\Anaconda3\\lib\\site-packages\\pandas\\io\\parsers.py\u001b[0m in \u001b[0;36mparser_f\u001b[1;34m(filepath_or_buffer, sep, delimiter, header, names, index_col, usecols, squeeze, prefix, mangle_dupe_cols, dtype, engine, converters, true_values, false_values, skipinitialspace, skiprows, skipfooter, nrows, na_values, keep_default_na, na_filter, verbose, skip_blank_lines, parse_dates, infer_datetime_format, keep_date_col, date_parser, dayfirst, cache_dates, iterator, chunksize, compression, thousands, decimal, lineterminator, quotechar, quoting, doublequote, escapechar, comment, encoding, dialect, error_bad_lines, warn_bad_lines, delim_whitespace, low_memory, memory_map, float_precision)\u001b[0m\n\u001b[0;32m    674\u001b[0m         )\n\u001b[0;32m    675\u001b[0m \u001b[1;33m\u001b[0m\u001b[0m\n\u001b[1;32m--> 676\u001b[1;33m         \u001b[1;32mreturn\u001b[0m \u001b[0m_read\u001b[0m\u001b[1;33m(\u001b[0m\u001b[0mfilepath_or_buffer\u001b[0m\u001b[1;33m,\u001b[0m \u001b[0mkwds\u001b[0m\u001b[1;33m)\u001b[0m\u001b[1;33m\u001b[0m\u001b[1;33m\u001b[0m\u001b[0m\n\u001b[0m\u001b[0;32m    677\u001b[0m \u001b[1;33m\u001b[0m\u001b[0m\n\u001b[0;32m    678\u001b[0m     \u001b[0mparser_f\u001b[0m\u001b[1;33m.\u001b[0m\u001b[0m__name__\u001b[0m \u001b[1;33m=\u001b[0m \u001b[0mname\u001b[0m\u001b[1;33m\u001b[0m\u001b[1;33m\u001b[0m\u001b[0m\n",
      "\u001b[1;32mC:\\Anaconda3\\lib\\site-packages\\pandas\\io\\parsers.py\u001b[0m in \u001b[0;36m_read\u001b[1;34m(filepath_or_buffer, kwds)\u001b[0m\n\u001b[0;32m    446\u001b[0m \u001b[1;33m\u001b[0m\u001b[0m\n\u001b[0;32m    447\u001b[0m     \u001b[1;31m# Create the parser.\u001b[0m\u001b[1;33m\u001b[0m\u001b[1;33m\u001b[0m\u001b[1;33m\u001b[0m\u001b[0m\n\u001b[1;32m--> 448\u001b[1;33m     \u001b[0mparser\u001b[0m \u001b[1;33m=\u001b[0m \u001b[0mTextFileReader\u001b[0m\u001b[1;33m(\u001b[0m\u001b[0mfp_or_buf\u001b[0m\u001b[1;33m,\u001b[0m \u001b[1;33m**\u001b[0m\u001b[0mkwds\u001b[0m\u001b[1;33m)\u001b[0m\u001b[1;33m\u001b[0m\u001b[1;33m\u001b[0m\u001b[0m\n\u001b[0m\u001b[0;32m    449\u001b[0m \u001b[1;33m\u001b[0m\u001b[0m\n\u001b[0;32m    450\u001b[0m     \u001b[1;32mif\u001b[0m \u001b[0mchunksize\u001b[0m \u001b[1;32mor\u001b[0m \u001b[0miterator\u001b[0m\u001b[1;33m:\u001b[0m\u001b[1;33m\u001b[0m\u001b[1;33m\u001b[0m\u001b[0m\n",
      "\u001b[1;32mC:\\Anaconda3\\lib\\site-packages\\pandas\\io\\parsers.py\u001b[0m in \u001b[0;36m__init__\u001b[1;34m(self, f, engine, **kwds)\u001b[0m\n\u001b[0;32m    878\u001b[0m             \u001b[0mself\u001b[0m\u001b[1;33m.\u001b[0m\u001b[0moptions\u001b[0m\u001b[1;33m[\u001b[0m\u001b[1;34m\"has_index_names\"\u001b[0m\u001b[1;33m]\u001b[0m \u001b[1;33m=\u001b[0m \u001b[0mkwds\u001b[0m\u001b[1;33m[\u001b[0m\u001b[1;34m\"has_index_names\"\u001b[0m\u001b[1;33m]\u001b[0m\u001b[1;33m\u001b[0m\u001b[1;33m\u001b[0m\u001b[0m\n\u001b[0;32m    879\u001b[0m \u001b[1;33m\u001b[0m\u001b[0m\n\u001b[1;32m--> 880\u001b[1;33m         \u001b[0mself\u001b[0m\u001b[1;33m.\u001b[0m\u001b[0m_make_engine\u001b[0m\u001b[1;33m(\u001b[0m\u001b[0mself\u001b[0m\u001b[1;33m.\u001b[0m\u001b[0mengine\u001b[0m\u001b[1;33m)\u001b[0m\u001b[1;33m\u001b[0m\u001b[1;33m\u001b[0m\u001b[0m\n\u001b[0m\u001b[0;32m    881\u001b[0m \u001b[1;33m\u001b[0m\u001b[0m\n\u001b[0;32m    882\u001b[0m     \u001b[1;32mdef\u001b[0m \u001b[0mclose\u001b[0m\u001b[1;33m(\u001b[0m\u001b[0mself\u001b[0m\u001b[1;33m)\u001b[0m\u001b[1;33m:\u001b[0m\u001b[1;33m\u001b[0m\u001b[1;33m\u001b[0m\u001b[0m\n",
      "\u001b[1;32mC:\\Anaconda3\\lib\\site-packages\\pandas\\io\\parsers.py\u001b[0m in \u001b[0;36m_make_engine\u001b[1;34m(self, engine)\u001b[0m\n\u001b[0;32m   1112\u001b[0m     \u001b[1;32mdef\u001b[0m \u001b[0m_make_engine\u001b[0m\u001b[1;33m(\u001b[0m\u001b[0mself\u001b[0m\u001b[1;33m,\u001b[0m \u001b[0mengine\u001b[0m\u001b[1;33m=\u001b[0m\u001b[1;34m\"c\"\u001b[0m\u001b[1;33m)\u001b[0m\u001b[1;33m:\u001b[0m\u001b[1;33m\u001b[0m\u001b[1;33m\u001b[0m\u001b[0m\n\u001b[0;32m   1113\u001b[0m         \u001b[1;32mif\u001b[0m \u001b[0mengine\u001b[0m \u001b[1;33m==\u001b[0m \u001b[1;34m\"c\"\u001b[0m\u001b[1;33m:\u001b[0m\u001b[1;33m\u001b[0m\u001b[1;33m\u001b[0m\u001b[0m\n\u001b[1;32m-> 1114\u001b[1;33m             \u001b[0mself\u001b[0m\u001b[1;33m.\u001b[0m\u001b[0m_engine\u001b[0m \u001b[1;33m=\u001b[0m \u001b[0mCParserWrapper\u001b[0m\u001b[1;33m(\u001b[0m\u001b[0mself\u001b[0m\u001b[1;33m.\u001b[0m\u001b[0mf\u001b[0m\u001b[1;33m,\u001b[0m \u001b[1;33m**\u001b[0m\u001b[0mself\u001b[0m\u001b[1;33m.\u001b[0m\u001b[0moptions\u001b[0m\u001b[1;33m)\u001b[0m\u001b[1;33m\u001b[0m\u001b[1;33m\u001b[0m\u001b[0m\n\u001b[0m\u001b[0;32m   1115\u001b[0m         \u001b[1;32melse\u001b[0m\u001b[1;33m:\u001b[0m\u001b[1;33m\u001b[0m\u001b[1;33m\u001b[0m\u001b[0m\n\u001b[0;32m   1116\u001b[0m             \u001b[1;32mif\u001b[0m \u001b[0mengine\u001b[0m \u001b[1;33m==\u001b[0m \u001b[1;34m\"python\"\u001b[0m\u001b[1;33m:\u001b[0m\u001b[1;33m\u001b[0m\u001b[1;33m\u001b[0m\u001b[0m\n",
      "\u001b[1;32mC:\\Anaconda3\\lib\\site-packages\\pandas\\io\\parsers.py\u001b[0m in \u001b[0;36m__init__\u001b[1;34m(self, src, **kwds)\u001b[0m\n\u001b[0;32m   1889\u001b[0m         \u001b[0mkwds\u001b[0m\u001b[1;33m[\u001b[0m\u001b[1;34m\"usecols\"\u001b[0m\u001b[1;33m]\u001b[0m \u001b[1;33m=\u001b[0m \u001b[0mself\u001b[0m\u001b[1;33m.\u001b[0m\u001b[0musecols\u001b[0m\u001b[1;33m\u001b[0m\u001b[1;33m\u001b[0m\u001b[0m\n\u001b[0;32m   1890\u001b[0m \u001b[1;33m\u001b[0m\u001b[0m\n\u001b[1;32m-> 1891\u001b[1;33m         \u001b[0mself\u001b[0m\u001b[1;33m.\u001b[0m\u001b[0m_reader\u001b[0m \u001b[1;33m=\u001b[0m \u001b[0mparsers\u001b[0m\u001b[1;33m.\u001b[0m\u001b[0mTextReader\u001b[0m\u001b[1;33m(\u001b[0m\u001b[0msrc\u001b[0m\u001b[1;33m,\u001b[0m \u001b[1;33m**\u001b[0m\u001b[0mkwds\u001b[0m\u001b[1;33m)\u001b[0m\u001b[1;33m\u001b[0m\u001b[1;33m\u001b[0m\u001b[0m\n\u001b[0m\u001b[0;32m   1892\u001b[0m         \u001b[0mself\u001b[0m\u001b[1;33m.\u001b[0m\u001b[0munnamed_cols\u001b[0m \u001b[1;33m=\u001b[0m \u001b[0mself\u001b[0m\u001b[1;33m.\u001b[0m\u001b[0m_reader\u001b[0m\u001b[1;33m.\u001b[0m\u001b[0munnamed_cols\u001b[0m\u001b[1;33m\u001b[0m\u001b[1;33m\u001b[0m\u001b[0m\n\u001b[0;32m   1893\u001b[0m \u001b[1;33m\u001b[0m\u001b[0m\n",
      "\u001b[1;32mpandas\\_libs\\parsers.pyx\u001b[0m in \u001b[0;36mpandas._libs.parsers.TextReader.__cinit__\u001b[1;34m()\u001b[0m\n",
      "\u001b[1;32mpandas\\_libs\\parsers.pyx\u001b[0m in \u001b[0;36mpandas._libs.parsers.TextReader._setup_parser_source\u001b[1;34m()\u001b[0m\n",
      "\u001b[1;31mFileNotFoundError\u001b[0m: [Errno 2] File donors.csv does not exist: 'donors.csv'"
     ]
    }
   ],
   "source": [
    "#population\n",
    "donors = pd.read_csv('donors.csv', sep=\";\")\n",
    "donors.head()"
   ]
  },
  {
   "cell_type": "code",
   "execution_count": null,
   "metadata": {},
   "outputs": [],
   "source": [
    "donors.province.unique()"
   ]
  },
  {
   "cell_type": "code",
   "execution_count": 5,
   "metadata": {},
   "outputs": [
    {
     "ename": "NameError",
     "evalue": "name 'donors' is not defined",
     "output_type": "error",
     "traceback": [
      "\u001b[1;31m---------------------------------------------------------------------------\u001b[0m",
      "\u001b[1;31mNameError\u001b[0m                                 Traceback (most recent call last)",
      "\u001b[1;32m<ipython-input-5-afa7c7040ec9>\u001b[0m in \u001b[0;36m<module>\u001b[1;34m\u001b[0m\n\u001b[1;32m----> 1\u001b[1;33m \u001b[0mdonors\u001b[0m\u001b[1;33m.\u001b[0m\u001b[0mprovince\u001b[0m\u001b[1;33m.\u001b[0m\u001b[0misna\u001b[0m\u001b[1;33m(\u001b[0m\u001b[1;33m)\u001b[0m\u001b[1;33m.\u001b[0m\u001b[0msum\u001b[0m\u001b[1;33m(\u001b[0m\u001b[1;33m)\u001b[0m\u001b[1;33m\u001b[0m\u001b[1;33m\u001b[0m\u001b[0m\n\u001b[0m",
      "\u001b[1;31mNameError\u001b[0m: name 'donors' is not defined"
     ]
    }
   ],
   "source": [
    "donors.province.isna().sum()"
   ]
  },
  {
   "cell_type": "code",
   "execution_count": 4,
   "metadata": {},
   "outputs": [
    {
     "ename": "NameError",
     "evalue": "name 'donors' is not defined",
     "output_type": "error",
     "traceback": [
      "\u001b[1;31m---------------------------------------------------------------------------\u001b[0m",
      "\u001b[1;31mNameError\u001b[0m                                 Traceback (most recent call last)",
      "\u001b[1;32m<ipython-input-4-ede0c17b073a>\u001b[0m in \u001b[0;36m<module>\u001b[1;34m\u001b[0m\n\u001b[1;32m----> 1\u001b[1;33m \u001b[0mdonors\u001b[0m\u001b[1;33m.\u001b[0m\u001b[0misna\u001b[0m\u001b[1;33m(\u001b[0m\u001b[1;33m)\u001b[0m\u001b[1;33m.\u001b[0m\u001b[0msum\u001b[0m\u001b[1;33m(\u001b[0m\u001b[1;33m)\u001b[0m\u001b[1;33m\u001b[0m\u001b[1;33m\u001b[0m\u001b[0m\n\u001b[0m",
      "\u001b[1;31mNameError\u001b[0m: name 'donors' is not defined"
     ]
    }
   ],
   "source": [
    "donors.isna().sum()"
   ]
  },
  {
   "cell_type": "code",
   "execution_count": 154,
   "metadata": {},
   "outputs": [
    {
     "name": "stdout",
     "output_type": "stream",
     "text": [
      "       donorID  zipcode province   region gender language dateOfBirth\n",
      "5019    105020      NaN  Missing  Missing      M       EN  1966-11-09\n",
      "22100   122101      NaN  Missing  Missing      F       EN  1975-10-31\n"
     ]
    }
   ],
   "source": [
    "print(donors[donors[\"zipcode\"].isnull()])"
   ]
  },
  {
   "cell_type": "code",
   "execution_count": 155,
   "metadata": {},
   "outputs": [
    {
     "data": {
      "text/plain": [
       "2"
      ]
     },
     "execution_count": 155,
     "metadata": {},
     "output_type": "execute_result"
    }
   ],
   "source": [
    "donors[\"zipcode\"].isna().sum()"
   ]
  },
  {
   "cell_type": "code",
   "execution_count": 156,
   "metadata": {},
   "outputs": [],
   "source": [
    "donors = donors.drop([5019, 22100])"
   ]
  },
  {
   "cell_type": "code",
   "execution_count": 157,
   "metadata": {},
   "outputs": [
    {
     "data": {
      "text/plain": [
       "0"
      ]
     },
     "execution_count": 157,
     "metadata": {},
     "output_type": "execute_result"
    }
   ],
   "source": [
    "donors[\"zipcode\"].isna().sum()"
   ]
  },
  {
   "cell_type": "code",
   "execution_count": 158,
   "metadata": {},
   "outputs": [
    {
     "data": {
      "text/plain": [
       "0"
      ]
     },
     "execution_count": 158,
     "metadata": {},
     "output_type": "execute_result"
    }
   ],
   "source": [
    "donors[\"province\"].isna().sum()"
   ]
  },
  {
   "cell_type": "code",
   "execution_count": 159,
   "metadata": {},
   "outputs": [
    {
     "data": {
      "text/plain": [
       "0"
      ]
     },
     "execution_count": 159,
     "metadata": {},
     "output_type": "execute_result"
    }
   ],
   "source": [
    "donors[\"region\"].isna().sum()"
   ]
  },
  {
   "cell_type": "code",
   "execution_count": 160,
   "metadata": {},
   "outputs": [
    {
     "data": {
      "text/plain": [
       "44689"
      ]
     },
     "execution_count": 160,
     "metadata": {},
     "output_type": "execute_result"
    }
   ],
   "source": [
    "population_size = len(donors)\n",
    "population_size"
   ]
  },
  {
   "cell_type": "code",
   "execution_count": 161,
   "metadata": {
    "scrolled": true
   },
   "outputs": [
    {
     "data": {
      "text/html": [
       "<div>\n",
       "<style scoped>\n",
       "    .dataframe tbody tr th:only-of-type {\n",
       "        vertical-align: middle;\n",
       "    }\n",
       "\n",
       "    .dataframe tbody tr th {\n",
       "        vertical-align: top;\n",
       "    }\n",
       "\n",
       "    .dataframe thead th {\n",
       "        text-align: right;\n",
       "    }\n",
       "</style>\n",
       "<table border=\"1\" class=\"dataframe\">\n",
       "  <thead>\n",
       "    <tr style=\"text-align: right;\">\n",
       "      <th></th>\n",
       "      <th>donorID</th>\n",
       "      <th>campaignID</th>\n",
       "      <th>amount</th>\n",
       "      <th>date</th>\n",
       "    </tr>\n",
       "  </thead>\n",
       "  <tbody>\n",
       "    <tr>\n",
       "      <th>0</th>\n",
       "      <td>100001</td>\n",
       "      <td>NaN</td>\n",
       "      <td>12.39</td>\n",
       "      <td>2004-03-23</td>\n",
       "    </tr>\n",
       "    <tr>\n",
       "      <th>1</th>\n",
       "      <td>100001</td>\n",
       "      <td>1577.0</td>\n",
       "      <td>12.39</td>\n",
       "      <td>2007-10-11</td>\n",
       "    </tr>\n",
       "    <tr>\n",
       "      <th>2</th>\n",
       "      <td>100001</td>\n",
       "      <td>1634.0</td>\n",
       "      <td>6.69</td>\n",
       "      <td>2007-12-28</td>\n",
       "    </tr>\n",
       "    <tr>\n",
       "      <th>3</th>\n",
       "      <td>100001</td>\n",
       "      <td>1778.0</td>\n",
       "      <td>24.79</td>\n",
       "      <td>2008-06-14</td>\n",
       "    </tr>\n",
       "    <tr>\n",
       "      <th>4</th>\n",
       "      <td>100001</td>\n",
       "      <td>1808.0</td>\n",
       "      <td>7.44</td>\n",
       "      <td>2008-07-09</td>\n",
       "    </tr>\n",
       "  </tbody>\n",
       "</table>\n",
       "</div>"
      ],
      "text/plain": [
       "   donorID  campaignID  amount        date\n",
       "0   100001         NaN   12.39  2004-03-23\n",
       "1   100001      1577.0   12.39  2007-10-11\n",
       "2   100001      1634.0    6.69  2007-12-28\n",
       "3   100001      1778.0   24.79  2008-06-14\n",
       "4   100001      1808.0    7.44  2008-07-09"
      ]
     },
     "execution_count": 161,
     "metadata": {},
     "output_type": "execute_result"
    }
   ],
   "source": [
    "gifts = pd.read_csv('gifts.csv', sep=\";\")\n",
    "gifts.head()"
   ]
  },
  {
   "cell_type": "code",
   "execution_count": 162,
   "metadata": {},
   "outputs": [
    {
     "data": {
      "text/plain": [
       "(216594, 4)"
      ]
     },
     "execution_count": 162,
     "metadata": {},
     "output_type": "execute_result"
    }
   ],
   "source": [
    "gifts.shape"
   ]
  },
  {
   "cell_type": "code",
   "execution_count": 163,
   "metadata": {},
   "outputs": [
    {
     "data": {
      "text/plain": [
       "donorID           0\n",
       "campaignID    15637\n",
       "amount            0\n",
       "date              0\n",
       "dtype: int64"
      ]
     },
     "execution_count": 163,
     "metadata": {},
     "output_type": "execute_result"
    }
   ],
   "source": [
    "gifts.isna().sum()"
   ]
  },
  {
   "cell_type": "code",
   "execution_count": 164,
   "metadata": {},
   "outputs": [
    {
     "data": {
      "text/html": [
       "<div>\n",
       "<style scoped>\n",
       "    .dataframe tbody tr th:only-of-type {\n",
       "        vertical-align: middle;\n",
       "    }\n",
       "\n",
       "    .dataframe tbody tr th {\n",
       "        vertical-align: top;\n",
       "    }\n",
       "\n",
       "    .dataframe thead th {\n",
       "        text-align: right;\n",
       "    }\n",
       "</style>\n",
       "<table border=\"1\" class=\"dataframe\">\n",
       "  <thead>\n",
       "    <tr style=\"text-align: right;\">\n",
       "      <th></th>\n",
       "      <th>donorID</th>\n",
       "      <th>campaignID</th>\n",
       "      <th>amount</th>\n",
       "      <th>date</th>\n",
       "    </tr>\n",
       "  </thead>\n",
       "  <tbody>\n",
       "    <tr>\n",
       "      <th>0</th>\n",
       "      <td>100001</td>\n",
       "      <td>NaN</td>\n",
       "      <td>12.39</td>\n",
       "      <td>2004-03-23</td>\n",
       "    </tr>\n",
       "    <tr>\n",
       "      <th>1</th>\n",
       "      <td>100001</td>\n",
       "      <td>1577.0</td>\n",
       "      <td>12.39</td>\n",
       "      <td>2007-10-11</td>\n",
       "    </tr>\n",
       "    <tr>\n",
       "      <th>2</th>\n",
       "      <td>100001</td>\n",
       "      <td>1634.0</td>\n",
       "      <td>6.69</td>\n",
       "      <td>2007-12-28</td>\n",
       "    </tr>\n",
       "    <tr>\n",
       "      <th>3</th>\n",
       "      <td>100001</td>\n",
       "      <td>1778.0</td>\n",
       "      <td>24.79</td>\n",
       "      <td>2008-06-14</td>\n",
       "    </tr>\n",
       "    <tr>\n",
       "      <th>4</th>\n",
       "      <td>100001</td>\n",
       "      <td>1808.0</td>\n",
       "      <td>7.44</td>\n",
       "      <td>2008-07-09</td>\n",
       "    </tr>\n",
       "  </tbody>\n",
       "</table>\n",
       "</div>"
      ],
      "text/plain": [
       "   donorID  campaignID  amount       date\n",
       "0   100001         NaN   12.39 2004-03-23\n",
       "1   100001      1577.0   12.39 2007-10-11\n",
       "2   100001      1634.0    6.69 2007-12-28\n",
       "3   100001      1778.0   24.79 2008-06-14\n",
       "4   100001      1808.0    7.44 2008-07-09"
      ]
     },
     "execution_count": 164,
     "metadata": {},
     "output_type": "execute_result"
    }
   ],
   "source": [
    "gifts[\"date\"] = pd.to_datetime(gifts[\"date\"])\n",
    "gifts.head()"
   ]
  },
  {
   "cell_type": "code",
   "execution_count": 165,
   "metadata": {},
   "outputs": [
    {
     "data": {
      "text/plain": [
       "(216594, 4)"
      ]
     },
     "execution_count": 165,
     "metadata": {},
     "output_type": "execute_result"
    }
   ],
   "source": [
    "gifts.shape"
   ]
  },
  {
   "cell_type": "code",
   "execution_count": 166,
   "metadata": {},
   "outputs": [
    {
     "data": {
      "text/plain": [
       "57.50711648522261"
      ]
     },
     "execution_count": 166,
     "metadata": {},
     "output_type": "execute_result"
    }
   ],
   "source": [
    "gifts['amount'].mean()"
   ]
  },
  {
   "cell_type": "code",
   "execution_count": 167,
   "metadata": {},
   "outputs": [
    {
     "data": {
      "text/plain": [
       "33.390663289429206"
      ]
     },
     "execution_count": 167,
     "metadata": {},
     "output_type": "execute_result"
    }
   ],
   "source": [
    "gifts[gifts[\"date\"].dt.year==2019]['amount'].mean()"
   ]
  },
  {
   "cell_type": "code",
   "execution_count": 168,
   "metadata": {},
   "outputs": [
    {
     "data": {
      "text/plain": [
       "numpy.datetime64('2000-06-05T00:00:00.000000000')"
      ]
     },
     "execution_count": 168,
     "metadata": {},
     "output_type": "execute_result"
    }
   ],
   "source": [
    "min(gifts[\"date\"].unique())"
   ]
  },
  {
   "cell_type": "code",
   "execution_count": 169,
   "metadata": {},
   "outputs": [
    {
     "data": {
      "text/plain": [
       "numpy.datetime64('2020-01-04T00:00:00.000000000')"
      ]
     },
     "execution_count": 169,
     "metadata": {},
     "output_type": "execute_result"
    }
   ],
   "source": [
    "max(gifts[\"date\"].unique())"
   ]
  },
  {
   "cell_type": "markdown",
   "metadata": {},
   "source": [
    "## DEFINE TARGET"
   ]
  },
  {
   "cell_type": "markdown",
   "metadata": {},
   "source": [
    "### -  Target Training set"
   ]
  },
  {
   "cell_type": "code",
   "execution_count": 170,
   "metadata": {},
   "outputs": [
    {
     "name": "stdout",
     "output_type": "stream",
     "text": [
      "1191\n"
     ]
    }
   ],
   "source": [
    "#select donors from campaign 6169\n",
    "gifts_target_training = gifts[gifts[\"campaignID\"] == 6169]\n",
    "\n",
    "print(len(gifts_target_training))\n"
   ]
  },
  {
   "cell_type": "code",
   "execution_count": 171,
   "metadata": {
    "scrolled": false
   },
   "outputs": [
    {
     "name": "stdout",
     "output_type": "stream",
     "text": [
      "1191\n"
     ]
    },
    {
     "data": {
      "text/html": [
       "<div>\n",
       "<style scoped>\n",
       "    .dataframe tbody tr th:only-of-type {\n",
       "        vertical-align: middle;\n",
       "    }\n",
       "\n",
       "    .dataframe tbody tr th {\n",
       "        vertical-align: top;\n",
       "    }\n",
       "\n",
       "    .dataframe thead th {\n",
       "        text-align: right;\n",
       "    }\n",
       "</style>\n",
       "<table border=\"1\" class=\"dataframe\">\n",
       "  <thead>\n",
       "    <tr style=\"text-align: right;\">\n",
       "      <th></th>\n",
       "      <th>donorID</th>\n",
       "      <th>amount</th>\n",
       "    </tr>\n",
       "  </thead>\n",
       "  <tbody>\n",
       "    <tr>\n",
       "      <th>0</th>\n",
       "      <td>100023</td>\n",
       "      <td>15.0</td>\n",
       "    </tr>\n",
       "    <tr>\n",
       "      <th>1</th>\n",
       "      <td>100126</td>\n",
       "      <td>123.0</td>\n",
       "    </tr>\n",
       "    <tr>\n",
       "      <th>2</th>\n",
       "      <td>100253</td>\n",
       "      <td>120.0</td>\n",
       "    </tr>\n",
       "    <tr>\n",
       "      <th>3</th>\n",
       "      <td>100279</td>\n",
       "      <td>75.0</td>\n",
       "    </tr>\n",
       "    <tr>\n",
       "      <th>4</th>\n",
       "      <td>100320</td>\n",
       "      <td>135.0</td>\n",
       "    </tr>\n",
       "  </tbody>\n",
       "</table>\n",
       "</div>"
      ],
      "text/plain": [
       "   donorID  amount\n",
       "0   100023    15.0\n",
       "1   100126   123.0\n",
       "2   100253   120.0\n",
       "3   100279    75.0\n",
       "4   100320   135.0"
      ]
     },
     "execution_count": 171,
     "metadata": {},
     "output_type": "execute_result"
    }
   ],
   "source": [
    "target_training = gifts_target_training.groupby([\"donorID\"])[\"amount\"].sum().reset_index()\n",
    "target_training.columns = [\"donorID\", \"amount\"]\n",
    "print(len(target_training))\n",
    "target_training.head()"
   ]
  },
  {
   "cell_type": "markdown",
   "metadata": {},
   "source": [
    "### - Target Test set"
   ]
  },
  {
   "cell_type": "code",
   "execution_count": 172,
   "metadata": {},
   "outputs": [
    {
     "name": "stdout",
     "output_type": "stream",
     "text": [
      "361\n"
     ]
    }
   ],
   "source": [
    "#select donors from campaign 7244\n",
    "gifts_target_test = gifts[gifts[\"campaignID\"] == 7244]\n",
    "print(len(gifts_target_test))"
   ]
  },
  {
   "cell_type": "code",
   "execution_count": 173,
   "metadata": {},
   "outputs": [
    {
     "name": "stdout",
     "output_type": "stream",
     "text": [
      "361\n"
     ]
    },
    {
     "data": {
      "text/html": [
       "<div>\n",
       "<style scoped>\n",
       "    .dataframe tbody tr th:only-of-type {\n",
       "        vertical-align: middle;\n",
       "    }\n",
       "\n",
       "    .dataframe tbody tr th {\n",
       "        vertical-align: top;\n",
       "    }\n",
       "\n",
       "    .dataframe thead th {\n",
       "        text-align: right;\n",
       "    }\n",
       "</style>\n",
       "<table border=\"1\" class=\"dataframe\">\n",
       "  <thead>\n",
       "    <tr style=\"text-align: right;\">\n",
       "      <th></th>\n",
       "      <th>donorID</th>\n",
       "      <th>amount</th>\n",
       "    </tr>\n",
       "  </thead>\n",
       "  <tbody>\n",
       "    <tr>\n",
       "      <th>0</th>\n",
       "      <td>100724</td>\n",
       "      <td>40.0</td>\n",
       "    </tr>\n",
       "    <tr>\n",
       "      <th>1</th>\n",
       "      <td>100896</td>\n",
       "      <td>10.0</td>\n",
       "    </tr>\n",
       "    <tr>\n",
       "      <th>2</th>\n",
       "      <td>100964</td>\n",
       "      <td>100.0</td>\n",
       "    </tr>\n",
       "    <tr>\n",
       "      <th>3</th>\n",
       "      <td>101066</td>\n",
       "      <td>60.0</td>\n",
       "    </tr>\n",
       "    <tr>\n",
       "      <th>4</th>\n",
       "      <td>101069</td>\n",
       "      <td>80.0</td>\n",
       "    </tr>\n",
       "  </tbody>\n",
       "</table>\n",
       "</div>"
      ],
      "text/plain": [
       "   donorID  amount\n",
       "0   100724    40.0\n",
       "1   100896    10.0\n",
       "2   100964   100.0\n",
       "3   101066    60.0\n",
       "4   101069    80.0"
      ]
     },
     "execution_count": 173,
     "metadata": {},
     "output_type": "execute_result"
    }
   ],
   "source": [
    "target_test = gifts_target_test.groupby([\"donorID\"])[\"amount\"].sum().reset_index()\n",
    "target_test.columns = [\"donorID\", \"amount\"]\n",
    "print(len(target_test))\n",
    "target_test.head()"
   ]
  },
  {
   "cell_type": "markdown",
   "metadata": {},
   "source": [
    "## CREATE BASE TABLE"
   ]
  },
  {
   "cell_type": "markdown",
   "metadata": {},
   "source": [
    "### - Predictive variables training set"
   ]
  },
  {
   "cell_type": "code",
   "execution_count": 35,
   "metadata": {},
   "outputs": [
    {
     "name": "stdout",
     "output_type": "stream",
     "text": [
      "208334\n"
     ]
    }
   ],
   "source": [
    "#select historical data before the campaign 6169 started on 04-Sep-2018\n",
    "reference6169 = dt.datetime(year=2018, month=9, day=4)\n",
    "\n",
    "gifts_training = gifts[(gifts[\"date\"] < reference6169)]\n",
    "\n",
    "print(len(gifts_training))"
   ]
  },
  {
   "cell_type": "code",
   "execution_count": 36,
   "metadata": {
    "scrolled": true
   },
   "outputs": [
    {
     "data": {
      "text/html": [
       "<div>\n",
       "<style scoped>\n",
       "    .dataframe tbody tr th:only-of-type {\n",
       "        vertical-align: middle;\n",
       "    }\n",
       "\n",
       "    .dataframe tbody tr th {\n",
       "        vertical-align: top;\n",
       "    }\n",
       "\n",
       "    .dataframe thead th {\n",
       "        text-align: right;\n",
       "    }\n",
       "</style>\n",
       "<table border=\"1\" class=\"dataframe\">\n",
       "  <thead>\n",
       "    <tr style=\"text-align: right;\">\n",
       "      <th></th>\n",
       "      <th>donorID</th>\n",
       "      <th>max</th>\n",
       "      <th>min</th>\n",
       "      <th>mean</th>\n",
       "      <th>sum</th>\n",
       "      <th>count</th>\n",
       "    </tr>\n",
       "  </thead>\n",
       "  <tbody>\n",
       "    <tr>\n",
       "      <th>0</th>\n",
       "      <td>100001</td>\n",
       "      <td>30.00</td>\n",
       "      <td>6.69</td>\n",
       "      <td>14.874167</td>\n",
       "      <td>178.49</td>\n",
       "      <td>12</td>\n",
       "    </tr>\n",
       "    <tr>\n",
       "      <th>1</th>\n",
       "      <td>100002</td>\n",
       "      <td>20.00</td>\n",
       "      <td>20.00</td>\n",
       "      <td>20.000000</td>\n",
       "      <td>20.00</td>\n",
       "      <td>1</td>\n",
       "    </tr>\n",
       "    <tr>\n",
       "      <th>2</th>\n",
       "      <td>100003</td>\n",
       "      <td>5.00</td>\n",
       "      <td>3.00</td>\n",
       "      <td>3.600000</td>\n",
       "      <td>18.00</td>\n",
       "      <td>5</td>\n",
       "    </tr>\n",
       "    <tr>\n",
       "      <th>3</th>\n",
       "      <td>100004</td>\n",
       "      <td>49.58</td>\n",
       "      <td>24.79</td>\n",
       "      <td>27.546923</td>\n",
       "      <td>716.22</td>\n",
       "      <td>26</td>\n",
       "    </tr>\n",
       "    <tr>\n",
       "      <th>4</th>\n",
       "      <td>100005</td>\n",
       "      <td>5.00</td>\n",
       "      <td>2.48</td>\n",
       "      <td>3.740000</td>\n",
       "      <td>14.96</td>\n",
       "      <td>4</td>\n",
       "    </tr>\n",
       "  </tbody>\n",
       "</table>\n",
       "</div>"
      ],
      "text/plain": [
       "   donorID    max    min       mean     sum  count\n",
       "0   100001  30.00   6.69  14.874167  178.49     12\n",
       "1   100002  20.00  20.00  20.000000   20.00      1\n",
       "2   100003   5.00   3.00   3.600000   18.00      5\n",
       "3   100004  49.58  24.79  27.546923  716.22     26\n",
       "4   100005   5.00   2.48   3.740000   14.96      4"
      ]
     },
     "execution_count": 36,
     "metadata": {},
     "output_type": "execute_result"
    }
   ],
   "source": [
    "#Create aggregate variable\n",
    "basetable_training = gifts_training .groupby([\"donorID\"])[\"amount\"].agg(['max', 'min','mean','sum', 'count']).reset_index()\n",
    "basetable_training.head()"
   ]
  },
  {
   "cell_type": "code",
   "execution_count": 37,
   "metadata": {},
   "outputs": [],
   "source": [
    "# Latest gift per donor\n",
    "last_gift_training = gifts_training.groupby([\"donorID\"])[\"date\"].max().reset_index()\n",
    "last_gift_training[\"recency_days\"] = reference6169 - last_gift_training[\"date\"]   \n",
    "last_gift_training[\"recency_days\"] = last_gift_training.recency_days.apply(lambda x: x.days)\n",
    "# Add recency to the basetable\n",
    "basetable_training = pd.merge(basetable_training, last_gift_training[[\"donorID\", \"recency_days\"]], how=\"left\")"
   ]
  },
  {
   "cell_type": "code",
   "execution_count": 38,
   "metadata": {},
   "outputs": [
    {
     "data": {
      "text/html": [
       "<div>\n",
       "<style scoped>\n",
       "    .dataframe tbody tr th:only-of-type {\n",
       "        vertical-align: middle;\n",
       "    }\n",
       "\n",
       "    .dataframe tbody tr th {\n",
       "        vertical-align: top;\n",
       "    }\n",
       "\n",
       "    .dataframe thead th {\n",
       "        text-align: right;\n",
       "    }\n",
       "</style>\n",
       "<table border=\"1\" class=\"dataframe\">\n",
       "  <thead>\n",
       "    <tr style=\"text-align: right;\">\n",
       "      <th></th>\n",
       "      <th>donorID</th>\n",
       "      <th>max</th>\n",
       "      <th>min</th>\n",
       "      <th>mean</th>\n",
       "      <th>sum</th>\n",
       "      <th>count</th>\n",
       "      <th>recency_days</th>\n",
       "    </tr>\n",
       "  </thead>\n",
       "  <tbody>\n",
       "    <tr>\n",
       "      <th>0</th>\n",
       "      <td>100001</td>\n",
       "      <td>30.00</td>\n",
       "      <td>6.69</td>\n",
       "      <td>14.874167</td>\n",
       "      <td>178.49</td>\n",
       "      <td>12</td>\n",
       "      <td>2440</td>\n",
       "    </tr>\n",
       "    <tr>\n",
       "      <th>1</th>\n",
       "      <td>100002</td>\n",
       "      <td>20.00</td>\n",
       "      <td>20.00</td>\n",
       "      <td>20.000000</td>\n",
       "      <td>20.00</td>\n",
       "      <td>1</td>\n",
       "      <td>1333</td>\n",
       "    </tr>\n",
       "    <tr>\n",
       "      <th>2</th>\n",
       "      <td>100003</td>\n",
       "      <td>5.00</td>\n",
       "      <td>3.00</td>\n",
       "      <td>3.600000</td>\n",
       "      <td>18.00</td>\n",
       "      <td>5</td>\n",
       "      <td>58</td>\n",
       "    </tr>\n",
       "    <tr>\n",
       "      <th>3</th>\n",
       "      <td>100004</td>\n",
       "      <td>49.58</td>\n",
       "      <td>24.79</td>\n",
       "      <td>27.546923</td>\n",
       "      <td>716.22</td>\n",
       "      <td>26</td>\n",
       "      <td>2650</td>\n",
       "    </tr>\n",
       "    <tr>\n",
       "      <th>4</th>\n",
       "      <td>100005</td>\n",
       "      <td>5.00</td>\n",
       "      <td>2.48</td>\n",
       "      <td>3.740000</td>\n",
       "      <td>14.96</td>\n",
       "      <td>4</td>\n",
       "      <td>77</td>\n",
       "    </tr>\n",
       "  </tbody>\n",
       "</table>\n",
       "</div>"
      ],
      "text/plain": [
       "   donorID    max    min       mean     sum  count  recency_days\n",
       "0   100001  30.00   6.69  14.874167  178.49     12          2440\n",
       "1   100002  20.00  20.00  20.000000   20.00      1          1333\n",
       "2   100003   5.00   3.00   3.600000   18.00      5            58\n",
       "3   100004  49.58  24.79  27.546923  716.22     26          2650\n",
       "4   100005   5.00   2.48   3.740000   14.96      4            77"
      ]
     },
     "execution_count": 38,
     "metadata": {},
     "output_type": "execute_result"
    }
   ],
   "source": [
    "basetable_training.head()"
   ]
  },
  {
   "cell_type": "code",
   "execution_count": 39,
   "metadata": {
    "scrolled": true
   },
   "outputs": [],
   "source": [
    "reference = dt.datetime(2018, 9, 4)\n",
    "reference1 = dt.datetime(2018, 8, 4)\n",
    "\n",
    "#gifts last month\n",
    "gifts_last_month6169 = gifts_training[(gifts_training[\"date\"] < reference) & (gifts_training[\"date\"] >= reference1)]\n",
    "\n",
    "last_month6169 = gifts_last_month6169.groupby(\"donorID\")[\"amount\"].mean().reset_index()\n",
    "last_month6169.columns = [\"donorID\", \"last_month_mean\"]\n",
    "\n",
    "basetable_training = pd.merge(basetable_training, last_month6169, how='left', on='donorID')"
   ]
  },
  {
   "cell_type": "code",
   "execution_count": 40,
   "metadata": {},
   "outputs": [],
   "source": [
    "#Number of gifts in this period per donor\n",
    "reference = dt.datetime(2018, 9, 4)\n",
    "reference_y = dt.datetime(2017, 9, 4)\n",
    "\n",
    "#gifts year 1\n",
    "gifts_last_year6169 = gifts_training[(gifts_training[\"date\"] < reference) & (gifts_training[\"date\"] >= reference_y)]\n",
    "\n",
    "year1_gifts_6169 = gifts_last_year6169.groupby(\"donorID\")[\"amount\"].agg(['mean', 'count']).reset_index()\n",
    "year1_gifts_6169.columns = [\"donorID\", \"year1_mean\", \"year1_count\"]\n",
    "\n",
    "basetable_training = pd.merge(basetable_training, year1_gifts_6169, how='left', on='donorID' )\n"
   ]
  },
  {
   "cell_type": "code",
   "execution_count": 41,
   "metadata": {},
   "outputs": [
    {
     "data": {
      "text/html": [
       "<div>\n",
       "<style scoped>\n",
       "    .dataframe tbody tr th:only-of-type {\n",
       "        vertical-align: middle;\n",
       "    }\n",
       "\n",
       "    .dataframe tbody tr th {\n",
       "        vertical-align: top;\n",
       "    }\n",
       "\n",
       "    .dataframe thead th {\n",
       "        text-align: right;\n",
       "    }\n",
       "</style>\n",
       "<table border=\"1\" class=\"dataframe\">\n",
       "  <thead>\n",
       "    <tr style=\"text-align: right;\">\n",
       "      <th></th>\n",
       "      <th>donorID</th>\n",
       "      <th>max</th>\n",
       "      <th>min</th>\n",
       "      <th>mean</th>\n",
       "      <th>sum</th>\n",
       "      <th>count</th>\n",
       "      <th>recency_days</th>\n",
       "      <th>last_month_mean</th>\n",
       "      <th>year1_mean</th>\n",
       "      <th>year1_count</th>\n",
       "      <th>year2_mean</th>\n",
       "      <th>year2_count</th>\n",
       "    </tr>\n",
       "  </thead>\n",
       "  <tbody>\n",
       "    <tr>\n",
       "      <th>0</th>\n",
       "      <td>100001</td>\n",
       "      <td>30.00</td>\n",
       "      <td>6.69</td>\n",
       "      <td>14.874167</td>\n",
       "      <td>178.49</td>\n",
       "      <td>12</td>\n",
       "      <td>2440</td>\n",
       "      <td>NaN</td>\n",
       "      <td>NaN</td>\n",
       "      <td>NaN</td>\n",
       "      <td>NaN</td>\n",
       "      <td>NaN</td>\n",
       "    </tr>\n",
       "    <tr>\n",
       "      <th>1</th>\n",
       "      <td>100002</td>\n",
       "      <td>20.00</td>\n",
       "      <td>20.00</td>\n",
       "      <td>20.000000</td>\n",
       "      <td>20.00</td>\n",
       "      <td>1</td>\n",
       "      <td>1333</td>\n",
       "      <td>NaN</td>\n",
       "      <td>NaN</td>\n",
       "      <td>NaN</td>\n",
       "      <td>NaN</td>\n",
       "      <td>NaN</td>\n",
       "    </tr>\n",
       "    <tr>\n",
       "      <th>2</th>\n",
       "      <td>100003</td>\n",
       "      <td>5.00</td>\n",
       "      <td>3.00</td>\n",
       "      <td>3.600000</td>\n",
       "      <td>18.00</td>\n",
       "      <td>5</td>\n",
       "      <td>58</td>\n",
       "      <td>NaN</td>\n",
       "      <td>3.333333</td>\n",
       "      <td>3.0</td>\n",
       "      <td>4.0</td>\n",
       "      <td>2.0</td>\n",
       "    </tr>\n",
       "    <tr>\n",
       "      <th>3</th>\n",
       "      <td>100004</td>\n",
       "      <td>49.58</td>\n",
       "      <td>24.79</td>\n",
       "      <td>27.546923</td>\n",
       "      <td>716.22</td>\n",
       "      <td>26</td>\n",
       "      <td>2650</td>\n",
       "      <td>NaN</td>\n",
       "      <td>NaN</td>\n",
       "      <td>NaN</td>\n",
       "      <td>NaN</td>\n",
       "      <td>NaN</td>\n",
       "    </tr>\n",
       "    <tr>\n",
       "      <th>4</th>\n",
       "      <td>100005</td>\n",
       "      <td>5.00</td>\n",
       "      <td>2.48</td>\n",
       "      <td>3.740000</td>\n",
       "      <td>14.96</td>\n",
       "      <td>4</td>\n",
       "      <td>77</td>\n",
       "      <td>NaN</td>\n",
       "      <td>5.000000</td>\n",
       "      <td>1.0</td>\n",
       "      <td>5.0</td>\n",
       "      <td>1.0</td>\n",
       "    </tr>\n",
       "  </tbody>\n",
       "</table>\n",
       "</div>"
      ],
      "text/plain": [
       "   donorID    max    min       mean     sum  count  recency_days  \\\n",
       "0   100001  30.00   6.69  14.874167  178.49     12          2440   \n",
       "1   100002  20.00  20.00  20.000000   20.00      1          1333   \n",
       "2   100003   5.00   3.00   3.600000   18.00      5            58   \n",
       "3   100004  49.58  24.79  27.546923  716.22     26          2650   \n",
       "4   100005   5.00   2.48   3.740000   14.96      4            77   \n",
       "\n",
       "   last_month_mean  year1_mean  year1_count  year2_mean  year2_count  \n",
       "0              NaN         NaN          NaN         NaN          NaN  \n",
       "1              NaN         NaN          NaN         NaN          NaN  \n",
       "2              NaN    3.333333          3.0         4.0          2.0  \n",
       "3              NaN         NaN          NaN         NaN          NaN  \n",
       "4              NaN    5.000000          1.0         5.0          1.0  "
      ]
     },
     "execution_count": 41,
     "metadata": {},
     "output_type": "execute_result"
    }
   ],
   "source": [
    "#Number of gifts in this period per donor\n",
    "reference_y1 = dt.datetime(2017, 9, 4)\n",
    "reference_y2 = dt.datetime(2016, 9, 4)\n",
    "\n",
    "#gifts last month\n",
    "gifts_year2_6169 = gifts_training[(gifts_training[\"date\"] < reference_y1) & (gifts_training[\"date\"] >= reference_y2)]\n",
    "\n",
    "year2_6169  = gifts_year2_6169.groupby(\"donorID\")[\"amount\"].agg(['mean', 'count']).reset_index()\n",
    "year2_6169 .columns = [\"donorID\", \"year2_mean\", \"year2_count\"]\n",
    "\n",
    "basetable_training = pd.merge(basetable_training, year2_6169, how='left', on='donorID' )\n",
    "basetable_training.head()"
   ]
  },
  {
   "cell_type": "code",
   "execution_count": 42,
   "metadata": {
    "scrolled": true
   },
   "outputs": [
    {
     "data": {
      "text/html": [
       "<div>\n",
       "<style scoped>\n",
       "    .dataframe tbody tr th:only-of-type {\n",
       "        vertical-align: middle;\n",
       "    }\n",
       "\n",
       "    .dataframe tbody tr th {\n",
       "        vertical-align: top;\n",
       "    }\n",
       "\n",
       "    .dataframe thead th {\n",
       "        text-align: right;\n",
       "    }\n",
       "</style>\n",
       "<table border=\"1\" class=\"dataframe\">\n",
       "  <thead>\n",
       "    <tr style=\"text-align: right;\">\n",
       "      <th></th>\n",
       "      <th>donorID</th>\n",
       "      <th>max</th>\n",
       "      <th>min</th>\n",
       "      <th>mean</th>\n",
       "      <th>sum</th>\n",
       "      <th>count</th>\n",
       "      <th>recency_days</th>\n",
       "      <th>last_month_mean</th>\n",
       "      <th>year1_mean</th>\n",
       "      <th>year1_count</th>\n",
       "      <th>year2_mean</th>\n",
       "      <th>year2_count</th>\n",
       "      <th>ratio_month_year</th>\n",
       "      <th>ratio_year2year_mean</th>\n",
       "      <th>ratio_year2year_count</th>\n",
       "    </tr>\n",
       "  </thead>\n",
       "  <tbody>\n",
       "    <tr>\n",
       "      <th>0</th>\n",
       "      <td>100001</td>\n",
       "      <td>30.0</td>\n",
       "      <td>6.69</td>\n",
       "      <td>14.874167</td>\n",
       "      <td>178.49</td>\n",
       "      <td>12</td>\n",
       "      <td>2440</td>\n",
       "      <td>NaN</td>\n",
       "      <td>NaN</td>\n",
       "      <td>NaN</td>\n",
       "      <td>NaN</td>\n",
       "      <td>NaN</td>\n",
       "      <td>NaN</td>\n",
       "      <td>NaN</td>\n",
       "      <td>NaN</td>\n",
       "    </tr>\n",
       "    <tr>\n",
       "      <th>1</th>\n",
       "      <td>100002</td>\n",
       "      <td>20.0</td>\n",
       "      <td>20.00</td>\n",
       "      <td>20.000000</td>\n",
       "      <td>20.00</td>\n",
       "      <td>1</td>\n",
       "      <td>1333</td>\n",
       "      <td>NaN</td>\n",
       "      <td>NaN</td>\n",
       "      <td>NaN</td>\n",
       "      <td>NaN</td>\n",
       "      <td>NaN</td>\n",
       "      <td>NaN</td>\n",
       "      <td>NaN</td>\n",
       "      <td>NaN</td>\n",
       "    </tr>\n",
       "  </tbody>\n",
       "</table>\n",
       "</div>"
      ],
      "text/plain": [
       "   donorID   max    min       mean     sum  count  recency_days  \\\n",
       "0   100001  30.0   6.69  14.874167  178.49     12          2440   \n",
       "1   100002  20.0  20.00  20.000000   20.00      1          1333   \n",
       "\n",
       "   last_month_mean  year1_mean  year1_count  year2_mean  year2_count  \\\n",
       "0              NaN         NaN          NaN         NaN          NaN   \n",
       "1              NaN         NaN          NaN         NaN          NaN   \n",
       "\n",
       "   ratio_month_year  ratio_year2year_mean  ratio_year2year_count  \n",
       "0               NaN                   NaN                    NaN  \n",
       "1               NaN                   NaN                    NaN  "
      ]
     },
     "execution_count": 42,
     "metadata": {},
     "output_type": "execute_result"
    }
   ],
   "source": [
    "#create different ratio :last month over the mean of past year donation\n",
    "basetable_training[\"ratio_month_year\"] = basetable_training[\"last_month_mean\"] / basetable_training[\"year1_mean\"]\n",
    "#year to year donation ratio\n",
    "basetable_training[\"ratio_year2year_mean\"] = basetable_training[\"year1_mean\"] / basetable_training[\"year2_mean\"]\n",
    "basetable_training[\"ratio_year2year_count\"] = basetable_training[\"year1_count\"] / basetable_training[\"year2_count\"]\n",
    "basetable_training.head(2)"
   ]
  },
  {
   "cell_type": "code",
   "execution_count": 43,
   "metadata": {
    "scrolled": false
   },
   "outputs": [
    {
     "data": {
      "text/html": [
       "<div>\n",
       "<style scoped>\n",
       "    .dataframe tbody tr th:only-of-type {\n",
       "        vertical-align: middle;\n",
       "    }\n",
       "\n",
       "    .dataframe tbody tr th {\n",
       "        vertical-align: top;\n",
       "    }\n",
       "\n",
       "    .dataframe thead th {\n",
       "        text-align: right;\n",
       "    }\n",
       "</style>\n",
       "<table border=\"1\" class=\"dataframe\">\n",
       "  <thead>\n",
       "    <tr style=\"text-align: right;\">\n",
       "      <th></th>\n",
       "      <th>donorID</th>\n",
       "      <th>max</th>\n",
       "      <th>min</th>\n",
       "      <th>mean</th>\n",
       "      <th>sum</th>\n",
       "      <th>count</th>\n",
       "      <th>recency_days</th>\n",
       "      <th>last_month_mean</th>\n",
       "      <th>year1_mean</th>\n",
       "      <th>year1_count</th>\n",
       "      <th>year2_mean</th>\n",
       "      <th>year2_count</th>\n",
       "      <th>ratio_month_year</th>\n",
       "      <th>ratio_year2year_mean</th>\n",
       "      <th>ratio_year2year_count</th>\n",
       "    </tr>\n",
       "  </thead>\n",
       "  <tbody>\n",
       "    <tr>\n",
       "      <th>0</th>\n",
       "      <td>100001</td>\n",
       "      <td>30.00</td>\n",
       "      <td>6.69</td>\n",
       "      <td>14.874167</td>\n",
       "      <td>178.49</td>\n",
       "      <td>12</td>\n",
       "      <td>2440</td>\n",
       "      <td>NaN</td>\n",
       "      <td>NaN</td>\n",
       "      <td>NaN</td>\n",
       "      <td>NaN</td>\n",
       "      <td>NaN</td>\n",
       "      <td>NaN</td>\n",
       "      <td>NaN</td>\n",
       "      <td>NaN</td>\n",
       "    </tr>\n",
       "    <tr>\n",
       "      <th>1</th>\n",
       "      <td>100002</td>\n",
       "      <td>20.00</td>\n",
       "      <td>20.00</td>\n",
       "      <td>20.000000</td>\n",
       "      <td>20.00</td>\n",
       "      <td>1</td>\n",
       "      <td>1333</td>\n",
       "      <td>NaN</td>\n",
       "      <td>NaN</td>\n",
       "      <td>NaN</td>\n",
       "      <td>NaN</td>\n",
       "      <td>NaN</td>\n",
       "      <td>NaN</td>\n",
       "      <td>NaN</td>\n",
       "      <td>NaN</td>\n",
       "    </tr>\n",
       "    <tr>\n",
       "      <th>2</th>\n",
       "      <td>100003</td>\n",
       "      <td>5.00</td>\n",
       "      <td>3.00</td>\n",
       "      <td>3.600000</td>\n",
       "      <td>18.00</td>\n",
       "      <td>5</td>\n",
       "      <td>58</td>\n",
       "      <td>NaN</td>\n",
       "      <td>3.333333</td>\n",
       "      <td>3.0</td>\n",
       "      <td>4.0</td>\n",
       "      <td>2.0</td>\n",
       "      <td>NaN</td>\n",
       "      <td>0.833333</td>\n",
       "      <td>1.5</td>\n",
       "    </tr>\n",
       "    <tr>\n",
       "      <th>3</th>\n",
       "      <td>100004</td>\n",
       "      <td>49.58</td>\n",
       "      <td>24.79</td>\n",
       "      <td>27.546923</td>\n",
       "      <td>716.22</td>\n",
       "      <td>26</td>\n",
       "      <td>2650</td>\n",
       "      <td>NaN</td>\n",
       "      <td>NaN</td>\n",
       "      <td>NaN</td>\n",
       "      <td>NaN</td>\n",
       "      <td>NaN</td>\n",
       "      <td>NaN</td>\n",
       "      <td>NaN</td>\n",
       "      <td>NaN</td>\n",
       "    </tr>\n",
       "    <tr>\n",
       "      <th>4</th>\n",
       "      <td>100005</td>\n",
       "      <td>5.00</td>\n",
       "      <td>2.48</td>\n",
       "      <td>3.740000</td>\n",
       "      <td>14.96</td>\n",
       "      <td>4</td>\n",
       "      <td>77</td>\n",
       "      <td>NaN</td>\n",
       "      <td>5.000000</td>\n",
       "      <td>1.0</td>\n",
       "      <td>5.0</td>\n",
       "      <td>1.0</td>\n",
       "      <td>NaN</td>\n",
       "      <td>1.000000</td>\n",
       "      <td>1.0</td>\n",
       "    </tr>\n",
       "  </tbody>\n",
       "</table>\n",
       "</div>"
      ],
      "text/plain": [
       "   donorID    max    min       mean     sum  count  recency_days  \\\n",
       "0   100001  30.00   6.69  14.874167  178.49     12          2440   \n",
       "1   100002  20.00  20.00  20.000000   20.00      1          1333   \n",
       "2   100003   5.00   3.00   3.600000   18.00      5            58   \n",
       "3   100004  49.58  24.79  27.546923  716.22     26          2650   \n",
       "4   100005   5.00   2.48   3.740000   14.96      4            77   \n",
       "\n",
       "   last_month_mean  year1_mean  year1_count  year2_mean  year2_count  \\\n",
       "0              NaN         NaN          NaN         NaN          NaN   \n",
       "1              NaN         NaN          NaN         NaN          NaN   \n",
       "2              NaN    3.333333          3.0         4.0          2.0   \n",
       "3              NaN         NaN          NaN         NaN          NaN   \n",
       "4              NaN    5.000000          1.0         5.0          1.0   \n",
       "\n",
       "   ratio_month_year  ratio_year2year_mean  ratio_year2year_count  \n",
       "0               NaN                   NaN                    NaN  \n",
       "1               NaN                   NaN                    NaN  \n",
       "2               NaN              0.833333                    1.5  \n",
       "3               NaN                   NaN                    NaN  \n",
       "4               NaN              1.000000                    1.0  "
      ]
     },
     "execution_count": 43,
     "metadata": {},
     "output_type": "execute_result"
    }
   ],
   "source": [
    "basetable_training.head()"
   ]
  },
  {
   "cell_type": "code",
   "execution_count": 44,
   "metadata": {},
   "outputs": [],
   "source": [
    "#create donors segmentation\n",
    "basetable_training['segment'] = ''\n",
    "\n",
    "for i in range(len(basetable_training)):\n",
    "    if (basetable_training['mean'][i] > 1.5*(gifts_training[\"amount\"].mean())) & (basetable_training['count'][i]>=5):\n",
    "        basetable_training['segment'][i] = 'Gold'\n",
    "    elif (basetable_training['mean'][i] >= (gifts_training[\"amount\"].mean())) & (basetable_training['count'][i]>=3):\n",
    "        basetable_training['segment'][i] = 'Silver'\n",
    "    elif (basetable_training['mean'][i] > 0.5*(gifts_training[\"amount\"].mean())) & (basetable_training['count'][i]>=3):\n",
    "        basetable_training['segment'][i] = 'Bronze'\n",
    "    else:\n",
    "        basetable_training['segment'][i] = 'Regular'"
   ]
  },
  {
   "cell_type": "code",
   "execution_count": 45,
   "metadata": {},
   "outputs": [],
   "source": [
    "gold_pop = basetable_training[basetable_training['segment']=='Gold']\n",
    "silver_pop = basetable_training[basetable_training['segment']=='Silver']\n",
    "bronze_pop = basetable_training[basetable_training['segment']=='Bronze']"
   ]
  },
  {
   "cell_type": "code",
   "execution_count": 46,
   "metadata": {},
   "outputs": [],
   "source": [
    "donors[\"dateOfBirth\"] = pd.to_datetime(donors[\"dateOfBirth\"])"
   ]
  },
  {
   "cell_type": "code",
   "execution_count": 47,
   "metadata": {},
   "outputs": [
    {
     "data": {
      "text/html": [
       "<div>\n",
       "<style scoped>\n",
       "    .dataframe tbody tr th:only-of-type {\n",
       "        vertical-align: middle;\n",
       "    }\n",
       "\n",
       "    .dataframe tbody tr th {\n",
       "        vertical-align: top;\n",
       "    }\n",
       "\n",
       "    .dataframe thead th {\n",
       "        text-align: right;\n",
       "    }\n",
       "</style>\n",
       "<table border=\"1\" class=\"dataframe\">\n",
       "  <thead>\n",
       "    <tr style=\"text-align: right;\">\n",
       "      <th></th>\n",
       "      <th>donorID</th>\n",
       "      <th>zipcode</th>\n",
       "      <th>province</th>\n",
       "      <th>region</th>\n",
       "      <th>gender</th>\n",
       "      <th>language</th>\n",
       "      <th>dateOfBirth</th>\n",
       "      <th>age_6169</th>\n",
       "    </tr>\n",
       "  </thead>\n",
       "  <tbody>\n",
       "    <tr>\n",
       "      <th>0</th>\n",
       "      <td>100001</td>\n",
       "      <td>1861.0</td>\n",
       "      <td>Flemish Brabant</td>\n",
       "      <td>Flanders</td>\n",
       "      <td>F</td>\n",
       "      <td>NL</td>\n",
       "      <td>1967-12-24</td>\n",
       "      <td>50.7</td>\n",
       "    </tr>\n",
       "    <tr>\n",
       "      <th>1</th>\n",
       "      <td>100002</td>\n",
       "      <td>2260.0</td>\n",
       "      <td>Antwerp</td>\n",
       "      <td>Flanders</td>\n",
       "      <td>M</td>\n",
       "      <td>NL</td>\n",
       "      <td>1952-01-14</td>\n",
       "      <td>66.7</td>\n",
       "    </tr>\n",
       "  </tbody>\n",
       "</table>\n",
       "</div>"
      ],
      "text/plain": [
       "   donorID  zipcode         province    region gender language dateOfBirth  \\\n",
       "0   100001   1861.0  Flemish Brabant  Flanders      F       NL  1967-12-24   \n",
       "1   100002   2260.0          Antwerp  Flanders      M       NL  1952-01-14   \n",
       "\n",
       "   age_6169  \n",
       "0      50.7  \n",
       "1      66.7  "
      ]
     },
     "execution_count": 47,
     "metadata": {},
     "output_type": "execute_result"
    }
   ],
   "source": [
    "#calculate age training basetable\n",
    "donors['age_6169'] = (reference6169 - donors['dateOfBirth'])\n",
    "donors['age_6169'] = donors.age_6169.apply(lambda x: x.days)\n",
    "donors['age_6169'] = round((donors['age_6169']/365),1)\n",
    "donors.head(2)"
   ]
  },
  {
   "cell_type": "code",
   "execution_count": 48,
   "metadata": {},
   "outputs": [
    {
     "data": {
      "text/html": [
       "<div>\n",
       "<style scoped>\n",
       "    .dataframe tbody tr th:only-of-type {\n",
       "        vertical-align: middle;\n",
       "    }\n",
       "\n",
       "    .dataframe tbody tr th {\n",
       "        vertical-align: top;\n",
       "    }\n",
       "\n",
       "    .dataframe thead th {\n",
       "        text-align: right;\n",
       "    }\n",
       "</style>\n",
       "<table border=\"1\" class=\"dataframe\">\n",
       "  <thead>\n",
       "    <tr style=\"text-align: right;\">\n",
       "      <th></th>\n",
       "      <th>donorID</th>\n",
       "      <th>max</th>\n",
       "      <th>min</th>\n",
       "      <th>mean</th>\n",
       "      <th>sum</th>\n",
       "      <th>count</th>\n",
       "      <th>recency_days</th>\n",
       "      <th>last_month_mean</th>\n",
       "      <th>year1_mean</th>\n",
       "      <th>year1_count</th>\n",
       "      <th>year2_mean</th>\n",
       "      <th>year2_count</th>\n",
       "      <th>ratio_month_year</th>\n",
       "      <th>ratio_year2year_mean</th>\n",
       "      <th>ratio_year2year_count</th>\n",
       "      <th>segment</th>\n",
       "      <th>age_6169</th>\n",
       "      <th>gender</th>\n",
       "      <th>province</th>\n",
       "      <th>language</th>\n",
       "    </tr>\n",
       "  </thead>\n",
       "  <tbody>\n",
       "    <tr>\n",
       "      <th>0</th>\n",
       "      <td>100001</td>\n",
       "      <td>30.0</td>\n",
       "      <td>6.69</td>\n",
       "      <td>14.874167</td>\n",
       "      <td>178.49</td>\n",
       "      <td>12</td>\n",
       "      <td>2440</td>\n",
       "      <td>NaN</td>\n",
       "      <td>NaN</td>\n",
       "      <td>NaN</td>\n",
       "      <td>NaN</td>\n",
       "      <td>NaN</td>\n",
       "      <td>NaN</td>\n",
       "      <td>NaN</td>\n",
       "      <td>NaN</td>\n",
       "      <td>Regular</td>\n",
       "      <td>50.7</td>\n",
       "      <td>F</td>\n",
       "      <td>Flemish Brabant</td>\n",
       "      <td>NL</td>\n",
       "    </tr>\n",
       "    <tr>\n",
       "      <th>1</th>\n",
       "      <td>100002</td>\n",
       "      <td>20.0</td>\n",
       "      <td>20.00</td>\n",
       "      <td>20.000000</td>\n",
       "      <td>20.00</td>\n",
       "      <td>1</td>\n",
       "      <td>1333</td>\n",
       "      <td>NaN</td>\n",
       "      <td>NaN</td>\n",
       "      <td>NaN</td>\n",
       "      <td>NaN</td>\n",
       "      <td>NaN</td>\n",
       "      <td>NaN</td>\n",
       "      <td>NaN</td>\n",
       "      <td>NaN</td>\n",
       "      <td>Regular</td>\n",
       "      <td>66.7</td>\n",
       "      <td>M</td>\n",
       "      <td>Antwerp</td>\n",
       "      <td>NL</td>\n",
       "    </tr>\n",
       "  </tbody>\n",
       "</table>\n",
       "</div>"
      ],
      "text/plain": [
       "   donorID   max    min       mean     sum  count  recency_days  \\\n",
       "0   100001  30.0   6.69  14.874167  178.49     12          2440   \n",
       "1   100002  20.0  20.00  20.000000   20.00      1          1333   \n",
       "\n",
       "   last_month_mean  year1_mean  year1_count  year2_mean  year2_count  \\\n",
       "0              NaN         NaN          NaN         NaN          NaN   \n",
       "1              NaN         NaN          NaN         NaN          NaN   \n",
       "\n",
       "   ratio_month_year  ratio_year2year_mean  ratio_year2year_count  segment  \\\n",
       "0               NaN                   NaN                    NaN  Regular   \n",
       "1               NaN                   NaN                    NaN  Regular   \n",
       "\n",
       "   age_6169 gender         province language  \n",
       "0      50.7      F  Flemish Brabant       NL  \n",
       "1      66.7      M          Antwerp       NL  "
      ]
     },
     "execution_count": 48,
     "metadata": {},
     "output_type": "execute_result"
    }
   ],
   "source": [
    "basetable_training = pd.merge(basetable_training,donors[[\"donorID\",\"age_6169\",\"gender\",\"province\", \"language\"]], on = \"donorID\", how = \"left\")\n",
    "\n",
    "basetable_training.head(2)"
   ]
  },
  {
   "cell_type": "markdown",
   "metadata": {},
   "source": [
    "#### Merge data set with campaign 6169 selection"
   ]
  },
  {
   "cell_type": "code",
   "execution_count": 49,
   "metadata": {
    "scrolled": true
   },
   "outputs": [
    {
     "name": "stdout",
     "output_type": "stream",
     "text": [
      "34888\n"
     ]
    },
    {
     "data": {
      "text/html": [
       "<div>\n",
       "<style scoped>\n",
       "    .dataframe tbody tr th:only-of-type {\n",
       "        vertical-align: middle;\n",
       "    }\n",
       "\n",
       "    .dataframe tbody tr th {\n",
       "        vertical-align: top;\n",
       "    }\n",
       "\n",
       "    .dataframe thead th {\n",
       "        text-align: right;\n",
       "    }\n",
       "</style>\n",
       "<table border=\"1\" class=\"dataframe\">\n",
       "  <thead>\n",
       "    <tr style=\"text-align: right;\">\n",
       "      <th></th>\n",
       "      <th>donorID</th>\n",
       "      <th>max</th>\n",
       "      <th>min</th>\n",
       "      <th>mean</th>\n",
       "      <th>sum</th>\n",
       "      <th>count</th>\n",
       "      <th>recency_days</th>\n",
       "      <th>last_month_mean</th>\n",
       "      <th>year1_mean</th>\n",
       "      <th>year1_count</th>\n",
       "      <th>year2_mean</th>\n",
       "      <th>year2_count</th>\n",
       "      <th>ratio_month_year</th>\n",
       "      <th>ratio_year2year_mean</th>\n",
       "      <th>ratio_year2year_count</th>\n",
       "      <th>segment</th>\n",
       "      <th>age_6169</th>\n",
       "      <th>gender</th>\n",
       "      <th>province</th>\n",
       "      <th>language</th>\n",
       "    </tr>\n",
       "  </thead>\n",
       "  <tbody>\n",
       "    <tr>\n",
       "      <th>0</th>\n",
       "      <td>100001</td>\n",
       "      <td>30.0</td>\n",
       "      <td>6.69</td>\n",
       "      <td>14.874167</td>\n",
       "      <td>178.49</td>\n",
       "      <td>12.0</td>\n",
       "      <td>2440.0</td>\n",
       "      <td>NaN</td>\n",
       "      <td>NaN</td>\n",
       "      <td>NaN</td>\n",
       "      <td>NaN</td>\n",
       "      <td>NaN</td>\n",
       "      <td>NaN</td>\n",
       "      <td>NaN</td>\n",
       "      <td>NaN</td>\n",
       "      <td>Regular</td>\n",
       "      <td>50.7</td>\n",
       "      <td>F</td>\n",
       "      <td>Flemish Brabant</td>\n",
       "      <td>NL</td>\n",
       "    </tr>\n",
       "    <tr>\n",
       "      <th>1</th>\n",
       "      <td>100002</td>\n",
       "      <td>20.0</td>\n",
       "      <td>20.00</td>\n",
       "      <td>20.000000</td>\n",
       "      <td>20.00</td>\n",
       "      <td>1.0</td>\n",
       "      <td>1333.0</td>\n",
       "      <td>NaN</td>\n",
       "      <td>NaN</td>\n",
       "      <td>NaN</td>\n",
       "      <td>NaN</td>\n",
       "      <td>NaN</td>\n",
       "      <td>NaN</td>\n",
       "      <td>NaN</td>\n",
       "      <td>NaN</td>\n",
       "      <td>Regular</td>\n",
       "      <td>66.7</td>\n",
       "      <td>M</td>\n",
       "      <td>Antwerp</td>\n",
       "      <td>NL</td>\n",
       "    </tr>\n",
       "  </tbody>\n",
       "</table>\n",
       "</div>"
      ],
      "text/plain": [
       "   donorID   max    min       mean     sum  count  recency_days  \\\n",
       "0   100001  30.0   6.69  14.874167  178.49   12.0        2440.0   \n",
       "1   100002  20.0  20.00  20.000000   20.00    1.0        1333.0   \n",
       "\n",
       "   last_month_mean  year1_mean  year1_count  year2_mean  year2_count  \\\n",
       "0              NaN         NaN          NaN         NaN          NaN   \n",
       "1              NaN         NaN          NaN         NaN          NaN   \n",
       "\n",
       "   ratio_month_year  ratio_year2year_mean  ratio_year2year_count  segment  \\\n",
       "0               NaN                   NaN                    NaN  Regular   \n",
       "1               NaN                   NaN                    NaN  Regular   \n",
       "\n",
       "   age_6169 gender         province language  \n",
       "0      50.7      F  Flemish Brabant       NL  \n",
       "1      66.7      M          Antwerp       NL  "
      ]
     },
     "execution_count": 49,
     "metadata": {},
     "output_type": "execute_result"
    }
   ],
   "source": [
    "basetable_training = pd.merge(campaign6169, basetable_training, on = \"donorID\", how = \"left\")\n",
    "print(len(basetable_training))\n",
    "basetable_training.head(2)"
   ]
  },
  {
   "cell_type": "markdown",
   "metadata": {},
   "source": [
    "#### Create dummies variables"
   ]
  },
  {
   "cell_type": "code",
   "execution_count": 50,
   "metadata": {
    "scrolled": false
   },
   "outputs": [
    {
     "data": {
      "text/html": [
       "<div>\n",
       "<style scoped>\n",
       "    .dataframe tbody tr th:only-of-type {\n",
       "        vertical-align: middle;\n",
       "    }\n",
       "\n",
       "    .dataframe tbody tr th {\n",
       "        vertical-align: top;\n",
       "    }\n",
       "\n",
       "    .dataframe thead th {\n",
       "        text-align: right;\n",
       "    }\n",
       "</style>\n",
       "<table border=\"1\" class=\"dataframe\">\n",
       "  <thead>\n",
       "    <tr style=\"text-align: right;\">\n",
       "      <th></th>\n",
       "      <th>Brussels</th>\n",
       "      <th>East Flanders</th>\n",
       "      <th>Flemish Brabant</th>\n",
       "      <th>Hainaut</th>\n",
       "      <th>Liege</th>\n",
       "      <th>Limburg</th>\n",
       "      <th>Luxembourg</th>\n",
       "      <th>Namur</th>\n",
       "      <th>Walloon Brabant</th>\n",
       "      <th>West Flanders</th>\n",
       "    </tr>\n",
       "  </thead>\n",
       "  <tbody>\n",
       "    <tr>\n",
       "      <th>0</th>\n",
       "      <td>0</td>\n",
       "      <td>0</td>\n",
       "      <td>1</td>\n",
       "      <td>0</td>\n",
       "      <td>0</td>\n",
       "      <td>0</td>\n",
       "      <td>0</td>\n",
       "      <td>0</td>\n",
       "      <td>0</td>\n",
       "      <td>0</td>\n",
       "    </tr>\n",
       "    <tr>\n",
       "      <th>1</th>\n",
       "      <td>0</td>\n",
       "      <td>0</td>\n",
       "      <td>0</td>\n",
       "      <td>0</td>\n",
       "      <td>0</td>\n",
       "      <td>0</td>\n",
       "      <td>0</td>\n",
       "      <td>0</td>\n",
       "      <td>0</td>\n",
       "      <td>0</td>\n",
       "    </tr>\n",
       "    <tr>\n",
       "      <th>2</th>\n",
       "      <td>1</td>\n",
       "      <td>0</td>\n",
       "      <td>0</td>\n",
       "      <td>0</td>\n",
       "      <td>0</td>\n",
       "      <td>0</td>\n",
       "      <td>0</td>\n",
       "      <td>0</td>\n",
       "      <td>0</td>\n",
       "      <td>0</td>\n",
       "    </tr>\n",
       "    <tr>\n",
       "      <th>3</th>\n",
       "      <td>0</td>\n",
       "      <td>0</td>\n",
       "      <td>1</td>\n",
       "      <td>0</td>\n",
       "      <td>0</td>\n",
       "      <td>0</td>\n",
       "      <td>0</td>\n",
       "      <td>0</td>\n",
       "      <td>0</td>\n",
       "      <td>0</td>\n",
       "    </tr>\n",
       "    <tr>\n",
       "      <th>4</th>\n",
       "      <td>1</td>\n",
       "      <td>0</td>\n",
       "      <td>0</td>\n",
       "      <td>0</td>\n",
       "      <td>0</td>\n",
       "      <td>0</td>\n",
       "      <td>0</td>\n",
       "      <td>0</td>\n",
       "      <td>0</td>\n",
       "      <td>0</td>\n",
       "    </tr>\n",
       "  </tbody>\n",
       "</table>\n",
       "</div>"
      ],
      "text/plain": [
       "   Brussels  East Flanders  Flemish Brabant  Hainaut  Liege  Limburg  \\\n",
       "0         0              0                1        0      0        0   \n",
       "1         0              0                0        0      0        0   \n",
       "2         1              0                0        0      0        0   \n",
       "3         0              0                1        0      0        0   \n",
       "4         1              0                0        0      0        0   \n",
       "\n",
       "   Luxembourg  Namur  Walloon Brabant  West Flanders  \n",
       "0           0      0                0              0  \n",
       "1           0      0                0              0  \n",
       "2           0      0                0              0  \n",
       "3           0      0                0              0  \n",
       "4           0      0                0              0  "
      ]
     },
     "execution_count": 50,
     "metadata": {},
     "output_type": "execute_result"
    }
   ],
   "source": [
    "#Dummy variables for province, not need to creat columns for NA as they were originally replaced by missing\n",
    "dummies_province = pd.get_dummies(basetable_training[\"province\"], drop_first=True)\n",
    "dummies_province .head()"
   ]
  },
  {
   "cell_type": "code",
   "execution_count": 52,
   "metadata": {
    "scrolled": true
   },
   "outputs": [],
   "source": [
    "#Change dummy variable name\n",
    "dummies_province.columns = ['prov_Br', 'prov_EaF', 'prov_FB', 'prov_Ha', 'prov_Liege', 'prov_Lim', 'prov_Lux', 'prov_Namur','prov_WaB', 'prov_WeF']\n",
    "# Add the dummy variable to the basetable\n",
    "basetable_training = pd.concat([basetable_training, dummies_province], axis=1)\n",
    "# Delete the original variable from the basetable\n",
    "del basetable_training[\"province\"]"
   ]
  },
  {
   "cell_type": "code",
   "execution_count": 53,
   "metadata": {},
   "outputs": [
    {
     "data": {
      "text/plain": [
       "21"
      ]
     },
     "execution_count": 53,
     "metadata": {},
     "output_type": "execute_result"
    }
   ],
   "source": [
    "basetable_training.language.isna().sum()"
   ]
  },
  {
   "cell_type": "code",
   "execution_count": 54,
   "metadata": {
    "scrolled": true
   },
   "outputs": [
    {
     "data": {
      "text/html": [
       "<div>\n",
       "<style scoped>\n",
       "    .dataframe tbody tr th:only-of-type {\n",
       "        vertical-align: middle;\n",
       "    }\n",
       "\n",
       "    .dataframe tbody tr th {\n",
       "        vertical-align: top;\n",
       "    }\n",
       "\n",
       "    .dataframe thead th {\n",
       "        text-align: right;\n",
       "    }\n",
       "</style>\n",
       "<table border=\"1\" class=\"dataframe\">\n",
       "  <thead>\n",
       "    <tr style=\"text-align: right;\">\n",
       "      <th></th>\n",
       "      <th>FR</th>\n",
       "      <th>NL</th>\n",
       "      <th>NaN</th>\n",
       "    </tr>\n",
       "  </thead>\n",
       "  <tbody>\n",
       "    <tr>\n",
       "      <th>0</th>\n",
       "      <td>0</td>\n",
       "      <td>1</td>\n",
       "      <td>0</td>\n",
       "    </tr>\n",
       "    <tr>\n",
       "      <th>1</th>\n",
       "      <td>0</td>\n",
       "      <td>1</td>\n",
       "      <td>0</td>\n",
       "    </tr>\n",
       "    <tr>\n",
       "      <th>2</th>\n",
       "      <td>1</td>\n",
       "      <td>0</td>\n",
       "      <td>0</td>\n",
       "    </tr>\n",
       "    <tr>\n",
       "      <th>3</th>\n",
       "      <td>1</td>\n",
       "      <td>0</td>\n",
       "      <td>0</td>\n",
       "    </tr>\n",
       "    <tr>\n",
       "      <th>4</th>\n",
       "      <td>1</td>\n",
       "      <td>0</td>\n",
       "      <td>0</td>\n",
       "    </tr>\n",
       "  </tbody>\n",
       "</table>\n",
       "</div>"
      ],
      "text/plain": [
       "   FR  NL  NaN\n",
       "0   0   1    0\n",
       "1   0   1    0\n",
       "2   1   0    0\n",
       "3   1   0    0\n",
       "4   1   0    0"
      ]
     },
     "execution_count": 54,
     "metadata": {},
     "output_type": "execute_result"
    }
   ],
   "source": [
    "#Dummy variables for language\n",
    "dummies_language_training = pd.get_dummies(basetable_training[\"language\"], drop_first=True, dummy_na=True)\n",
    "dummies_language_training.head()"
   ]
  },
  {
   "cell_type": "code",
   "execution_count": 55,
   "metadata": {},
   "outputs": [],
   "source": [
    "#Change dummy variable name\n",
    "dummies_language_training.columns = ['language_x', 'language_y','language_NaN']\n",
    "# Add the dummy variable to the basetable\n",
    "basetable_training = pd.concat([basetable_training, dummies_language_training], axis=1)\n",
    "# Delete the original variable from the basetable\n",
    "del basetable_training[\"language\"]"
   ]
  },
  {
   "cell_type": "code",
   "execution_count": 56,
   "metadata": {
    "scrolled": false
   },
   "outputs": [
    {
     "data": {
      "text/html": [
       "<div>\n",
       "<style scoped>\n",
       "    .dataframe tbody tr th:only-of-type {\n",
       "        vertical-align: middle;\n",
       "    }\n",
       "\n",
       "    .dataframe tbody tr th {\n",
       "        vertical-align: top;\n",
       "    }\n",
       "\n",
       "    .dataframe thead th {\n",
       "        text-align: right;\n",
       "    }\n",
       "</style>\n",
       "<table border=\"1\" class=\"dataframe\">\n",
       "  <thead>\n",
       "    <tr style=\"text-align: right;\">\n",
       "      <th></th>\n",
       "      <th>Gold</th>\n",
       "      <th>Regular</th>\n",
       "      <th>Silver</th>\n",
       "    </tr>\n",
       "  </thead>\n",
       "  <tbody>\n",
       "    <tr>\n",
       "      <th>0</th>\n",
       "      <td>0</td>\n",
       "      <td>1</td>\n",
       "      <td>0</td>\n",
       "    </tr>\n",
       "    <tr>\n",
       "      <th>1</th>\n",
       "      <td>0</td>\n",
       "      <td>1</td>\n",
       "      <td>0</td>\n",
       "    </tr>\n",
       "    <tr>\n",
       "      <th>2</th>\n",
       "      <td>0</td>\n",
       "      <td>1</td>\n",
       "      <td>0</td>\n",
       "    </tr>\n",
       "    <tr>\n",
       "      <th>3</th>\n",
       "      <td>0</td>\n",
       "      <td>0</td>\n",
       "      <td>0</td>\n",
       "    </tr>\n",
       "    <tr>\n",
       "      <th>4</th>\n",
       "      <td>0</td>\n",
       "      <td>1</td>\n",
       "      <td>0</td>\n",
       "    </tr>\n",
       "  </tbody>\n",
       "</table>\n",
       "</div>"
      ],
      "text/plain": [
       "   Gold  Regular  Silver\n",
       "0     0        1       0\n",
       "1     0        1       0\n",
       "2     0        1       0\n",
       "3     0        0       0\n",
       "4     0        1       0"
      ]
     },
     "execution_count": 56,
     "metadata": {},
     "output_type": "execute_result"
    }
   ],
   "source": [
    "#Dummy variables for segment\n",
    "dummies_segment_training = pd.get_dummies(basetable_training[\"segment\"], drop_first=True)\n",
    "dummies_segment_training.head()"
   ]
  },
  {
   "cell_type": "code",
   "execution_count": 57,
   "metadata": {},
   "outputs": [],
   "source": [
    "#Change dummy variable name\n",
    "dummies_segment_training.columns = ['segment_x', 'segment_y', 'segment_z']\n",
    "# Add the dummy variable to the basetable\n",
    "basetable_training = pd.concat([basetable_training, dummies_segment_training], axis=1)\n",
    "# Delete the original variable from the basetable\n",
    "del basetable_training[\"segment\"]"
   ]
  },
  {
   "cell_type": "code",
   "execution_count": 58,
   "metadata": {},
   "outputs": [
    {
     "data": {
      "text/plain": [
       "41"
      ]
     },
     "execution_count": 58,
     "metadata": {},
     "output_type": "execute_result"
    }
   ],
   "source": [
    "basetable_training.gender.isna().sum()"
   ]
  },
  {
   "cell_type": "code",
   "execution_count": 59,
   "metadata": {},
   "outputs": [
    {
     "data": {
      "text/html": [
       "<div>\n",
       "<style scoped>\n",
       "    .dataframe tbody tr th:only-of-type {\n",
       "        vertical-align: middle;\n",
       "    }\n",
       "\n",
       "    .dataframe tbody tr th {\n",
       "        vertical-align: top;\n",
       "    }\n",
       "\n",
       "    .dataframe thead th {\n",
       "        text-align: right;\n",
       "    }\n",
       "</style>\n",
       "<table border=\"1\" class=\"dataframe\">\n",
       "  <thead>\n",
       "    <tr style=\"text-align: right;\">\n",
       "      <th></th>\n",
       "      <th>M</th>\n",
       "      <th>NaN</th>\n",
       "    </tr>\n",
       "  </thead>\n",
       "  <tbody>\n",
       "    <tr>\n",
       "      <th>0</th>\n",
       "      <td>0</td>\n",
       "      <td>0</td>\n",
       "    </tr>\n",
       "    <tr>\n",
       "      <th>1</th>\n",
       "      <td>1</td>\n",
       "      <td>0</td>\n",
       "    </tr>\n",
       "    <tr>\n",
       "      <th>2</th>\n",
       "      <td>0</td>\n",
       "      <td>0</td>\n",
       "    </tr>\n",
       "    <tr>\n",
       "      <th>3</th>\n",
       "      <td>1</td>\n",
       "      <td>0</td>\n",
       "    </tr>\n",
       "    <tr>\n",
       "      <th>4</th>\n",
       "      <td>1</td>\n",
       "      <td>0</td>\n",
       "    </tr>\n",
       "  </tbody>\n",
       "</table>\n",
       "</div>"
      ],
      "text/plain": [
       "   M  NaN\n",
       "0  0    0\n",
       "1  1    0\n",
       "2  0    0\n",
       "3  1    0\n",
       "4  1    0"
      ]
     },
     "execution_count": 59,
     "metadata": {},
     "output_type": "execute_result"
    }
   ],
   "source": [
    "# Create the dummy variable gender\n",
    "dummies_gender_training = pd.get_dummies(basetable_training[\"gender\"], drop_first=True, dummy_na=True)\n",
    "dummies_gender_training.head()"
   ]
  },
  {
   "cell_type": "code",
   "execution_count": 60,
   "metadata": {},
   "outputs": [],
   "source": [
    "#Change dummy variable name\n",
    "dummies_gender_training.columns = ['gender_x', 'gender_y']\n",
    "# Add the dummy variable to the basetable\n",
    "basetable_training = pd.concat([basetable_training, dummies_gender_training], axis=1)\n",
    "# Delete the original variable from the basetable\n",
    "del basetable_training[\"gender\"]"
   ]
  },
  {
   "cell_type": "code",
   "execution_count": 61,
   "metadata": {
    "scrolled": true
   },
   "outputs": [
    {
     "data": {
      "text/html": [
       "<div>\n",
       "<style scoped>\n",
       "    .dataframe tbody tr th:only-of-type {\n",
       "        vertical-align: middle;\n",
       "    }\n",
       "\n",
       "    .dataframe tbody tr th {\n",
       "        vertical-align: top;\n",
       "    }\n",
       "\n",
       "    .dataframe thead th {\n",
       "        text-align: right;\n",
       "    }\n",
       "</style>\n",
       "<table border=\"1\" class=\"dataframe\">\n",
       "  <thead>\n",
       "    <tr style=\"text-align: right;\">\n",
       "      <th></th>\n",
       "      <th>donorID</th>\n",
       "      <th>max</th>\n",
       "      <th>min</th>\n",
       "      <th>mean</th>\n",
       "      <th>sum</th>\n",
       "      <th>count</th>\n",
       "      <th>recency_days</th>\n",
       "      <th>last_month_mean</th>\n",
       "      <th>year1_mean</th>\n",
       "      <th>year1_count</th>\n",
       "      <th>...</th>\n",
       "      <th>prov_WaB</th>\n",
       "      <th>prov_WeF</th>\n",
       "      <th>language_x</th>\n",
       "      <th>language_y</th>\n",
       "      <th>language_NaN</th>\n",
       "      <th>segment_x</th>\n",
       "      <th>segment_y</th>\n",
       "      <th>segment_z</th>\n",
       "      <th>gender_x</th>\n",
       "      <th>gender_y</th>\n",
       "    </tr>\n",
       "  </thead>\n",
       "  <tbody>\n",
       "    <tr>\n",
       "      <th>0</th>\n",
       "      <td>100001</td>\n",
       "      <td>30.00</td>\n",
       "      <td>6.69</td>\n",
       "      <td>14.874167</td>\n",
       "      <td>178.49</td>\n",
       "      <td>12.0</td>\n",
       "      <td>2440.0</td>\n",
       "      <td>NaN</td>\n",
       "      <td>NaN</td>\n",
       "      <td>NaN</td>\n",
       "      <td>...</td>\n",
       "      <td>0</td>\n",
       "      <td>0</td>\n",
       "      <td>0</td>\n",
       "      <td>1</td>\n",
       "      <td>0</td>\n",
       "      <td>0</td>\n",
       "      <td>1</td>\n",
       "      <td>0</td>\n",
       "      <td>0</td>\n",
       "      <td>0</td>\n",
       "    </tr>\n",
       "    <tr>\n",
       "      <th>1</th>\n",
       "      <td>100002</td>\n",
       "      <td>20.00</td>\n",
       "      <td>20.00</td>\n",
       "      <td>20.000000</td>\n",
       "      <td>20.00</td>\n",
       "      <td>1.0</td>\n",
       "      <td>1333.0</td>\n",
       "      <td>NaN</td>\n",
       "      <td>NaN</td>\n",
       "      <td>NaN</td>\n",
       "      <td>...</td>\n",
       "      <td>0</td>\n",
       "      <td>0</td>\n",
       "      <td>0</td>\n",
       "      <td>1</td>\n",
       "      <td>0</td>\n",
       "      <td>0</td>\n",
       "      <td>1</td>\n",
       "      <td>0</td>\n",
       "      <td>1</td>\n",
       "      <td>0</td>\n",
       "    </tr>\n",
       "    <tr>\n",
       "      <th>2</th>\n",
       "      <td>100004</td>\n",
       "      <td>49.58</td>\n",
       "      <td>24.79</td>\n",
       "      <td>27.546923</td>\n",
       "      <td>716.22</td>\n",
       "      <td>26.0</td>\n",
       "      <td>2650.0</td>\n",
       "      <td>NaN</td>\n",
       "      <td>NaN</td>\n",
       "      <td>NaN</td>\n",
       "      <td>...</td>\n",
       "      <td>0</td>\n",
       "      <td>0</td>\n",
       "      <td>1</td>\n",
       "      <td>0</td>\n",
       "      <td>0</td>\n",
       "      <td>0</td>\n",
       "      <td>1</td>\n",
       "      <td>0</td>\n",
       "      <td>0</td>\n",
       "      <td>0</td>\n",
       "    </tr>\n",
       "    <tr>\n",
       "      <th>3</th>\n",
       "      <td>100008</td>\n",
       "      <td>50.00</td>\n",
       "      <td>24.79</td>\n",
       "      <td>41.456667</td>\n",
       "      <td>124.37</td>\n",
       "      <td>3.0</td>\n",
       "      <td>2503.0</td>\n",
       "      <td>NaN</td>\n",
       "      <td>NaN</td>\n",
       "      <td>NaN</td>\n",
       "      <td>...</td>\n",
       "      <td>0</td>\n",
       "      <td>0</td>\n",
       "      <td>1</td>\n",
       "      <td>0</td>\n",
       "      <td>0</td>\n",
       "      <td>0</td>\n",
       "      <td>0</td>\n",
       "      <td>0</td>\n",
       "      <td>1</td>\n",
       "      <td>0</td>\n",
       "    </tr>\n",
       "    <tr>\n",
       "      <th>4</th>\n",
       "      <td>100009</td>\n",
       "      <td>25.00</td>\n",
       "      <td>7.44</td>\n",
       "      <td>17.198947</td>\n",
       "      <td>326.78</td>\n",
       "      <td>19.0</td>\n",
       "      <td>2354.0</td>\n",
       "      <td>NaN</td>\n",
       "      <td>NaN</td>\n",
       "      <td>NaN</td>\n",
       "      <td>...</td>\n",
       "      <td>0</td>\n",
       "      <td>0</td>\n",
       "      <td>1</td>\n",
       "      <td>0</td>\n",
       "      <td>0</td>\n",
       "      <td>0</td>\n",
       "      <td>1</td>\n",
       "      <td>0</td>\n",
       "      <td>1</td>\n",
       "      <td>0</td>\n",
       "    </tr>\n",
       "  </tbody>\n",
       "</table>\n",
       "<p>5 rows × 34 columns</p>\n",
       "</div>"
      ],
      "text/plain": [
       "   donorID    max    min       mean     sum  count  recency_days  \\\n",
       "0   100001  30.00   6.69  14.874167  178.49   12.0        2440.0   \n",
       "1   100002  20.00  20.00  20.000000   20.00    1.0        1333.0   \n",
       "2   100004  49.58  24.79  27.546923  716.22   26.0        2650.0   \n",
       "3   100008  50.00  24.79  41.456667  124.37    3.0        2503.0   \n",
       "4   100009  25.00   7.44  17.198947  326.78   19.0        2354.0   \n",
       "\n",
       "   last_month_mean  year1_mean  year1_count  ...  prov_WaB  prov_WeF  \\\n",
       "0              NaN         NaN          NaN  ...         0         0   \n",
       "1              NaN         NaN          NaN  ...         0         0   \n",
       "2              NaN         NaN          NaN  ...         0         0   \n",
       "3              NaN         NaN          NaN  ...         0         0   \n",
       "4              NaN         NaN          NaN  ...         0         0   \n",
       "\n",
       "   language_x  language_y  language_NaN  segment_x  segment_y  segment_z  \\\n",
       "0           0           1             0          0          1          0   \n",
       "1           0           1             0          0          1          0   \n",
       "2           1           0             0          0          1          0   \n",
       "3           1           0             0          0          0          0   \n",
       "4           1           0             0          0          1          0   \n",
       "\n",
       "   gender_x  gender_y  \n",
       "0         0         0  \n",
       "1         1         0  \n",
       "2         0         0  \n",
       "3         1         0  \n",
       "4         1         0  \n",
       "\n",
       "[5 rows x 34 columns]"
      ]
     },
     "execution_count": 61,
     "metadata": {},
     "output_type": "execute_result"
    }
   ],
   "source": [
    "basetable_training.head()"
   ]
  },
  {
   "cell_type": "code",
   "execution_count": 62,
   "metadata": {},
   "outputs": [],
   "source": [
    "basetable_training.to_csv('basetable_training_Raw.csv')"
   ]
  },
  {
   "cell_type": "markdown",
   "metadata": {},
   "source": [
    "#### - Replace missing values"
   ]
  },
  {
   "cell_type": "code",
   "execution_count": 63,
   "metadata": {},
   "outputs": [],
   "source": [
    "#replace missing values by 0\n",
    "\n",
    "basetable_training[\"last_month_mean\"] = basetable_training[\"last_month_mean\"].replace(np.nan, 0)\n",
    "basetable_training[\"count\"] = basetable_training[\"count\"].replace(np.nan, 0)\n",
    "basetable_training[\"year1_mean\"] = basetable_training[\"year1_mean\"].replace(np.nan, 0)\n",
    "basetable_training[\"year1_count\"] = basetable_training[\"year1_count\"].replace(np.nan, 0)\n",
    "basetable_training[\"year2_mean\"] = basetable_training[\"year2_mean\"].replace(np.nan, 0)\n",
    "basetable_training[\"year2_count\"] = basetable_training[\"year2_count\"].replace(np.nan, 0)\n",
    "basetable_training[\"ratio_month_year\"] = basetable_training[\"ratio_month_year\"].replace(np.nan, 0)\n",
    "basetable_training[\"ratio_year2year_mean\"] = basetable_training[\"ratio_year2year_mean\"].replace(np.nan, 0)\n",
    "basetable_training[\"ratio_year2year_count\"] = basetable_training[\"ratio_year2year_count\"].replace(np.nan, 0)\n"
   ]
  },
  {
   "cell_type": "code",
   "execution_count": 64,
   "metadata": {},
   "outputs": [
    {
     "data": {
      "text/plain": [
       "21"
      ]
     },
     "execution_count": 64,
     "metadata": {},
     "output_type": "execute_result"
    }
   ],
   "source": [
    "basetable_training[\"age_6169\"].isna().sum()"
   ]
  },
  {
   "cell_type": "code",
   "execution_count": 65,
   "metadata": {},
   "outputs": [
    {
     "data": {
      "text/plain": [
       "21"
      ]
     },
     "execution_count": 65,
     "metadata": {},
     "output_type": "execute_result"
    }
   ],
   "source": [
    "#create new columns to identify missing value\n",
    "basetable_training['age_NaN'] = basetable_training['age_6169'].isna()*1\n",
    "basetable_training['age_NaN'].sum()"
   ]
  },
  {
   "cell_type": "code",
   "execution_count": 66,
   "metadata": {},
   "outputs": [
    {
     "data": {
      "text/plain": [
       "47.3"
      ]
     },
     "execution_count": 66,
     "metadata": {},
     "output_type": "execute_result"
    }
   ],
   "source": [
    "#replace missing age missing value with median\n",
    "basetable_training[\"age_6169\"].median()\n"
   ]
  },
  {
   "cell_type": "code",
   "execution_count": 67,
   "metadata": {},
   "outputs": [
    {
     "data": {
      "text/plain": [
       "0"
      ]
     },
     "execution_count": 67,
     "metadata": {},
     "output_type": "execute_result"
    }
   ],
   "source": [
    "basetable_training[\"age_6169\"] = basetable_training[\"age_6169\"].replace(np.nan, basetable_training[\"age_6169\"].median())\n",
    "basetable_training[\"age_6169\"].isna().sum()"
   ]
  },
  {
   "cell_type": "code",
   "execution_count": 68,
   "metadata": {},
   "outputs": [
    {
     "data": {
      "text/plain": [
       "19"
      ]
     },
     "execution_count": 68,
     "metadata": {},
     "output_type": "execute_result"
    }
   ],
   "source": [
    "basetable_training[\"recency_days\"].isna().sum()"
   ]
  },
  {
   "cell_type": "code",
   "execution_count": 69,
   "metadata": {},
   "outputs": [
    {
     "data": {
      "text/plain": [
       "19"
      ]
     },
     "execution_count": 69,
     "metadata": {},
     "output_type": "execute_result"
    }
   ],
   "source": [
    "#create new columns to identify missing value on the recency columns\n",
    "basetable_training[\"recency_days_NaN\"] = basetable_training[\"recency_days\"].isna()*1\n",
    "basetable_training[\"recency_days_NaN\"].sum()"
   ]
  },
  {
   "cell_type": "code",
   "execution_count": 70,
   "metadata": {},
   "outputs": [
    {
     "data": {
      "text/plain": [
       "0"
      ]
     },
     "execution_count": 70,
     "metadata": {},
     "output_type": "execute_result"
    }
   ],
   "source": [
    "basetable_training[\"recency_days\"] = basetable_training[\"recency_days\"].replace(np.nan, basetable_training[\"recency_days\"].median())\n",
    "basetable_training[\"recency_days\"].isna().sum()"
   ]
  },
  {
   "cell_type": "code",
   "execution_count": 71,
   "metadata": {},
   "outputs": [
    {
     "data": {
      "text/html": [
       "<div>\n",
       "<style scoped>\n",
       "    .dataframe tbody tr th:only-of-type {\n",
       "        vertical-align: middle;\n",
       "    }\n",
       "\n",
       "    .dataframe tbody tr th {\n",
       "        vertical-align: top;\n",
       "    }\n",
       "\n",
       "    .dataframe thead th {\n",
       "        text-align: right;\n",
       "    }\n",
       "</style>\n",
       "<table border=\"1\" class=\"dataframe\">\n",
       "  <thead>\n",
       "    <tr style=\"text-align: right;\">\n",
       "      <th></th>\n",
       "      <th>donorID</th>\n",
       "      <th>max</th>\n",
       "      <th>min</th>\n",
       "      <th>mean</th>\n",
       "      <th>sum</th>\n",
       "      <th>count</th>\n",
       "      <th>recency_days</th>\n",
       "      <th>last_month_mean</th>\n",
       "      <th>year1_mean</th>\n",
       "      <th>year1_count</th>\n",
       "      <th>...</th>\n",
       "      <th>language_x</th>\n",
       "      <th>language_y</th>\n",
       "      <th>language_NaN</th>\n",
       "      <th>segment_x</th>\n",
       "      <th>segment_y</th>\n",
       "      <th>segment_z</th>\n",
       "      <th>gender_x</th>\n",
       "      <th>gender_y</th>\n",
       "      <th>age_NaN</th>\n",
       "      <th>recency_days_NaN</th>\n",
       "    </tr>\n",
       "  </thead>\n",
       "  <tbody>\n",
       "    <tr>\n",
       "      <th>0</th>\n",
       "      <td>100001</td>\n",
       "      <td>30.00</td>\n",
       "      <td>6.69</td>\n",
       "      <td>14.874167</td>\n",
       "      <td>178.49</td>\n",
       "      <td>12.0</td>\n",
       "      <td>2440.0</td>\n",
       "      <td>0.0</td>\n",
       "      <td>0.0</td>\n",
       "      <td>0.0</td>\n",
       "      <td>...</td>\n",
       "      <td>0</td>\n",
       "      <td>1</td>\n",
       "      <td>0</td>\n",
       "      <td>0</td>\n",
       "      <td>1</td>\n",
       "      <td>0</td>\n",
       "      <td>0</td>\n",
       "      <td>0</td>\n",
       "      <td>0</td>\n",
       "      <td>0</td>\n",
       "    </tr>\n",
       "    <tr>\n",
       "      <th>1</th>\n",
       "      <td>100002</td>\n",
       "      <td>20.00</td>\n",
       "      <td>20.00</td>\n",
       "      <td>20.000000</td>\n",
       "      <td>20.00</td>\n",
       "      <td>1.0</td>\n",
       "      <td>1333.0</td>\n",
       "      <td>0.0</td>\n",
       "      <td>0.0</td>\n",
       "      <td>0.0</td>\n",
       "      <td>...</td>\n",
       "      <td>0</td>\n",
       "      <td>1</td>\n",
       "      <td>0</td>\n",
       "      <td>0</td>\n",
       "      <td>1</td>\n",
       "      <td>0</td>\n",
       "      <td>1</td>\n",
       "      <td>0</td>\n",
       "      <td>0</td>\n",
       "      <td>0</td>\n",
       "    </tr>\n",
       "    <tr>\n",
       "      <th>2</th>\n",
       "      <td>100004</td>\n",
       "      <td>49.58</td>\n",
       "      <td>24.79</td>\n",
       "      <td>27.546923</td>\n",
       "      <td>716.22</td>\n",
       "      <td>26.0</td>\n",
       "      <td>2650.0</td>\n",
       "      <td>0.0</td>\n",
       "      <td>0.0</td>\n",
       "      <td>0.0</td>\n",
       "      <td>...</td>\n",
       "      <td>1</td>\n",
       "      <td>0</td>\n",
       "      <td>0</td>\n",
       "      <td>0</td>\n",
       "      <td>1</td>\n",
       "      <td>0</td>\n",
       "      <td>0</td>\n",
       "      <td>0</td>\n",
       "      <td>0</td>\n",
       "      <td>0</td>\n",
       "    </tr>\n",
       "    <tr>\n",
       "      <th>3</th>\n",
       "      <td>100008</td>\n",
       "      <td>50.00</td>\n",
       "      <td>24.79</td>\n",
       "      <td>41.456667</td>\n",
       "      <td>124.37</td>\n",
       "      <td>3.0</td>\n",
       "      <td>2503.0</td>\n",
       "      <td>0.0</td>\n",
       "      <td>0.0</td>\n",
       "      <td>0.0</td>\n",
       "      <td>...</td>\n",
       "      <td>1</td>\n",
       "      <td>0</td>\n",
       "      <td>0</td>\n",
       "      <td>0</td>\n",
       "      <td>0</td>\n",
       "      <td>0</td>\n",
       "      <td>1</td>\n",
       "      <td>0</td>\n",
       "      <td>0</td>\n",
       "      <td>0</td>\n",
       "    </tr>\n",
       "    <tr>\n",
       "      <th>4</th>\n",
       "      <td>100009</td>\n",
       "      <td>25.00</td>\n",
       "      <td>7.44</td>\n",
       "      <td>17.198947</td>\n",
       "      <td>326.78</td>\n",
       "      <td>19.0</td>\n",
       "      <td>2354.0</td>\n",
       "      <td>0.0</td>\n",
       "      <td>0.0</td>\n",
       "      <td>0.0</td>\n",
       "      <td>...</td>\n",
       "      <td>1</td>\n",
       "      <td>0</td>\n",
       "      <td>0</td>\n",
       "      <td>0</td>\n",
       "      <td>1</td>\n",
       "      <td>0</td>\n",
       "      <td>1</td>\n",
       "      <td>0</td>\n",
       "      <td>0</td>\n",
       "      <td>0</td>\n",
       "    </tr>\n",
       "  </tbody>\n",
       "</table>\n",
       "<p>5 rows × 36 columns</p>\n",
       "</div>"
      ],
      "text/plain": [
       "   donorID    max    min       mean     sum  count  recency_days  \\\n",
       "0   100001  30.00   6.69  14.874167  178.49   12.0        2440.0   \n",
       "1   100002  20.00  20.00  20.000000   20.00    1.0        1333.0   \n",
       "2   100004  49.58  24.79  27.546923  716.22   26.0        2650.0   \n",
       "3   100008  50.00  24.79  41.456667  124.37    3.0        2503.0   \n",
       "4   100009  25.00   7.44  17.198947  326.78   19.0        2354.0   \n",
       "\n",
       "   last_month_mean  year1_mean  year1_count  ...  language_x  language_y  \\\n",
       "0              0.0         0.0          0.0  ...           0           1   \n",
       "1              0.0         0.0          0.0  ...           0           1   \n",
       "2              0.0         0.0          0.0  ...           1           0   \n",
       "3              0.0         0.0          0.0  ...           1           0   \n",
       "4              0.0         0.0          0.0  ...           1           0   \n",
       "\n",
       "   language_NaN  segment_x  segment_y  segment_z  gender_x  gender_y  age_NaN  \\\n",
       "0             0          0          1          0         0         0        0   \n",
       "1             0          0          1          0         1         0        0   \n",
       "2             0          0          1          0         0         0        0   \n",
       "3             0          0          0          0         1         0        0   \n",
       "4             0          0          1          0         1         0        0   \n",
       "\n",
       "   recency_days_NaN  \n",
       "0                 0  \n",
       "1                 0  \n",
       "2                 0  \n",
       "3                 0  \n",
       "4                 0  \n",
       "\n",
       "[5 rows x 36 columns]"
      ]
     },
     "execution_count": 71,
     "metadata": {},
     "output_type": "execute_result"
    }
   ],
   "source": [
    "basetable_training.head()"
   ]
  },
  {
   "cell_type": "markdown",
   "metadata": {},
   "source": [
    "#### Dealing with outliers"
   ]
  },
  {
   "cell_type": "code",
   "execution_count": 72,
   "metadata": {},
   "outputs": [
    {
     "name": "stdout",
     "output_type": "stream",
     "text": [
      "129.3\n",
      "20.2\n"
     ]
    }
   ],
   "source": [
    "# Show the maximum age \n",
    "\n",
    "print(basetable_training[\"age_6169\"].max())\n",
    "print(basetable_training[\"age_6169\"].min())"
   ]
  },
  {
   "cell_type": "code",
   "execution_count": 73,
   "metadata": {},
   "outputs": [
    {
     "name": "stdout",
     "output_type": "stream",
     "text": [
      "96.78773347948696\n"
     ]
    }
   ],
   "source": [
    "#Dealing with outliers in the variable age\n",
    "\n",
    "# Calculate mean and standard deviation of age\n",
    "mean_age6169 = basetable_training[\"age_6169\"].mean()\n",
    "std_age6169 = basetable_training[\"age_6169\"].std()\n",
    "\n",
    "# Calculate the lower and upper limits\n",
    "lower_limit6169 = mean_age6169 - std_age6169 * 3\n",
    "upper_limit6169 = mean_age6169 + std_age6169 * 3\n",
    "\n",
    "# Add a variable age_no_outliers to the basetable with outliers replaced\n",
    "basetable_training[\"age_no_outliers\"] = (pd.Series([min(max(a, lower_limit6169), upper_limit6169) \n",
    "                             for a in basetable_training[\"age_6169\"]]))\n",
    "print(basetable_training[\"age_no_outliers\"].max())"
   ]
  },
  {
   "cell_type": "code",
   "execution_count": 74,
   "metadata": {},
   "outputs": [],
   "source": [
    "#Delete previous age columns\n",
    "del basetable_training[\"age_6169\"]"
   ]
  },
  {
   "cell_type": "code",
   "execution_count": 75,
   "metadata": {},
   "outputs": [
    {
     "name": "stdout",
     "output_type": "stream",
     "text": [
      "0.6211764705882361\n",
      "2479000.0\n"
     ]
    }
   ],
   "source": [
    "# Check minimum and max mean of donations\n",
    "print(basetable_training[\"mean\"].min())\n",
    "print(basetable_training[\"mean\"].max())\n"
   ]
  },
  {
   "cell_type": "code",
   "execution_count": 76,
   "metadata": {},
   "outputs": [
    {
     "name": "stdout",
     "output_type": "stream",
     "text": [
      "123.95\n"
     ]
    }
   ],
   "source": [
    "# Fill out the lower limit\n",
    "lower_limit6169 = 0.0\n",
    "\n",
    "# Winsorize the variable sum_donations\n",
    "basetable_training[\"mean\"] = winsorize(basetable_training[\"mean\"], limits=[lower_limit6169, 0.01])\n",
    "\n",
    "# Check maximum sum of donations after winsorization\n",
    "print(basetable_training[\"mean\"].max())"
   ]
  },
  {
   "cell_type": "code",
   "execution_count": 77,
   "metadata": {},
   "outputs": [
    {
     "name": "stdout",
     "output_type": "stream",
     "text": [
      "5.0\n",
      "4000030.0\n"
     ]
    }
   ],
   "source": [
    "# Check minimum, maximum sum of donations\n",
    "print(basetable_training[\"sum\"].min())\n",
    "print(basetable_training[\"sum\"].max())"
   ]
  },
  {
   "cell_type": "code",
   "execution_count": 78,
   "metadata": {},
   "outputs": [
    {
     "name": "stdout",
     "output_type": "stream",
     "text": [
      "1027.5900000000001\n"
     ]
    }
   ],
   "source": [
    "# Fill out the lower limit\n",
    "lower_limit6169 = 0.0\n",
    "\n",
    "# Winsorize the variable sum_donations\n",
    "basetable_training[\"sum\"] = winsorize(basetable_training[\"sum\"], limits=[lower_limit6169, 0.01])\n",
    "\n",
    "# Check maximum sum of donations after winsorization\n",
    "print(basetable_training[\"sum\"].max())"
   ]
  },
  {
   "cell_type": "code",
   "execution_count": 79,
   "metadata": {},
   "outputs": [
    {
     "name": "stdout",
     "output_type": "stream",
     "text": [
      "0.1\n",
      "2479000.0\n"
     ]
    }
   ],
   "source": [
    "# Check min and max of min amount of donations per donors\n",
    "print(basetable_training[\"min\"].min())\n",
    "print(basetable_training[\"min\"].max())"
   ]
  },
  {
   "cell_type": "code",
   "execution_count": 80,
   "metadata": {},
   "outputs": [
    {
     "name": "stdout",
     "output_type": "stream",
     "text": [
      "100.0\n"
     ]
    }
   ],
   "source": [
    "# Fill out the lower limit\n",
    "lower_limit6169 = 0.0\n",
    "\n",
    "# Winsorize the variable sum_donations\n",
    "basetable_training[\"min\"] = winsorize(basetable_training[\"min\"], limits=[lower_limit6169, 0.01])\n",
    "\n",
    "# Check maximum sum of donations after winsorization\n",
    "print(basetable_training[\"min\"].max())"
   ]
  },
  {
   "cell_type": "code",
   "execution_count": 81,
   "metadata": {},
   "outputs": [
    {
     "name": "stdout",
     "output_type": "stream",
     "text": [
      "5.0\n",
      "4000000.0\n"
     ]
    }
   ],
   "source": [
    "# Check min and max of max amount of donations per donors\n",
    "print(basetable_training[\"max\"].min())\n",
    "print(basetable_training[\"max\"].max())"
   ]
  },
  {
   "cell_type": "code",
   "execution_count": 82,
   "metadata": {},
   "outputs": [
    {
     "name": "stdout",
     "output_type": "stream",
     "text": [
      "200.0\n"
     ]
    }
   ],
   "source": [
    "# Fill out the lower limit\n",
    "lower_limit6169 = 0.0\n",
    "\n",
    "# Winsorize the variable sum_donations\n",
    "basetable_training[\"max\"] = winsorize(basetable_training[\"max\"], limits=[lower_limit6169, 0.01])\n",
    "\n",
    "# Check maximum sum of donations after winsorization\n",
    "print(basetable_training[\"max\"].max())"
   ]
  },
  {
   "cell_type": "markdown",
   "metadata": {},
   "source": [
    "#### ADD target variables to the base table"
   ]
  },
  {
   "cell_type": "code",
   "execution_count": 83,
   "metadata": {
    "scrolled": true
   },
   "outputs": [
    {
     "data": {
      "text/html": [
       "<div>\n",
       "<style scoped>\n",
       "    .dataframe tbody tr th:only-of-type {\n",
       "        vertical-align: middle;\n",
       "    }\n",
       "\n",
       "    .dataframe tbody tr th {\n",
       "        vertical-align: top;\n",
       "    }\n",
       "\n",
       "    .dataframe thead th {\n",
       "        text-align: right;\n",
       "    }\n",
       "</style>\n",
       "<table border=\"1\" class=\"dataframe\">\n",
       "  <thead>\n",
       "    <tr style=\"text-align: right;\">\n",
       "      <th></th>\n",
       "      <th>donorID</th>\n",
       "      <th>max</th>\n",
       "      <th>min</th>\n",
       "      <th>mean</th>\n",
       "      <th>sum</th>\n",
       "      <th>count</th>\n",
       "      <th>recency_days</th>\n",
       "      <th>last_month_mean</th>\n",
       "      <th>year1_mean</th>\n",
       "      <th>year1_count</th>\n",
       "      <th>...</th>\n",
       "      <th>language_NaN</th>\n",
       "      <th>segment_x</th>\n",
       "      <th>segment_y</th>\n",
       "      <th>segment_z</th>\n",
       "      <th>gender_x</th>\n",
       "      <th>gender_y</th>\n",
       "      <th>age_NaN</th>\n",
       "      <th>recency_days_NaN</th>\n",
       "      <th>age_no_outliers</th>\n",
       "      <th>target</th>\n",
       "    </tr>\n",
       "  </thead>\n",
       "  <tbody>\n",
       "    <tr>\n",
       "      <th>0</th>\n",
       "      <td>100001</td>\n",
       "      <td>30.00</td>\n",
       "      <td>6.69</td>\n",
       "      <td>14.874167</td>\n",
       "      <td>178.49</td>\n",
       "      <td>12.0</td>\n",
       "      <td>2440.0</td>\n",
       "      <td>0.0</td>\n",
       "      <td>0.0</td>\n",
       "      <td>0.0</td>\n",
       "      <td>...</td>\n",
       "      <td>0</td>\n",
       "      <td>0</td>\n",
       "      <td>1</td>\n",
       "      <td>0</td>\n",
       "      <td>0</td>\n",
       "      <td>0</td>\n",
       "      <td>0</td>\n",
       "      <td>0</td>\n",
       "      <td>50.7</td>\n",
       "      <td>0</td>\n",
       "    </tr>\n",
       "    <tr>\n",
       "      <th>1</th>\n",
       "      <td>100002</td>\n",
       "      <td>20.00</td>\n",
       "      <td>20.00</td>\n",
       "      <td>20.000000</td>\n",
       "      <td>20.00</td>\n",
       "      <td>1.0</td>\n",
       "      <td>1333.0</td>\n",
       "      <td>0.0</td>\n",
       "      <td>0.0</td>\n",
       "      <td>0.0</td>\n",
       "      <td>...</td>\n",
       "      <td>0</td>\n",
       "      <td>0</td>\n",
       "      <td>1</td>\n",
       "      <td>0</td>\n",
       "      <td>1</td>\n",
       "      <td>0</td>\n",
       "      <td>0</td>\n",
       "      <td>0</td>\n",
       "      <td>66.7</td>\n",
       "      <td>0</td>\n",
       "    </tr>\n",
       "    <tr>\n",
       "      <th>2</th>\n",
       "      <td>100004</td>\n",
       "      <td>49.58</td>\n",
       "      <td>24.79</td>\n",
       "      <td>27.546923</td>\n",
       "      <td>716.22</td>\n",
       "      <td>26.0</td>\n",
       "      <td>2650.0</td>\n",
       "      <td>0.0</td>\n",
       "      <td>0.0</td>\n",
       "      <td>0.0</td>\n",
       "      <td>...</td>\n",
       "      <td>0</td>\n",
       "      <td>0</td>\n",
       "      <td>1</td>\n",
       "      <td>0</td>\n",
       "      <td>0</td>\n",
       "      <td>0</td>\n",
       "      <td>0</td>\n",
       "      <td>0</td>\n",
       "      <td>66.5</td>\n",
       "      <td>0</td>\n",
       "    </tr>\n",
       "    <tr>\n",
       "      <th>3</th>\n",
       "      <td>100008</td>\n",
       "      <td>50.00</td>\n",
       "      <td>24.79</td>\n",
       "      <td>41.456667</td>\n",
       "      <td>124.37</td>\n",
       "      <td>3.0</td>\n",
       "      <td>2503.0</td>\n",
       "      <td>0.0</td>\n",
       "      <td>0.0</td>\n",
       "      <td>0.0</td>\n",
       "      <td>...</td>\n",
       "      <td>0</td>\n",
       "      <td>0</td>\n",
       "      <td>0</td>\n",
       "      <td>0</td>\n",
       "      <td>1</td>\n",
       "      <td>0</td>\n",
       "      <td>0</td>\n",
       "      <td>0</td>\n",
       "      <td>81.1</td>\n",
       "      <td>0</td>\n",
       "    </tr>\n",
       "    <tr>\n",
       "      <th>4</th>\n",
       "      <td>100009</td>\n",
       "      <td>25.00</td>\n",
       "      <td>7.44</td>\n",
       "      <td>17.198947</td>\n",
       "      <td>326.78</td>\n",
       "      <td>19.0</td>\n",
       "      <td>2354.0</td>\n",
       "      <td>0.0</td>\n",
       "      <td>0.0</td>\n",
       "      <td>0.0</td>\n",
       "      <td>...</td>\n",
       "      <td>0</td>\n",
       "      <td>0</td>\n",
       "      <td>1</td>\n",
       "      <td>0</td>\n",
       "      <td>1</td>\n",
       "      <td>0</td>\n",
       "      <td>0</td>\n",
       "      <td>0</td>\n",
       "      <td>86.7</td>\n",
       "      <td>0</td>\n",
       "    </tr>\n",
       "  </tbody>\n",
       "</table>\n",
       "<p>5 rows × 37 columns</p>\n",
       "</div>"
      ],
      "text/plain": [
       "   donorID    max    min       mean     sum  count  recency_days  \\\n",
       "0   100001  30.00   6.69  14.874167  178.49   12.0        2440.0   \n",
       "1   100002  20.00  20.00  20.000000   20.00    1.0        1333.0   \n",
       "2   100004  49.58  24.79  27.546923  716.22   26.0        2650.0   \n",
       "3   100008  50.00  24.79  41.456667  124.37    3.0        2503.0   \n",
       "4   100009  25.00   7.44  17.198947  326.78   19.0        2354.0   \n",
       "\n",
       "   last_month_mean  year1_mean  year1_count  ...  language_NaN  segment_x  \\\n",
       "0              0.0         0.0          0.0  ...             0          0   \n",
       "1              0.0         0.0          0.0  ...             0          0   \n",
       "2              0.0         0.0          0.0  ...             0          0   \n",
       "3              0.0         0.0          0.0  ...             0          0   \n",
       "4              0.0         0.0          0.0  ...             0          0   \n",
       "\n",
       "   segment_y  segment_z  gender_x  gender_y  age_NaN  recency_days_NaN  \\\n",
       "0          1          0         0         0        0                 0   \n",
       "1          1          0         1         0        0                 0   \n",
       "2          1          0         0         0        0                 0   \n",
       "3          0          0         1         0        0                 0   \n",
       "4          1          0         1         0        0                 0   \n",
       "\n",
       "   age_no_outliers  target  \n",
       "0             50.7       0  \n",
       "1             66.7       0  \n",
       "2             66.5       0  \n",
       "3             81.1       0  \n",
       "4             86.7       0  \n",
       "\n",
       "[5 rows x 37 columns]"
      ]
     },
     "execution_count": 83,
     "metadata": {},
     "output_type": "execute_result"
    }
   ],
   "source": [
    "#derive targets and add to the basetables\n",
    "\n",
    "target = list(target_training[\"donorID\"][target_training[\"amount\"] > 0])\n",
    "\n",
    "basetable_training[\"target\"] = pd.Series([1 if donorID in target else 0 for donorID in basetable_training[\"donorID\"]])\n",
    "basetable_training.head()"
   ]
  },
  {
   "cell_type": "code",
   "execution_count": 84,
   "metadata": {},
   "outputs": [
    {
     "name": "stdout",
     "output_type": "stream",
     "text": [
      "0.034\n"
     ]
    }
   ],
   "source": [
    "# Target incidences\n",
    "print(round(sum(basetable_training[\"target\"]) / len(basetable_training), 3))\n"
   ]
  },
  {
   "cell_type": "code",
   "execution_count": 85,
   "metadata": {},
   "outputs": [
    {
     "data": {
      "text/plain": [
       "0"
      ]
     },
     "execution_count": 85,
     "metadata": {},
     "output_type": "execute_result"
    }
   ],
   "source": [
    "\n",
    "basetable_training.isna().sum().sum()\n"
   ]
  },
  {
   "cell_type": "code",
   "execution_count": 86,
   "metadata": {},
   "outputs": [],
   "source": [
    "basetable_training.to_csv('basetable_training_Processed-data.csv')"
   ]
  },
  {
   "cell_type": "markdown",
   "metadata": {},
   "source": [
    "### -  Predictive variables test set"
   ]
  },
  {
   "cell_type": "code",
   "execution_count": 87,
   "metadata": {},
   "outputs": [
    {
     "name": "stdout",
     "output_type": "stream",
     "text": [
      "214231\n"
     ]
    }
   ],
   "source": [
    "reference7244 = dt.datetime(year=2019, month=6, day=18)\n",
    "\n",
    "gifts_test = gifts[(gifts[\"date\"] < reference7244)]\n",
    "\n",
    "print(len(gifts_test))"
   ]
  },
  {
   "cell_type": "code",
   "execution_count": 88,
   "metadata": {
    "scrolled": true
   },
   "outputs": [
    {
     "data": {
      "text/html": [
       "<div>\n",
       "<style scoped>\n",
       "    .dataframe tbody tr th:only-of-type {\n",
       "        vertical-align: middle;\n",
       "    }\n",
       "\n",
       "    .dataframe tbody tr th {\n",
       "        vertical-align: top;\n",
       "    }\n",
       "\n",
       "    .dataframe thead th {\n",
       "        text-align: right;\n",
       "    }\n",
       "</style>\n",
       "<table border=\"1\" class=\"dataframe\">\n",
       "  <thead>\n",
       "    <tr style=\"text-align: right;\">\n",
       "      <th></th>\n",
       "      <th>donorID</th>\n",
       "      <th>max</th>\n",
       "      <th>min</th>\n",
       "      <th>mean</th>\n",
       "      <th>sum</th>\n",
       "      <th>count</th>\n",
       "    </tr>\n",
       "  </thead>\n",
       "  <tbody>\n",
       "    <tr>\n",
       "      <th>0</th>\n",
       "      <td>100001</td>\n",
       "      <td>30.00</td>\n",
       "      <td>6.69</td>\n",
       "      <td>14.874167</td>\n",
       "      <td>178.49</td>\n",
       "      <td>12</td>\n",
       "    </tr>\n",
       "    <tr>\n",
       "      <th>1</th>\n",
       "      <td>100002</td>\n",
       "      <td>20.00</td>\n",
       "      <td>20.00</td>\n",
       "      <td>20.000000</td>\n",
       "      <td>20.00</td>\n",
       "      <td>1</td>\n",
       "    </tr>\n",
       "    <tr>\n",
       "      <th>2</th>\n",
       "      <td>100003</td>\n",
       "      <td>5.00</td>\n",
       "      <td>3.00</td>\n",
       "      <td>3.833333</td>\n",
       "      <td>46.00</td>\n",
       "      <td>12</td>\n",
       "    </tr>\n",
       "    <tr>\n",
       "      <th>3</th>\n",
       "      <td>100004</td>\n",
       "      <td>49.58</td>\n",
       "      <td>24.79</td>\n",
       "      <td>27.546923</td>\n",
       "      <td>716.22</td>\n",
       "      <td>26</td>\n",
       "    </tr>\n",
       "    <tr>\n",
       "      <th>4</th>\n",
       "      <td>100005</td>\n",
       "      <td>10.00</td>\n",
       "      <td>2.48</td>\n",
       "      <td>4.992000</td>\n",
       "      <td>24.96</td>\n",
       "      <td>5</td>\n",
       "    </tr>\n",
       "  </tbody>\n",
       "</table>\n",
       "</div>"
      ],
      "text/plain": [
       "   donorID    max    min       mean     sum  count\n",
       "0   100001  30.00   6.69  14.874167  178.49     12\n",
       "1   100002  20.00  20.00  20.000000   20.00      1\n",
       "2   100003   5.00   3.00   3.833333   46.00     12\n",
       "3   100004  49.58  24.79  27.546923  716.22     26\n",
       "4   100005  10.00   2.48   4.992000   24.96      5"
      ]
     },
     "execution_count": 88,
     "metadata": {},
     "output_type": "execute_result"
    }
   ],
   "source": [
    "#create aggregate variable\n",
    "basetable_test = gifts_test.groupby([\"donorID\"])[\"amount\"].agg(['max', 'min','mean','sum', 'count']).reset_index()\n",
    "basetable_test.head()"
   ]
  },
  {
   "cell_type": "code",
   "execution_count": 89,
   "metadata": {},
   "outputs": [],
   "source": [
    "# Latest gift per donor\n",
    "last_gift_test = gifts_test.groupby([\"donorID\"])[\"date\"].max().reset_index()\n",
    "last_gift_test[\"recency_days\"] = reference7244 - last_gift_test[\"date\"]   \n",
    "last_gift_test[\"recency_days\"] = last_gift_test.recency_days.apply(lambda x: x.days)\n",
    "# Add recency to the basetable\n",
    "basetable_test = pd.merge(basetable_test, last_gift_test[[\"donorID\", \"recency_days\"]], how=\"left\")"
   ]
  },
  {
   "cell_type": "code",
   "execution_count": 90,
   "metadata": {},
   "outputs": [
    {
     "data": {
      "text/html": [
       "<div>\n",
       "<style scoped>\n",
       "    .dataframe tbody tr th:only-of-type {\n",
       "        vertical-align: middle;\n",
       "    }\n",
       "\n",
       "    .dataframe tbody tr th {\n",
       "        vertical-align: top;\n",
       "    }\n",
       "\n",
       "    .dataframe thead th {\n",
       "        text-align: right;\n",
       "    }\n",
       "</style>\n",
       "<table border=\"1\" class=\"dataframe\">\n",
       "  <thead>\n",
       "    <tr style=\"text-align: right;\">\n",
       "      <th></th>\n",
       "      <th>donorID</th>\n",
       "      <th>max</th>\n",
       "      <th>min</th>\n",
       "      <th>mean</th>\n",
       "      <th>sum</th>\n",
       "      <th>count</th>\n",
       "      <th>recency_days</th>\n",
       "    </tr>\n",
       "  </thead>\n",
       "  <tbody>\n",
       "    <tr>\n",
       "      <th>0</th>\n",
       "      <td>100001</td>\n",
       "      <td>30.00</td>\n",
       "      <td>6.69</td>\n",
       "      <td>14.874167</td>\n",
       "      <td>178.49</td>\n",
       "      <td>12</td>\n",
       "      <td>2727</td>\n",
       "    </tr>\n",
       "    <tr>\n",
       "      <th>1</th>\n",
       "      <td>100002</td>\n",
       "      <td>20.00</td>\n",
       "      <td>20.00</td>\n",
       "      <td>20.000000</td>\n",
       "      <td>20.00</td>\n",
       "      <td>1</td>\n",
       "      <td>1620</td>\n",
       "    </tr>\n",
       "    <tr>\n",
       "      <th>2</th>\n",
       "      <td>100003</td>\n",
       "      <td>5.00</td>\n",
       "      <td>3.00</td>\n",
       "      <td>3.833333</td>\n",
       "      <td>46.00</td>\n",
       "      <td>12</td>\n",
       "      <td>1</td>\n",
       "    </tr>\n",
       "    <tr>\n",
       "      <th>3</th>\n",
       "      <td>100004</td>\n",
       "      <td>49.58</td>\n",
       "      <td>24.79</td>\n",
       "      <td>27.546923</td>\n",
       "      <td>716.22</td>\n",
       "      <td>26</td>\n",
       "      <td>2937</td>\n",
       "    </tr>\n",
       "    <tr>\n",
       "      <th>4</th>\n",
       "      <td>100005</td>\n",
       "      <td>10.00</td>\n",
       "      <td>2.48</td>\n",
       "      <td>4.992000</td>\n",
       "      <td>24.96</td>\n",
       "      <td>5</td>\n",
       "      <td>61</td>\n",
       "    </tr>\n",
       "  </tbody>\n",
       "</table>\n",
       "</div>"
      ],
      "text/plain": [
       "   donorID    max    min       mean     sum  count  recency_days\n",
       "0   100001  30.00   6.69  14.874167  178.49     12          2727\n",
       "1   100002  20.00  20.00  20.000000   20.00      1          1620\n",
       "2   100003   5.00   3.00   3.833333   46.00     12             1\n",
       "3   100004  49.58  24.79  27.546923  716.22     26          2937\n",
       "4   100005  10.00   2.48   4.992000   24.96      5            61"
      ]
     },
     "execution_count": 90,
     "metadata": {},
     "output_type": "execute_result"
    }
   ],
   "source": [
    "basetable_test.head()"
   ]
  },
  {
   "cell_type": "code",
   "execution_count": 91,
   "metadata": {
    "scrolled": true
   },
   "outputs": [],
   "source": [
    "reference = dt.datetime(2019, 6, 18)\n",
    "reference1 = dt.datetime(2019, 5, 18)\n",
    "\n",
    "#gifts last month\n",
    "gifts_last_month7244 = gifts_test[(gifts_test[\"date\"] <= reference) & (gifts_test[\"date\"] >= reference1)]\n",
    "\n",
    "last_month7244 = gifts_last_month7244.groupby(\"donorID\")[\"amount\"].mean().reset_index()\n",
    "last_month7244.columns = [\"donorID\", \"last_month_mean\"]\n",
    "\n",
    "basetable_test = pd.merge(basetable_test, last_month7244, how='left', on='donorID')"
   ]
  },
  {
   "cell_type": "code",
   "execution_count": 92,
   "metadata": {},
   "outputs": [],
   "source": [
    "#Number of gifts in this period per donor\n",
    "reference = dt.datetime(2019, 6, 18)\n",
    "reference_y = dt.datetime(2018, 6, 18)\n",
    "\n",
    "#gifts last month\n",
    "gifts_last_year7244 = gifts_test[(gifts_test[\"date\"] <= reference) & (gifts_test[\"date\"] >= reference_y)]\n",
    "\n",
    "year1_gifts_7244 = gifts_last_year7244.groupby(\"donorID\")[\"amount\"].agg(['mean','count']).reset_index()\n",
    "year1_gifts_7244.columns = [\"donorID\", \"year1_mean\", \"year1_count\"]\n",
    "\n",
    "basetable_test = pd.merge(basetable_test, year1_gifts_7244, how='left', on='donorID' )\n"
   ]
  },
  {
   "cell_type": "code",
   "execution_count": 93,
   "metadata": {},
   "outputs": [
    {
     "data": {
      "text/html": [
       "<div>\n",
       "<style scoped>\n",
       "    .dataframe tbody tr th:only-of-type {\n",
       "        vertical-align: middle;\n",
       "    }\n",
       "\n",
       "    .dataframe tbody tr th {\n",
       "        vertical-align: top;\n",
       "    }\n",
       "\n",
       "    .dataframe thead th {\n",
       "        text-align: right;\n",
       "    }\n",
       "</style>\n",
       "<table border=\"1\" class=\"dataframe\">\n",
       "  <thead>\n",
       "    <tr style=\"text-align: right;\">\n",
       "      <th></th>\n",
       "      <th>donorID</th>\n",
       "      <th>max</th>\n",
       "      <th>min</th>\n",
       "      <th>mean</th>\n",
       "      <th>sum</th>\n",
       "      <th>count</th>\n",
       "      <th>recency_days</th>\n",
       "      <th>last_month_mean</th>\n",
       "      <th>year1_mean</th>\n",
       "      <th>year1_count</th>\n",
       "      <th>year2_mean</th>\n",
       "      <th>year2_count</th>\n",
       "    </tr>\n",
       "  </thead>\n",
       "  <tbody>\n",
       "    <tr>\n",
       "      <th>0</th>\n",
       "      <td>100001</td>\n",
       "      <td>30.00</td>\n",
       "      <td>6.69</td>\n",
       "      <td>14.874167</td>\n",
       "      <td>178.49</td>\n",
       "      <td>12</td>\n",
       "      <td>2727</td>\n",
       "      <td>NaN</td>\n",
       "      <td>NaN</td>\n",
       "      <td>NaN</td>\n",
       "      <td>NaN</td>\n",
       "      <td>NaN</td>\n",
       "    </tr>\n",
       "    <tr>\n",
       "      <th>1</th>\n",
       "      <td>100002</td>\n",
       "      <td>20.00</td>\n",
       "      <td>20.00</td>\n",
       "      <td>20.000000</td>\n",
       "      <td>20.00</td>\n",
       "      <td>1</td>\n",
       "      <td>1620</td>\n",
       "      <td>NaN</td>\n",
       "      <td>NaN</td>\n",
       "      <td>NaN</td>\n",
       "      <td>NaN</td>\n",
       "      <td>NaN</td>\n",
       "    </tr>\n",
       "    <tr>\n",
       "      <th>2</th>\n",
       "      <td>100003</td>\n",
       "      <td>5.00</td>\n",
       "      <td>3.00</td>\n",
       "      <td>3.833333</td>\n",
       "      <td>46.00</td>\n",
       "      <td>12</td>\n",
       "      <td>1</td>\n",
       "      <td>4.0</td>\n",
       "      <td>3.875</td>\n",
       "      <td>8.0</td>\n",
       "      <td>3.75</td>\n",
       "      <td>4.0</td>\n",
       "    </tr>\n",
       "    <tr>\n",
       "      <th>3</th>\n",
       "      <td>100004</td>\n",
       "      <td>49.58</td>\n",
       "      <td>24.79</td>\n",
       "      <td>27.546923</td>\n",
       "      <td>716.22</td>\n",
       "      <td>26</td>\n",
       "      <td>2937</td>\n",
       "      <td>NaN</td>\n",
       "      <td>NaN</td>\n",
       "      <td>NaN</td>\n",
       "      <td>NaN</td>\n",
       "      <td>NaN</td>\n",
       "    </tr>\n",
       "    <tr>\n",
       "      <th>4</th>\n",
       "      <td>100005</td>\n",
       "      <td>10.00</td>\n",
       "      <td>2.48</td>\n",
       "      <td>4.992000</td>\n",
       "      <td>24.96</td>\n",
       "      <td>5</td>\n",
       "      <td>61</td>\n",
       "      <td>NaN</td>\n",
       "      <td>7.500</td>\n",
       "      <td>2.0</td>\n",
       "      <td>NaN</td>\n",
       "      <td>NaN</td>\n",
       "    </tr>\n",
       "  </tbody>\n",
       "</table>\n",
       "</div>"
      ],
      "text/plain": [
       "   donorID    max    min       mean     sum  count  recency_days  \\\n",
       "0   100001  30.00   6.69  14.874167  178.49     12          2727   \n",
       "1   100002  20.00  20.00  20.000000   20.00      1          1620   \n",
       "2   100003   5.00   3.00   3.833333   46.00     12             1   \n",
       "3   100004  49.58  24.79  27.546923  716.22     26          2937   \n",
       "4   100005  10.00   2.48   4.992000   24.96      5            61   \n",
       "\n",
       "   last_month_mean  year1_mean  year1_count  year2_mean  year2_count  \n",
       "0              NaN         NaN          NaN         NaN          NaN  \n",
       "1              NaN         NaN          NaN         NaN          NaN  \n",
       "2              4.0       3.875          8.0        3.75          4.0  \n",
       "3              NaN         NaN          NaN         NaN          NaN  \n",
       "4              NaN       7.500          2.0         NaN          NaN  "
      ]
     },
     "execution_count": 93,
     "metadata": {},
     "output_type": "execute_result"
    }
   ],
   "source": [
    "#Number of gifts in this period per donor\n",
    "reference_y1 = dt.datetime(2018, 6, 18)\n",
    "reference_y2 = dt.datetime(2017, 6, 18)\n",
    "\n",
    "#gifts last month\n",
    "gifts_last_year7244 = gifts_test[(gifts_test[\"date\"] < reference_y1) & (gifts_test[\"date\"] >= reference_y2)]\n",
    "\n",
    "year2_gifts_7244 = gifts_last_year7244.groupby(\"donorID\")[\"amount\"].agg(['mean','count']).reset_index()\n",
    "year2_gifts_7244.columns = [\"donorID\", \"year2_mean\", \"year2_count\"]\n",
    "\n",
    "basetable_test = pd.merge(basetable_test, year2_gifts_7244, how='left', on='donorID' )\n",
    "basetable_test.head()"
   ]
  },
  {
   "cell_type": "code",
   "execution_count": 94,
   "metadata": {},
   "outputs": [],
   "source": [
    "#create different ratio :last month over the mean of past year donation\n",
    "basetable_test[\"ratio_month_year\"] = basetable_test[\"last_month_mean\"] / basetable_test[\"year1_mean\"]\n",
    "#create year to year ratio\n",
    "basetable_test[\"ratio_year2year_mean\"] = basetable_test[\"year1_mean\"] / basetable_test[\"year2_mean\"]\n",
    "basetable_test[\"ratio_year2year_count\"] = basetable_test[\"year1_count\"] / basetable_test[\"year2_count\"]\n"
   ]
  },
  {
   "cell_type": "code",
   "execution_count": 95,
   "metadata": {
    "scrolled": true
   },
   "outputs": [
    {
     "data": {
      "text/html": [
       "<div>\n",
       "<style scoped>\n",
       "    .dataframe tbody tr th:only-of-type {\n",
       "        vertical-align: middle;\n",
       "    }\n",
       "\n",
       "    .dataframe tbody tr th {\n",
       "        vertical-align: top;\n",
       "    }\n",
       "\n",
       "    .dataframe thead th {\n",
       "        text-align: right;\n",
       "    }\n",
       "</style>\n",
       "<table border=\"1\" class=\"dataframe\">\n",
       "  <thead>\n",
       "    <tr style=\"text-align: right;\">\n",
       "      <th></th>\n",
       "      <th>donorID</th>\n",
       "      <th>max</th>\n",
       "      <th>min</th>\n",
       "      <th>mean</th>\n",
       "      <th>sum</th>\n",
       "      <th>count</th>\n",
       "      <th>recency_days</th>\n",
       "      <th>last_month_mean</th>\n",
       "      <th>year1_mean</th>\n",
       "      <th>year1_count</th>\n",
       "      <th>year2_mean</th>\n",
       "      <th>year2_count</th>\n",
       "      <th>ratio_month_year</th>\n",
       "      <th>ratio_year2year_mean</th>\n",
       "      <th>ratio_year2year_count</th>\n",
       "    </tr>\n",
       "  </thead>\n",
       "  <tbody>\n",
       "    <tr>\n",
       "      <th>0</th>\n",
       "      <td>100001</td>\n",
       "      <td>30.00</td>\n",
       "      <td>6.69</td>\n",
       "      <td>14.874167</td>\n",
       "      <td>178.49</td>\n",
       "      <td>12</td>\n",
       "      <td>2727</td>\n",
       "      <td>NaN</td>\n",
       "      <td>NaN</td>\n",
       "      <td>NaN</td>\n",
       "      <td>NaN</td>\n",
       "      <td>NaN</td>\n",
       "      <td>NaN</td>\n",
       "      <td>NaN</td>\n",
       "      <td>NaN</td>\n",
       "    </tr>\n",
       "    <tr>\n",
       "      <th>1</th>\n",
       "      <td>100002</td>\n",
       "      <td>20.00</td>\n",
       "      <td>20.00</td>\n",
       "      <td>20.000000</td>\n",
       "      <td>20.00</td>\n",
       "      <td>1</td>\n",
       "      <td>1620</td>\n",
       "      <td>NaN</td>\n",
       "      <td>NaN</td>\n",
       "      <td>NaN</td>\n",
       "      <td>NaN</td>\n",
       "      <td>NaN</td>\n",
       "      <td>NaN</td>\n",
       "      <td>NaN</td>\n",
       "      <td>NaN</td>\n",
       "    </tr>\n",
       "    <tr>\n",
       "      <th>2</th>\n",
       "      <td>100003</td>\n",
       "      <td>5.00</td>\n",
       "      <td>3.00</td>\n",
       "      <td>3.833333</td>\n",
       "      <td>46.00</td>\n",
       "      <td>12</td>\n",
       "      <td>1</td>\n",
       "      <td>4.0</td>\n",
       "      <td>3.875</td>\n",
       "      <td>8.0</td>\n",
       "      <td>3.75</td>\n",
       "      <td>4.0</td>\n",
       "      <td>1.032258</td>\n",
       "      <td>1.033333</td>\n",
       "      <td>2.0</td>\n",
       "    </tr>\n",
       "    <tr>\n",
       "      <th>3</th>\n",
       "      <td>100004</td>\n",
       "      <td>49.58</td>\n",
       "      <td>24.79</td>\n",
       "      <td>27.546923</td>\n",
       "      <td>716.22</td>\n",
       "      <td>26</td>\n",
       "      <td>2937</td>\n",
       "      <td>NaN</td>\n",
       "      <td>NaN</td>\n",
       "      <td>NaN</td>\n",
       "      <td>NaN</td>\n",
       "      <td>NaN</td>\n",
       "      <td>NaN</td>\n",
       "      <td>NaN</td>\n",
       "      <td>NaN</td>\n",
       "    </tr>\n",
       "    <tr>\n",
       "      <th>4</th>\n",
       "      <td>100005</td>\n",
       "      <td>10.00</td>\n",
       "      <td>2.48</td>\n",
       "      <td>4.992000</td>\n",
       "      <td>24.96</td>\n",
       "      <td>5</td>\n",
       "      <td>61</td>\n",
       "      <td>NaN</td>\n",
       "      <td>7.500</td>\n",
       "      <td>2.0</td>\n",
       "      <td>NaN</td>\n",
       "      <td>NaN</td>\n",
       "      <td>NaN</td>\n",
       "      <td>NaN</td>\n",
       "      <td>NaN</td>\n",
       "    </tr>\n",
       "  </tbody>\n",
       "</table>\n",
       "</div>"
      ],
      "text/plain": [
       "   donorID    max    min       mean     sum  count  recency_days  \\\n",
       "0   100001  30.00   6.69  14.874167  178.49     12          2727   \n",
       "1   100002  20.00  20.00  20.000000   20.00      1          1620   \n",
       "2   100003   5.00   3.00   3.833333   46.00     12             1   \n",
       "3   100004  49.58  24.79  27.546923  716.22     26          2937   \n",
       "4   100005  10.00   2.48   4.992000   24.96      5            61   \n",
       "\n",
       "   last_month_mean  year1_mean  year1_count  year2_mean  year2_count  \\\n",
       "0              NaN         NaN          NaN         NaN          NaN   \n",
       "1              NaN         NaN          NaN         NaN          NaN   \n",
       "2              4.0       3.875          8.0        3.75          4.0   \n",
       "3              NaN         NaN          NaN         NaN          NaN   \n",
       "4              NaN       7.500          2.0         NaN          NaN   \n",
       "\n",
       "   ratio_month_year  ratio_year2year_mean  ratio_year2year_count  \n",
       "0               NaN                   NaN                    NaN  \n",
       "1               NaN                   NaN                    NaN  \n",
       "2          1.032258              1.033333                    2.0  \n",
       "3               NaN                   NaN                    NaN  \n",
       "4               NaN                   NaN                    NaN  "
      ]
     },
     "execution_count": 95,
     "metadata": {},
     "output_type": "execute_result"
    }
   ],
   "source": [
    "basetable_test.head()"
   ]
  },
  {
   "cell_type": "code",
   "execution_count": 96,
   "metadata": {},
   "outputs": [],
   "source": [
    "#create segmentation of our donor based on below criteria\n",
    "basetable_test['segment'] = ''\n",
    "\n",
    "for i in range(len(basetable_test)):\n",
    "    if (basetable_test['mean'][i] > 1.5*(gifts_test[\"amount\"].mean())) & (basetable_test['count'][i]>=5):\n",
    "        basetable_test['segment'][i] = 'Gold'\n",
    "    elif (basetable_test['mean'][i] >= (gifts_test[\"amount\"].mean())) & (basetable_test['count'][i]>=3):\n",
    "        basetable_test['segment'][i] = 'Silver'\n",
    "    elif (basetable_test['mean'][i] > 0.5*(gifts_test[\"amount\"].mean())) & (basetable_test['count'][i]>=3):\n",
    "        basetable_test['segment'][i] = 'Bronze'\n",
    "    else:\n",
    "        basetable_test['segment'][i] = 'Regular'"
   ]
  },
  {
   "cell_type": "code",
   "execution_count": 97,
   "metadata": {},
   "outputs": [],
   "source": [
    "gold_pop_test= basetable_test[basetable_test['segment']=='Gold']\n",
    "silver_pop_test = basetable_test[basetable_test['segment']=='Silver']\n",
    "bronze_pop_test = basetable_test[basetable_test['segment']=='Bronze']"
   ]
  },
  {
   "cell_type": "code",
   "execution_count": 98,
   "metadata": {},
   "outputs": [],
   "source": [
    "donors[\"dateOfBirth\"] = pd.to_datetime(donors[\"dateOfBirth\"])"
   ]
  },
  {
   "cell_type": "code",
   "execution_count": 99,
   "metadata": {},
   "outputs": [
    {
     "data": {
      "text/html": [
       "<div>\n",
       "<style scoped>\n",
       "    .dataframe tbody tr th:only-of-type {\n",
       "        vertical-align: middle;\n",
       "    }\n",
       "\n",
       "    .dataframe tbody tr th {\n",
       "        vertical-align: top;\n",
       "    }\n",
       "\n",
       "    .dataframe thead th {\n",
       "        text-align: right;\n",
       "    }\n",
       "</style>\n",
       "<table border=\"1\" class=\"dataframe\">\n",
       "  <thead>\n",
       "    <tr style=\"text-align: right;\">\n",
       "      <th></th>\n",
       "      <th>donorID</th>\n",
       "      <th>zipcode</th>\n",
       "      <th>province</th>\n",
       "      <th>region</th>\n",
       "      <th>gender</th>\n",
       "      <th>language</th>\n",
       "      <th>dateOfBirth</th>\n",
       "      <th>age_6169</th>\n",
       "      <th>age_7244</th>\n",
       "    </tr>\n",
       "  </thead>\n",
       "  <tbody>\n",
       "    <tr>\n",
       "      <th>0</th>\n",
       "      <td>100001</td>\n",
       "      <td>1861.0</td>\n",
       "      <td>Flemish Brabant</td>\n",
       "      <td>Flanders</td>\n",
       "      <td>F</td>\n",
       "      <td>NL</td>\n",
       "      <td>1967-12-24</td>\n",
       "      <td>50.7</td>\n",
       "      <td>51.5</td>\n",
       "    </tr>\n",
       "    <tr>\n",
       "      <th>1</th>\n",
       "      <td>100002</td>\n",
       "      <td>2260.0</td>\n",
       "      <td>Antwerp</td>\n",
       "      <td>Flanders</td>\n",
       "      <td>M</td>\n",
       "      <td>NL</td>\n",
       "      <td>1952-01-14</td>\n",
       "      <td>66.7</td>\n",
       "      <td>67.5</td>\n",
       "    </tr>\n",
       "    <tr>\n",
       "      <th>2</th>\n",
       "      <td>100003</td>\n",
       "      <td>1780.0</td>\n",
       "      <td>Flemish Brabant</td>\n",
       "      <td>Flanders</td>\n",
       "      <td>M</td>\n",
       "      <td>NL</td>\n",
       "      <td>1986-12-23</td>\n",
       "      <td>31.7</td>\n",
       "      <td>32.5</td>\n",
       "    </tr>\n",
       "    <tr>\n",
       "      <th>3</th>\n",
       "      <td>100004</td>\n",
       "      <td>1020.0</td>\n",
       "      <td>Brussels</td>\n",
       "      <td>Brussels</td>\n",
       "      <td>F</td>\n",
       "      <td>FR</td>\n",
       "      <td>1952-03-29</td>\n",
       "      <td>66.5</td>\n",
       "      <td>67.3</td>\n",
       "    </tr>\n",
       "    <tr>\n",
       "      <th>4</th>\n",
       "      <td>100005</td>\n",
       "      <td>1020.0</td>\n",
       "      <td>Brussels</td>\n",
       "      <td>Brussels</td>\n",
       "      <td>F</td>\n",
       "      <td>FR</td>\n",
       "      <td>1986-06-25</td>\n",
       "      <td>32.2</td>\n",
       "      <td>33.0</td>\n",
       "    </tr>\n",
       "  </tbody>\n",
       "</table>\n",
       "</div>"
      ],
      "text/plain": [
       "   donorID  zipcode         province    region gender language dateOfBirth  \\\n",
       "0   100001   1861.0  Flemish Brabant  Flanders      F       NL  1967-12-24   \n",
       "1   100002   2260.0          Antwerp  Flanders      M       NL  1952-01-14   \n",
       "2   100003   1780.0  Flemish Brabant  Flanders      M       NL  1986-12-23   \n",
       "3   100004   1020.0         Brussels  Brussels      F       FR  1952-03-29   \n",
       "4   100005   1020.0         Brussels  Brussels      F       FR  1986-06-25   \n",
       "\n",
       "   age_6169  age_7244  \n",
       "0      50.7      51.5  \n",
       "1      66.7      67.5  \n",
       "2      31.7      32.5  \n",
       "3      66.5      67.3  \n",
       "4      32.2      33.0  "
      ]
     },
     "execution_count": 99,
     "metadata": {},
     "output_type": "execute_result"
    }
   ],
   "source": [
    "#calculate age test basetable\n",
    "donors['age_7244'] = (reference7244 - donors['dateOfBirth'])\n",
    "donors['age_7244'] = donors.age_7244.apply(lambda x: x.days)\n",
    "donors['age_7244'] = round((donors['age_7244']/365),1)\n",
    "donors.head()"
   ]
  },
  {
   "cell_type": "code",
   "execution_count": 100,
   "metadata": {},
   "outputs": [
    {
     "data": {
      "text/html": [
       "<div>\n",
       "<style scoped>\n",
       "    .dataframe tbody tr th:only-of-type {\n",
       "        vertical-align: middle;\n",
       "    }\n",
       "\n",
       "    .dataframe tbody tr th {\n",
       "        vertical-align: top;\n",
       "    }\n",
       "\n",
       "    .dataframe thead th {\n",
       "        text-align: right;\n",
       "    }\n",
       "</style>\n",
       "<table border=\"1\" class=\"dataframe\">\n",
       "  <thead>\n",
       "    <tr style=\"text-align: right;\">\n",
       "      <th></th>\n",
       "      <th>donorID</th>\n",
       "      <th>max</th>\n",
       "      <th>min</th>\n",
       "      <th>mean</th>\n",
       "      <th>sum</th>\n",
       "      <th>count</th>\n",
       "      <th>recency_days</th>\n",
       "      <th>last_month_mean</th>\n",
       "      <th>year1_mean</th>\n",
       "      <th>year1_count</th>\n",
       "      <th>year2_mean</th>\n",
       "      <th>year2_count</th>\n",
       "      <th>ratio_month_year</th>\n",
       "      <th>ratio_year2year_mean</th>\n",
       "      <th>ratio_year2year_count</th>\n",
       "      <th>segment</th>\n",
       "      <th>age_7244</th>\n",
       "      <th>gender</th>\n",
       "      <th>province</th>\n",
       "      <th>language</th>\n",
       "    </tr>\n",
       "  </thead>\n",
       "  <tbody>\n",
       "    <tr>\n",
       "      <th>0</th>\n",
       "      <td>100001</td>\n",
       "      <td>30.0</td>\n",
       "      <td>6.69</td>\n",
       "      <td>14.874167</td>\n",
       "      <td>178.49</td>\n",
       "      <td>12</td>\n",
       "      <td>2727</td>\n",
       "      <td>NaN</td>\n",
       "      <td>NaN</td>\n",
       "      <td>NaN</td>\n",
       "      <td>NaN</td>\n",
       "      <td>NaN</td>\n",
       "      <td>NaN</td>\n",
       "      <td>NaN</td>\n",
       "      <td>NaN</td>\n",
       "      <td>Regular</td>\n",
       "      <td>51.5</td>\n",
       "      <td>F</td>\n",
       "      <td>Flemish Brabant</td>\n",
       "      <td>NL</td>\n",
       "    </tr>\n",
       "    <tr>\n",
       "      <th>1</th>\n",
       "      <td>100002</td>\n",
       "      <td>20.0</td>\n",
       "      <td>20.00</td>\n",
       "      <td>20.000000</td>\n",
       "      <td>20.00</td>\n",
       "      <td>1</td>\n",
       "      <td>1620</td>\n",
       "      <td>NaN</td>\n",
       "      <td>NaN</td>\n",
       "      <td>NaN</td>\n",
       "      <td>NaN</td>\n",
       "      <td>NaN</td>\n",
       "      <td>NaN</td>\n",
       "      <td>NaN</td>\n",
       "      <td>NaN</td>\n",
       "      <td>Regular</td>\n",
       "      <td>67.5</td>\n",
       "      <td>M</td>\n",
       "      <td>Antwerp</td>\n",
       "      <td>NL</td>\n",
       "    </tr>\n",
       "  </tbody>\n",
       "</table>\n",
       "</div>"
      ],
      "text/plain": [
       "   donorID   max    min       mean     sum  count  recency_days  \\\n",
       "0   100001  30.0   6.69  14.874167  178.49     12          2727   \n",
       "1   100002  20.0  20.00  20.000000   20.00      1          1620   \n",
       "\n",
       "   last_month_mean  year1_mean  year1_count  year2_mean  year2_count  \\\n",
       "0              NaN         NaN          NaN         NaN          NaN   \n",
       "1              NaN         NaN          NaN         NaN          NaN   \n",
       "\n",
       "   ratio_month_year  ratio_year2year_mean  ratio_year2year_count  segment  \\\n",
       "0               NaN                   NaN                    NaN  Regular   \n",
       "1               NaN                   NaN                    NaN  Regular   \n",
       "\n",
       "   age_7244 gender         province language  \n",
       "0      51.5      F  Flemish Brabant       NL  \n",
       "1      67.5      M          Antwerp       NL  "
      ]
     },
     "execution_count": 100,
     "metadata": {},
     "output_type": "execute_result"
    }
   ],
   "source": [
    "basetable_test = pd.merge(basetable_test,donors[[\"donorID\",\"age_7244\",\"gender\",\"province\", \"language\"]], on = \"donorID\", how = \"left\")\n",
    "\n",
    "basetable_test.head(2)"
   ]
  },
  {
   "cell_type": "markdown",
   "metadata": {},
   "source": [
    "#### Merge data set with campaign 7244 selection"
   ]
  },
  {
   "cell_type": "code",
   "execution_count": 101,
   "metadata": {},
   "outputs": [
    {
     "name": "stdout",
     "output_type": "stream",
     "text": [
      "25645\n"
     ]
    },
    {
     "data": {
      "text/html": [
       "<div>\n",
       "<style scoped>\n",
       "    .dataframe tbody tr th:only-of-type {\n",
       "        vertical-align: middle;\n",
       "    }\n",
       "\n",
       "    .dataframe tbody tr th {\n",
       "        vertical-align: top;\n",
       "    }\n",
       "\n",
       "    .dataframe thead th {\n",
       "        text-align: right;\n",
       "    }\n",
       "</style>\n",
       "<table border=\"1\" class=\"dataframe\">\n",
       "  <thead>\n",
       "    <tr style=\"text-align: right;\">\n",
       "      <th></th>\n",
       "      <th>donorID</th>\n",
       "      <th>max</th>\n",
       "      <th>min</th>\n",
       "      <th>mean</th>\n",
       "      <th>sum</th>\n",
       "      <th>count</th>\n",
       "      <th>recency_days</th>\n",
       "      <th>last_month_mean</th>\n",
       "      <th>year1_mean</th>\n",
       "      <th>year1_count</th>\n",
       "      <th>year2_mean</th>\n",
       "      <th>year2_count</th>\n",
       "      <th>ratio_month_year</th>\n",
       "      <th>ratio_year2year_mean</th>\n",
       "      <th>ratio_year2year_count</th>\n",
       "      <th>segment</th>\n",
       "      <th>age_7244</th>\n",
       "      <th>gender</th>\n",
       "      <th>province</th>\n",
       "      <th>language</th>\n",
       "    </tr>\n",
       "  </thead>\n",
       "  <tbody>\n",
       "    <tr>\n",
       "      <th>0</th>\n",
       "      <td>100001</td>\n",
       "      <td>30.0</td>\n",
       "      <td>6.69</td>\n",
       "      <td>14.874167</td>\n",
       "      <td>178.49</td>\n",
       "      <td>12.0</td>\n",
       "      <td>2727.0</td>\n",
       "      <td>NaN</td>\n",
       "      <td>NaN</td>\n",
       "      <td>NaN</td>\n",
       "      <td>NaN</td>\n",
       "      <td>NaN</td>\n",
       "      <td>NaN</td>\n",
       "      <td>NaN</td>\n",
       "      <td>NaN</td>\n",
       "      <td>Regular</td>\n",
       "      <td>51.5</td>\n",
       "      <td>F</td>\n",
       "      <td>Flemish Brabant</td>\n",
       "      <td>NL</td>\n",
       "    </tr>\n",
       "    <tr>\n",
       "      <th>1</th>\n",
       "      <td>100002</td>\n",
       "      <td>20.0</td>\n",
       "      <td>20.00</td>\n",
       "      <td>20.000000</td>\n",
       "      <td>20.00</td>\n",
       "      <td>1.0</td>\n",
       "      <td>1620.0</td>\n",
       "      <td>NaN</td>\n",
       "      <td>NaN</td>\n",
       "      <td>NaN</td>\n",
       "      <td>NaN</td>\n",
       "      <td>NaN</td>\n",
       "      <td>NaN</td>\n",
       "      <td>NaN</td>\n",
       "      <td>NaN</td>\n",
       "      <td>Regular</td>\n",
       "      <td>67.5</td>\n",
       "      <td>M</td>\n",
       "      <td>Antwerp</td>\n",
       "      <td>NL</td>\n",
       "    </tr>\n",
       "  </tbody>\n",
       "</table>\n",
       "</div>"
      ],
      "text/plain": [
       "   donorID   max    min       mean     sum  count  recency_days  \\\n",
       "0   100001  30.0   6.69  14.874167  178.49   12.0        2727.0   \n",
       "1   100002  20.0  20.00  20.000000   20.00    1.0        1620.0   \n",
       "\n",
       "   last_month_mean  year1_mean  year1_count  year2_mean  year2_count  \\\n",
       "0              NaN         NaN          NaN         NaN          NaN   \n",
       "1              NaN         NaN          NaN         NaN          NaN   \n",
       "\n",
       "   ratio_month_year  ratio_year2year_mean  ratio_year2year_count  segment  \\\n",
       "0               NaN                   NaN                    NaN  Regular   \n",
       "1               NaN                   NaN                    NaN  Regular   \n",
       "\n",
       "   age_7244 gender         province language  \n",
       "0      51.5      F  Flemish Brabant       NL  \n",
       "1      67.5      M          Antwerp       NL  "
      ]
     },
     "execution_count": 101,
     "metadata": {},
     "output_type": "execute_result"
    }
   ],
   "source": [
    "basetable_test = pd.merge(campaign7244, basetable_test, on = \"donorID\", how = \"left\")\n",
    "print(len(basetable_test))\n",
    "basetable_test.head(2)"
   ]
  },
  {
   "cell_type": "markdown",
   "metadata": {},
   "source": [
    "#### Create dummies variables"
   ]
  },
  {
   "cell_type": "code",
   "execution_count": 102,
   "metadata": {
    "scrolled": true
   },
   "outputs": [
    {
     "data": {
      "text/html": [
       "<div>\n",
       "<style scoped>\n",
       "    .dataframe tbody tr th:only-of-type {\n",
       "        vertical-align: middle;\n",
       "    }\n",
       "\n",
       "    .dataframe tbody tr th {\n",
       "        vertical-align: top;\n",
       "    }\n",
       "\n",
       "    .dataframe thead th {\n",
       "        text-align: right;\n",
       "    }\n",
       "</style>\n",
       "<table border=\"1\" class=\"dataframe\">\n",
       "  <thead>\n",
       "    <tr style=\"text-align: right;\">\n",
       "      <th></th>\n",
       "      <th>Brussels</th>\n",
       "      <th>East Flanders</th>\n",
       "      <th>Flemish Brabant</th>\n",
       "      <th>Hainaut</th>\n",
       "      <th>Liege</th>\n",
       "      <th>Limburg</th>\n",
       "      <th>Luxembourg</th>\n",
       "      <th>Namur</th>\n",
       "      <th>Walloon Brabant</th>\n",
       "      <th>West Flanders</th>\n",
       "    </tr>\n",
       "  </thead>\n",
       "  <tbody>\n",
       "    <tr>\n",
       "      <th>0</th>\n",
       "      <td>0</td>\n",
       "      <td>0</td>\n",
       "      <td>1</td>\n",
       "      <td>0</td>\n",
       "      <td>0</td>\n",
       "      <td>0</td>\n",
       "      <td>0</td>\n",
       "      <td>0</td>\n",
       "      <td>0</td>\n",
       "      <td>0</td>\n",
       "    </tr>\n",
       "    <tr>\n",
       "      <th>1</th>\n",
       "      <td>0</td>\n",
       "      <td>0</td>\n",
       "      <td>0</td>\n",
       "      <td>0</td>\n",
       "      <td>0</td>\n",
       "      <td>0</td>\n",
       "      <td>0</td>\n",
       "      <td>0</td>\n",
       "      <td>0</td>\n",
       "      <td>0</td>\n",
       "    </tr>\n",
       "    <tr>\n",
       "      <th>2</th>\n",
       "      <td>0</td>\n",
       "      <td>0</td>\n",
       "      <td>1</td>\n",
       "      <td>0</td>\n",
       "      <td>0</td>\n",
       "      <td>0</td>\n",
       "      <td>0</td>\n",
       "      <td>0</td>\n",
       "      <td>0</td>\n",
       "      <td>0</td>\n",
       "    </tr>\n",
       "    <tr>\n",
       "      <th>3</th>\n",
       "      <td>1</td>\n",
       "      <td>0</td>\n",
       "      <td>0</td>\n",
       "      <td>0</td>\n",
       "      <td>0</td>\n",
       "      <td>0</td>\n",
       "      <td>0</td>\n",
       "      <td>0</td>\n",
       "      <td>0</td>\n",
       "      <td>0</td>\n",
       "    </tr>\n",
       "    <tr>\n",
       "      <th>4</th>\n",
       "      <td>1</td>\n",
       "      <td>0</td>\n",
       "      <td>0</td>\n",
       "      <td>0</td>\n",
       "      <td>0</td>\n",
       "      <td>0</td>\n",
       "      <td>0</td>\n",
       "      <td>0</td>\n",
       "      <td>0</td>\n",
       "      <td>0</td>\n",
       "    </tr>\n",
       "  </tbody>\n",
       "</table>\n",
       "</div>"
      ],
      "text/plain": [
       "   Brussels  East Flanders  Flemish Brabant  Hainaut  Liege  Limburg  \\\n",
       "0         0              0                1        0      0        0   \n",
       "1         0              0                0        0      0        0   \n",
       "2         0              0                1        0      0        0   \n",
       "3         1              0                0        0      0        0   \n",
       "4         1              0                0        0      0        0   \n",
       "\n",
       "   Luxembourg  Namur  Walloon Brabant  West Flanders  \n",
       "0           0      0                0              0  \n",
       "1           0      0                0              0  \n",
       "2           0      0                0              0  \n",
       "3           0      0                0              0  \n",
       "4           0      0                0              0  "
      ]
     },
     "execution_count": 102,
     "metadata": {},
     "output_type": "execute_result"
    }
   ],
   "source": [
    "#Dummy variables for region, no missing value created as it was replace initally by missing\n",
    "dummies_province_test = pd.get_dummies(basetable_test[\"province\"], drop_first=True)\n",
    "dummies_province_test .head()"
   ]
  },
  {
   "cell_type": "code",
   "execution_count": 103,
   "metadata": {},
   "outputs": [],
   "source": [
    "#Change dummy variable name\n",
    "dummies_province_test.columns = ['prov_Br', 'prov_EaF', 'prov_FB', 'prov_Ha', 'prov_Liege', 'prov_Lim', 'prov_Lux','prov_Namur','prov_WaB', 'prov_WeF']\n",
    "# Add the dummy variable to the basetable\n",
    "basetable_test = pd.concat([basetable_test, dummies_province_test], axis=1)\n",
    "# Delete the original variable from the basetable\n",
    "del basetable_test[\"province\"]"
   ]
  },
  {
   "cell_type": "code",
   "execution_count": 104,
   "metadata": {},
   "outputs": [
    {
     "data": {
      "text/plain": [
       "2"
      ]
     },
     "execution_count": 104,
     "metadata": {},
     "output_type": "execute_result"
    }
   ],
   "source": [
    "basetable_test.language.isna().sum()"
   ]
  },
  {
   "cell_type": "code",
   "execution_count": 105,
   "metadata": {},
   "outputs": [
    {
     "data": {
      "text/html": [
       "<div>\n",
       "<style scoped>\n",
       "    .dataframe tbody tr th:only-of-type {\n",
       "        vertical-align: middle;\n",
       "    }\n",
       "\n",
       "    .dataframe tbody tr th {\n",
       "        vertical-align: top;\n",
       "    }\n",
       "\n",
       "    .dataframe thead th {\n",
       "        text-align: right;\n",
       "    }\n",
       "</style>\n",
       "<table border=\"1\" class=\"dataframe\">\n",
       "  <thead>\n",
       "    <tr style=\"text-align: right;\">\n",
       "      <th></th>\n",
       "      <th>FR</th>\n",
       "      <th>NL</th>\n",
       "      <th>NaN</th>\n",
       "    </tr>\n",
       "  </thead>\n",
       "  <tbody>\n",
       "    <tr>\n",
       "      <th>0</th>\n",
       "      <td>0</td>\n",
       "      <td>1</td>\n",
       "      <td>0</td>\n",
       "    </tr>\n",
       "    <tr>\n",
       "      <th>1</th>\n",
       "      <td>0</td>\n",
       "      <td>1</td>\n",
       "      <td>0</td>\n",
       "    </tr>\n",
       "    <tr>\n",
       "      <th>2</th>\n",
       "      <td>1</td>\n",
       "      <td>0</td>\n",
       "      <td>0</td>\n",
       "    </tr>\n",
       "    <tr>\n",
       "      <th>3</th>\n",
       "      <td>1</td>\n",
       "      <td>0</td>\n",
       "      <td>0</td>\n",
       "    </tr>\n",
       "    <tr>\n",
       "      <th>4</th>\n",
       "      <td>1</td>\n",
       "      <td>0</td>\n",
       "      <td>0</td>\n",
       "    </tr>\n",
       "  </tbody>\n",
       "</table>\n",
       "</div>"
      ],
      "text/plain": [
       "   FR  NL  NaN\n",
       "0   0   1    0\n",
       "1   0   1    0\n",
       "2   1   0    0\n",
       "3   1   0    0\n",
       "4   1   0    0"
      ]
     },
     "execution_count": 105,
     "metadata": {},
     "output_type": "execute_result"
    }
   ],
   "source": [
    "#Dummy variables for language\n",
    "dummies_language_test = pd.get_dummies(basetable_test[\"language\"], drop_first=True, dummy_na=True)\n",
    "dummies_language_test.head()"
   ]
  },
  {
   "cell_type": "code",
   "execution_count": 106,
   "metadata": {},
   "outputs": [],
   "source": [
    "#Change dummy variable name\n",
    "dummies_language_test.columns = ['language_x', 'language_y', 'language_NaN']\n",
    "# Add the dummy variable to the basetable\n",
    "basetable_test = pd.concat([basetable_test, dummies_language_test], axis=1)\n",
    "# Delete the original variable from the basetable\n",
    "del basetable_test[\"language\"]"
   ]
  },
  {
   "cell_type": "code",
   "execution_count": 107,
   "metadata": {},
   "outputs": [
    {
     "data": {
      "text/html": [
       "<div>\n",
       "<style scoped>\n",
       "    .dataframe tbody tr th:only-of-type {\n",
       "        vertical-align: middle;\n",
       "    }\n",
       "\n",
       "    .dataframe tbody tr th {\n",
       "        vertical-align: top;\n",
       "    }\n",
       "\n",
       "    .dataframe thead th {\n",
       "        text-align: right;\n",
       "    }\n",
       "</style>\n",
       "<table border=\"1\" class=\"dataframe\">\n",
       "  <thead>\n",
       "    <tr style=\"text-align: right;\">\n",
       "      <th></th>\n",
       "      <th>Gold</th>\n",
       "      <th>Regular</th>\n",
       "      <th>Silver</th>\n",
       "    </tr>\n",
       "  </thead>\n",
       "  <tbody>\n",
       "    <tr>\n",
       "      <th>0</th>\n",
       "      <td>0</td>\n",
       "      <td>1</td>\n",
       "      <td>0</td>\n",
       "    </tr>\n",
       "    <tr>\n",
       "      <th>1</th>\n",
       "      <td>0</td>\n",
       "      <td>1</td>\n",
       "      <td>0</td>\n",
       "    </tr>\n",
       "    <tr>\n",
       "      <th>2</th>\n",
       "      <td>0</td>\n",
       "      <td>0</td>\n",
       "      <td>0</td>\n",
       "    </tr>\n",
       "    <tr>\n",
       "      <th>3</th>\n",
       "      <td>0</td>\n",
       "      <td>1</td>\n",
       "      <td>0</td>\n",
       "    </tr>\n",
       "    <tr>\n",
       "      <th>4</th>\n",
       "      <td>0</td>\n",
       "      <td>1</td>\n",
       "      <td>0</td>\n",
       "    </tr>\n",
       "  </tbody>\n",
       "</table>\n",
       "</div>"
      ],
      "text/plain": [
       "   Gold  Regular  Silver\n",
       "0     0        1       0\n",
       "1     0        1       0\n",
       "2     0        0       0\n",
       "3     0        1       0\n",
       "4     0        1       0"
      ]
     },
     "execution_count": 107,
     "metadata": {},
     "output_type": "execute_result"
    }
   ],
   "source": [
    "#Dummy variables for segment\n",
    "dummies_segment_test = pd.get_dummies(basetable_test[\"segment\"], drop_first=True)\n",
    "dummies_segment_test.head()"
   ]
  },
  {
   "cell_type": "code",
   "execution_count": 108,
   "metadata": {},
   "outputs": [],
   "source": [
    "#Change dummy variable name\n",
    "dummies_segment_test.columns = ['segment_x', 'segment_y', 'segment_z']\n",
    "# Add the dummy variable to the basetable\n",
    "basetable_test = pd.concat([basetable_test, dummies_segment_test], axis=1)\n",
    "# Delete the original variable from the basetable\n",
    "del basetable_test[\"segment\"]"
   ]
  },
  {
   "cell_type": "code",
   "execution_count": 109,
   "metadata": {},
   "outputs": [
    {
     "data": {
      "text/html": [
       "<div>\n",
       "<style scoped>\n",
       "    .dataframe tbody tr th:only-of-type {\n",
       "        vertical-align: middle;\n",
       "    }\n",
       "\n",
       "    .dataframe tbody tr th {\n",
       "        vertical-align: top;\n",
       "    }\n",
       "\n",
       "    .dataframe thead th {\n",
       "        text-align: right;\n",
       "    }\n",
       "</style>\n",
       "<table border=\"1\" class=\"dataframe\">\n",
       "  <thead>\n",
       "    <tr style=\"text-align: right;\">\n",
       "      <th></th>\n",
       "      <th>M</th>\n",
       "      <th>NaN</th>\n",
       "    </tr>\n",
       "  </thead>\n",
       "  <tbody>\n",
       "    <tr>\n",
       "      <th>0</th>\n",
       "      <td>0</td>\n",
       "      <td>0</td>\n",
       "    </tr>\n",
       "    <tr>\n",
       "      <th>1</th>\n",
       "      <td>1</td>\n",
       "      <td>0</td>\n",
       "    </tr>\n",
       "    <tr>\n",
       "      <th>2</th>\n",
       "      <td>1</td>\n",
       "      <td>0</td>\n",
       "    </tr>\n",
       "    <tr>\n",
       "      <th>3</th>\n",
       "      <td>1</td>\n",
       "      <td>0</td>\n",
       "    </tr>\n",
       "    <tr>\n",
       "      <th>4</th>\n",
       "      <td>1</td>\n",
       "      <td>0</td>\n",
       "    </tr>\n",
       "  </tbody>\n",
       "</table>\n",
       "</div>"
      ],
      "text/plain": [
       "   M  NaN\n",
       "0  0    0\n",
       "1  1    0\n",
       "2  1    0\n",
       "3  1    0\n",
       "4  1    0"
      ]
     },
     "execution_count": 109,
     "metadata": {},
     "output_type": "execute_result"
    }
   ],
   "source": [
    "# Create the dummy variable gender\n",
    "dummies_gender_test = pd.get_dummies(basetable_test[\"gender\"], drop_first=True, dummy_na=True)\n",
    "dummies_gender_test.head()"
   ]
  },
  {
   "cell_type": "code",
   "execution_count": 110,
   "metadata": {},
   "outputs": [],
   "source": [
    "#Change dummy variable name\n",
    "dummies_gender_test.columns = ['gender_x', 'gender_y']\n",
    "# Add the dummy variable to the basetable\n",
    "basetable_test = pd.concat([basetable_test, dummies_gender_test], axis=1)\n",
    "# Delete the original variable from the basetable\n",
    "del basetable_test[\"gender\"]"
   ]
  },
  {
   "cell_type": "markdown",
   "metadata": {},
   "source": [
    "#### Replace missing values"
   ]
  },
  {
   "cell_type": "code",
   "execution_count": 111,
   "metadata": {},
   "outputs": [],
   "source": [
    "#replace missing values by 0\n",
    "\n",
    "basetable_test[\"last_month_mean\"] = basetable_test[\"last_month_mean\"].replace(np.nan, 0)\n",
    "basetable_test[\"count\"] = basetable_test[\"count\"].replace(np.nan, 0)\n",
    "basetable_test[\"year1_mean\"] = basetable_test[\"year1_mean\"].replace(np.nan, 0)\n",
    "basetable_test[\"year1_count\"] = basetable_test[\"year1_count\"].replace(np.nan, 0)\n",
    "basetable_test[\"year2_mean\"] = basetable_test[\"year2_mean\"].replace(np.nan, 0)\n",
    "basetable_test[\"year2_count\"] = basetable_test[\"year2_count\"].replace(np.nan, 0)\n",
    "basetable_test[\"ratio_month_year\"] = basetable_test[\"ratio_month_year\"].replace(np.nan, 0)\n",
    "basetable_test[\"ratio_year2year_mean\"] = basetable_test[\"ratio_year2year_mean\"].replace(np.nan, 0)\n",
    "basetable_test[\"ratio_year2year_count\"] = basetable_test[\"ratio_year2year_count\"].replace(np.nan, 0)"
   ]
  },
  {
   "cell_type": "code",
   "execution_count": 112,
   "metadata": {},
   "outputs": [
    {
     "data": {
      "text/plain": [
       "2"
      ]
     },
     "execution_count": 112,
     "metadata": {},
     "output_type": "execute_result"
    }
   ],
   "source": [
    "basetable_test['age_7244'].isna().sum()"
   ]
  },
  {
   "cell_type": "code",
   "execution_count": 113,
   "metadata": {},
   "outputs": [
    {
     "data": {
      "text/plain": [
       "2"
      ]
     },
     "execution_count": 113,
     "metadata": {},
     "output_type": "execute_result"
    }
   ],
   "source": [
    "#create missing value columns for the age \n",
    "basetable_test['age_NaN'] = basetable_test['age_7244'].isna()*1\n",
    "basetable_test['age_NaN'].sum()"
   ]
  },
  {
   "cell_type": "code",
   "execution_count": 114,
   "metadata": {},
   "outputs": [],
   "source": [
    "#replace missing value of the age by the median\n",
    "basetable_test[\"age_7244\"] = basetable_test[\"age_7244\"].replace(np.nan, basetable_test[\"age_7244\"].median())\n"
   ]
  },
  {
   "cell_type": "code",
   "execution_count": 115,
   "metadata": {},
   "outputs": [
    {
     "data": {
      "text/plain": [
       "0"
      ]
     },
     "execution_count": 115,
     "metadata": {},
     "output_type": "execute_result"
    }
   ],
   "source": [
    "basetable_test['age_7244'].isna().sum()"
   ]
  },
  {
   "cell_type": "code",
   "execution_count": 116,
   "metadata": {},
   "outputs": [
    {
     "data": {
      "text/plain": [
       "1"
      ]
     },
     "execution_count": 116,
     "metadata": {},
     "output_type": "execute_result"
    }
   ],
   "source": [
    "basetable_test[\"recency_days\"].isna().sum()"
   ]
  },
  {
   "cell_type": "code",
   "execution_count": 117,
   "metadata": {},
   "outputs": [
    {
     "data": {
      "text/plain": [
       "1"
      ]
     },
     "execution_count": 117,
     "metadata": {},
     "output_type": "execute_result"
    }
   ],
   "source": [
    "#create missing value columns for the age\n",
    "basetable_test[\"recency_days_NaN\"] = basetable_test['recency_days'].isna()*1\n",
    "basetable_test[\"recency_days_NaN\"].sum()"
   ]
  },
  {
   "cell_type": "code",
   "execution_count": 118,
   "metadata": {},
   "outputs": [
    {
     "data": {
      "text/plain": [
       "0"
      ]
     },
     "execution_count": 118,
     "metadata": {},
     "output_type": "execute_result"
    }
   ],
   "source": [
    "basetable_test[\"recency_days\"] = basetable_test[\"recency_days\"].replace(np.nan, basetable_test[\"recency_days\"].median())\n",
    "basetable_test['recency_days'].isna().sum()"
   ]
  },
  {
   "cell_type": "markdown",
   "metadata": {},
   "source": [
    "#### Dealing with outliers"
   ]
  },
  {
   "cell_type": "code",
   "execution_count": 119,
   "metadata": {},
   "outputs": [
    {
     "name": "stdout",
     "output_type": "stream",
     "text": [
      "130.1\n",
      "21.0\n"
     ]
    }
   ],
   "source": [
    "# Show the maximum age \n",
    "\n",
    "print(basetable_test[\"age_7244\"].max())\n",
    "print(basetable_test[\"age_7244\"].min())"
   ]
  },
  {
   "cell_type": "code",
   "execution_count": 120,
   "metadata": {},
   "outputs": [
    {
     "name": "stdout",
     "output_type": "stream",
     "text": [
      "97.21712568656139\n"
     ]
    }
   ],
   "source": [
    "#Dealing with outliers in the variable age\n",
    "\n",
    "# Calculate mean and standard deviation of age\n",
    "mean_age7244 = basetable_test[\"age_7244\"].mean()\n",
    "std_age7244 = basetable_test[\"age_7244\"].std()\n",
    "\n",
    "# Calculate the lower and upper limits\n",
    "lower_limit7244 = mean_age7244 - std_age7244 * 3\n",
    "upper_limit7244 = mean_age7244 + std_age7244 * 3\n",
    "\n",
    "# Add a variable age_no_outliers to the basetable with outliers replaced\n",
    "basetable_test[\"age_no_outliers\"] = (pd.Series([min(max(a, lower_limit7244), upper_limit7244) \n",
    "                             for a in basetable_test[\"age_7244\"]]))\n",
    "print(basetable_test[\"age_no_outliers\"].max())"
   ]
  },
  {
   "cell_type": "code",
   "execution_count": 121,
   "metadata": {},
   "outputs": [],
   "source": [
    "#Delete previous age columns\n",
    "del basetable_test[\"age_7244\"]"
   ]
  },
  {
   "cell_type": "code",
   "execution_count": 122,
   "metadata": {},
   "outputs": [
    {
     "name": "stdout",
     "output_type": "stream",
     "text": [
      "0.6211764705882361\n",
      "2479000.0\n"
     ]
    }
   ],
   "source": [
    "# Check minimum mean of donations\n",
    "print(basetable_test[\"mean\"].min())\n",
    "print(basetable_test[\"mean\"].max())"
   ]
  },
  {
   "cell_type": "code",
   "execution_count": 123,
   "metadata": {},
   "outputs": [
    {
     "name": "stdout",
     "output_type": "stream",
     "text": [
      "120.66666666666667\n"
     ]
    }
   ],
   "source": [
    "# Fill out the lower limit\n",
    "lower_limit7244 = 0.0\n",
    "\n",
    "# Winsorize the variable sum_donations\n",
    "basetable_test[\"mean\"] = winsorize(basetable_test[\"mean\"], limits=[lower_limit7244, 0.01])\n",
    "\n",
    "# Check maximum sum of donations after winsorization\n",
    "print(basetable_test[\"mean\"].max())"
   ]
  },
  {
   "cell_type": "code",
   "execution_count": 124,
   "metadata": {},
   "outputs": [
    {
     "name": "stdout",
     "output_type": "stream",
     "text": [
      "5.0\n",
      "4000030.0\n"
     ]
    }
   ],
   "source": [
    "# Check minimum, maximum sum of donations\n",
    "print(basetable_test[\"sum\"].min())\n",
    "print(basetable_test[\"sum\"].max())"
   ]
  },
  {
   "cell_type": "code",
   "execution_count": 125,
   "metadata": {},
   "outputs": [
    {
     "name": "stdout",
     "output_type": "stream",
     "text": [
      "991.5699999999999\n"
     ]
    }
   ],
   "source": [
    "# Fill out the lower limit\n",
    "lower_limit7244 = 0.0\n",
    "\n",
    "# Winsorize the variable sum_donations\n",
    "basetable_test[\"sum\"] = winsorize(basetable_test[\"sum\"], limits=[lower_limit7244, 0.01])\n",
    "\n",
    "# Check maximum sum of donations after winsorization\n",
    "print(basetable_test[\"sum\"].max())"
   ]
  },
  {
   "cell_type": "code",
   "execution_count": 126,
   "metadata": {},
   "outputs": [
    {
     "name": "stdout",
     "output_type": "stream",
     "text": [
      "0.13\n",
      "2479000.0\n"
     ]
    }
   ],
   "source": [
    "# Check min and max of min amount of donations per donors\n",
    "print(basetable_test[\"min\"].min())\n",
    "print(basetable_test[\"min\"].max())"
   ]
  },
  {
   "cell_type": "code",
   "execution_count": 127,
   "metadata": {},
   "outputs": [
    {
     "name": "stdout",
     "output_type": "stream",
     "text": [
      "100.0\n"
     ]
    }
   ],
   "source": [
    "# Fill out the lower limit\n",
    "lower_limit7244 = 0.0\n",
    "\n",
    "# Winsorize the variable sum_donations\n",
    "basetable_test[\"min\"] = winsorize(basetable_test[\"min\"], limits=[lower_limit7244, 0.01])\n",
    "\n",
    "# Check maximum sum of donations after winsorization\n",
    "print(basetable_test[\"min\"].max())"
   ]
  },
  {
   "cell_type": "code",
   "execution_count": 128,
   "metadata": {},
   "outputs": [
    {
     "name": "stdout",
     "output_type": "stream",
     "text": [
      "5.0\n",
      "4000000.0\n"
     ]
    }
   ],
   "source": [
    "# Check min and max of max amount of donations per donors\n",
    "print(basetable_test[\"max\"].min())\n",
    "print(basetable_test[\"max\"].max())"
   ]
  },
  {
   "cell_type": "code",
   "execution_count": 129,
   "metadata": {},
   "outputs": [
    {
     "name": "stdout",
     "output_type": "stream",
     "text": [
      "200.0\n"
     ]
    }
   ],
   "source": [
    "# Fill out the lower limit\n",
    "lower_limit7244 = 0.0\n",
    "\n",
    "# Winsorize the variable sum_donations\n",
    "basetable_test[\"max\"] = winsorize(basetable_test[\"max\"], limits=[lower_limit7244, 0.01])\n",
    "\n",
    "# Check maximum sum of donations after winsorization\n",
    "print(basetable_test[\"max\"].max())"
   ]
  },
  {
   "cell_type": "markdown",
   "metadata": {},
   "source": [
    "#### ADD Target variables to the base table"
   ]
  },
  {
   "cell_type": "code",
   "execution_count": 130,
   "metadata": {},
   "outputs": [
    {
     "data": {
      "text/html": [
       "<div>\n",
       "<style scoped>\n",
       "    .dataframe tbody tr th:only-of-type {\n",
       "        vertical-align: middle;\n",
       "    }\n",
       "\n",
       "    .dataframe tbody tr th {\n",
       "        vertical-align: top;\n",
       "    }\n",
       "\n",
       "    .dataframe thead th {\n",
       "        text-align: right;\n",
       "    }\n",
       "</style>\n",
       "<table border=\"1\" class=\"dataframe\">\n",
       "  <thead>\n",
       "    <tr style=\"text-align: right;\">\n",
       "      <th></th>\n",
       "      <th>donorID</th>\n",
       "      <th>max</th>\n",
       "      <th>min</th>\n",
       "      <th>mean</th>\n",
       "      <th>sum</th>\n",
       "      <th>count</th>\n",
       "      <th>recency_days</th>\n",
       "      <th>last_month_mean</th>\n",
       "      <th>year1_mean</th>\n",
       "      <th>year1_count</th>\n",
       "      <th>...</th>\n",
       "      <th>language_NaN</th>\n",
       "      <th>segment_x</th>\n",
       "      <th>segment_y</th>\n",
       "      <th>segment_z</th>\n",
       "      <th>gender_x</th>\n",
       "      <th>gender_y</th>\n",
       "      <th>age_NaN</th>\n",
       "      <th>recency_days_NaN</th>\n",
       "      <th>age_no_outliers</th>\n",
       "      <th>target</th>\n",
       "    </tr>\n",
       "  </thead>\n",
       "  <tbody>\n",
       "    <tr>\n",
       "      <th>0</th>\n",
       "      <td>100001</td>\n",
       "      <td>30.0</td>\n",
       "      <td>6.69</td>\n",
       "      <td>14.874167</td>\n",
       "      <td>178.49</td>\n",
       "      <td>12.0</td>\n",
       "      <td>2727.0</td>\n",
       "      <td>0.0</td>\n",
       "      <td>0.0</td>\n",
       "      <td>0.0</td>\n",
       "      <td>...</td>\n",
       "      <td>0</td>\n",
       "      <td>0</td>\n",
       "      <td>1</td>\n",
       "      <td>0</td>\n",
       "      <td>0</td>\n",
       "      <td>0</td>\n",
       "      <td>0</td>\n",
       "      <td>0</td>\n",
       "      <td>51.5</td>\n",
       "      <td>0</td>\n",
       "    </tr>\n",
       "    <tr>\n",
       "      <th>1</th>\n",
       "      <td>100002</td>\n",
       "      <td>20.0</td>\n",
       "      <td>20.00</td>\n",
       "      <td>20.000000</td>\n",
       "      <td>20.00</td>\n",
       "      <td>1.0</td>\n",
       "      <td>1620.0</td>\n",
       "      <td>0.0</td>\n",
       "      <td>0.0</td>\n",
       "      <td>0.0</td>\n",
       "      <td>...</td>\n",
       "      <td>0</td>\n",
       "      <td>0</td>\n",
       "      <td>1</td>\n",
       "      <td>0</td>\n",
       "      <td>1</td>\n",
       "      <td>0</td>\n",
       "      <td>0</td>\n",
       "      <td>0</td>\n",
       "      <td>67.5</td>\n",
       "      <td>0</td>\n",
       "    </tr>\n",
       "    <tr>\n",
       "      <th>2</th>\n",
       "      <td>100008</td>\n",
       "      <td>50.0</td>\n",
       "      <td>24.79</td>\n",
       "      <td>41.456667</td>\n",
       "      <td>124.37</td>\n",
       "      <td>3.0</td>\n",
       "      <td>2790.0</td>\n",
       "      <td>0.0</td>\n",
       "      <td>0.0</td>\n",
       "      <td>0.0</td>\n",
       "      <td>...</td>\n",
       "      <td>0</td>\n",
       "      <td>0</td>\n",
       "      <td>0</td>\n",
       "      <td>0</td>\n",
       "      <td>1</td>\n",
       "      <td>0</td>\n",
       "      <td>0</td>\n",
       "      <td>0</td>\n",
       "      <td>81.9</td>\n",
       "      <td>0</td>\n",
       "    </tr>\n",
       "    <tr>\n",
       "      <th>3</th>\n",
       "      <td>100009</td>\n",
       "      <td>25.0</td>\n",
       "      <td>7.44</td>\n",
       "      <td>17.198947</td>\n",
       "      <td>326.78</td>\n",
       "      <td>19.0</td>\n",
       "      <td>2641.0</td>\n",
       "      <td>0.0</td>\n",
       "      <td>0.0</td>\n",
       "      <td>0.0</td>\n",
       "      <td>...</td>\n",
       "      <td>0</td>\n",
       "      <td>0</td>\n",
       "      <td>1</td>\n",
       "      <td>0</td>\n",
       "      <td>1</td>\n",
       "      <td>0</td>\n",
       "      <td>0</td>\n",
       "      <td>0</td>\n",
       "      <td>87.5</td>\n",
       "      <td>0</td>\n",
       "    </tr>\n",
       "    <tr>\n",
       "      <th>4</th>\n",
       "      <td>100010</td>\n",
       "      <td>40.0</td>\n",
       "      <td>40.00</td>\n",
       "      <td>40.000000</td>\n",
       "      <td>40.00</td>\n",
       "      <td>1.0</td>\n",
       "      <td>1617.0</td>\n",
       "      <td>0.0</td>\n",
       "      <td>0.0</td>\n",
       "      <td>0.0</td>\n",
       "      <td>...</td>\n",
       "      <td>0</td>\n",
       "      <td>0</td>\n",
       "      <td>1</td>\n",
       "      <td>0</td>\n",
       "      <td>1</td>\n",
       "      <td>0</td>\n",
       "      <td>0</td>\n",
       "      <td>0</td>\n",
       "      <td>36.1</td>\n",
       "      <td>0</td>\n",
       "    </tr>\n",
       "  </tbody>\n",
       "</table>\n",
       "<p>5 rows × 37 columns</p>\n",
       "</div>"
      ],
      "text/plain": [
       "   donorID   max    min       mean     sum  count  recency_days  \\\n",
       "0   100001  30.0   6.69  14.874167  178.49   12.0        2727.0   \n",
       "1   100002  20.0  20.00  20.000000   20.00    1.0        1620.0   \n",
       "2   100008  50.0  24.79  41.456667  124.37    3.0        2790.0   \n",
       "3   100009  25.0   7.44  17.198947  326.78   19.0        2641.0   \n",
       "4   100010  40.0  40.00  40.000000   40.00    1.0        1617.0   \n",
       "\n",
       "   last_month_mean  year1_mean  year1_count  ...  language_NaN  segment_x  \\\n",
       "0              0.0         0.0          0.0  ...             0          0   \n",
       "1              0.0         0.0          0.0  ...             0          0   \n",
       "2              0.0         0.0          0.0  ...             0          0   \n",
       "3              0.0         0.0          0.0  ...             0          0   \n",
       "4              0.0         0.0          0.0  ...             0          0   \n",
       "\n",
       "   segment_y  segment_z  gender_x  gender_y  age_NaN  recency_days_NaN  \\\n",
       "0          1          0         0         0        0                 0   \n",
       "1          1          0         1         0        0                 0   \n",
       "2          0          0         1         0        0                 0   \n",
       "3          1          0         1         0        0                 0   \n",
       "4          1          0         1         0        0                 0   \n",
       "\n",
       "   age_no_outliers  target  \n",
       "0             51.5       0  \n",
       "1             67.5       0  \n",
       "2             81.9       0  \n",
       "3             87.5       0  \n",
       "4             36.1       0  \n",
       "\n",
       "[5 rows x 37 columns]"
      ]
     },
     "execution_count": 130,
     "metadata": {},
     "output_type": "execute_result"
    }
   ],
   "source": [
    "#derive targets and add to the basetables\n",
    "\n",
    "target = list(target_test[\"donorID\"][target_test[\"amount\"] > 0])\n",
    "\n",
    "basetable_test[\"target\"] = pd.Series([1 if donorID in target else 0 for donorID in basetable_test[\"donorID\"]])\n",
    "basetable_test.head()"
   ]
  },
  {
   "cell_type": "code",
   "execution_count": 131,
   "metadata": {},
   "outputs": [
    {
     "name": "stdout",
     "output_type": "stream",
     "text": [
      "0.014\n"
     ]
    }
   ],
   "source": [
    "# Target incidences\n",
    "print(round(sum(basetable_test[\"target\"]) / len(basetable_test), 3))"
   ]
  },
  {
   "cell_type": "code",
   "execution_count": 132,
   "metadata": {},
   "outputs": [
    {
     "data": {
      "text/plain": [
       "0"
      ]
     },
     "execution_count": 132,
     "metadata": {},
     "output_type": "execute_result"
    }
   ],
   "source": [
    "basetable_test.isna().sum().sum()"
   ]
  },
  {
   "cell_type": "code",
   "execution_count": 133,
   "metadata": {},
   "outputs": [],
   "source": [
    "basetable_test.to_csv('basetable_test_Processed-data.csv')"
   ]
  },
  {
   "cell_type": "markdown",
   "metadata": {},
   "source": [
    "### reading processed data "
   ]
  },
  {
   "cell_type": "code",
   "execution_count": 11,
   "metadata": {},
   "outputs": [],
   "source": [
    "basetable_training= pd.read_csv('basetable_training_Processed-data.csv', sep=',')"
   ]
  },
  {
   "cell_type": "code",
   "execution_count": 12,
   "metadata": {},
   "outputs": [],
   "source": [
    "basetable_test= pd.read_csv('basetable_test_Processed-data.csv', sep=',')"
   ]
  },
  {
   "cell_type": "code",
   "execution_count": 13,
   "metadata": {
    "scrolled": true
   },
   "outputs": [
    {
     "data": {
      "text/html": [
       "<div>\n",
       "<style scoped>\n",
       "    .dataframe tbody tr th:only-of-type {\n",
       "        vertical-align: middle;\n",
       "    }\n",
       "\n",
       "    .dataframe tbody tr th {\n",
       "        vertical-align: top;\n",
       "    }\n",
       "\n",
       "    .dataframe thead th {\n",
       "        text-align: right;\n",
       "    }\n",
       "</style>\n",
       "<table border=\"1\" class=\"dataframe\">\n",
       "  <thead>\n",
       "    <tr style=\"text-align: right;\">\n",
       "      <th></th>\n",
       "      <th>Unnamed: 0</th>\n",
       "      <th>donorID</th>\n",
       "      <th>max</th>\n",
       "      <th>min</th>\n",
       "      <th>mean</th>\n",
       "      <th>sum</th>\n",
       "      <th>count</th>\n",
       "      <th>recency_days</th>\n",
       "      <th>last_month_mean</th>\n",
       "      <th>year1_mean</th>\n",
       "      <th>...</th>\n",
       "      <th>language_NaN</th>\n",
       "      <th>segment_x</th>\n",
       "      <th>segment_y</th>\n",
       "      <th>segment_z</th>\n",
       "      <th>gender_x</th>\n",
       "      <th>gender_y</th>\n",
       "      <th>age_NaN</th>\n",
       "      <th>recency_days_NaN</th>\n",
       "      <th>age_no_outliers</th>\n",
       "      <th>target</th>\n",
       "    </tr>\n",
       "  </thead>\n",
       "  <tbody>\n",
       "    <tr>\n",
       "      <th>0</th>\n",
       "      <td>0</td>\n",
       "      <td>100001</td>\n",
       "      <td>30.00</td>\n",
       "      <td>6.69</td>\n",
       "      <td>14.874167</td>\n",
       "      <td>178.49</td>\n",
       "      <td>12.0</td>\n",
       "      <td>2440.0</td>\n",
       "      <td>0.0</td>\n",
       "      <td>0.0</td>\n",
       "      <td>...</td>\n",
       "      <td>0</td>\n",
       "      <td>0</td>\n",
       "      <td>1</td>\n",
       "      <td>0</td>\n",
       "      <td>0</td>\n",
       "      <td>0</td>\n",
       "      <td>0</td>\n",
       "      <td>0</td>\n",
       "      <td>50.7</td>\n",
       "      <td>0</td>\n",
       "    </tr>\n",
       "    <tr>\n",
       "      <th>1</th>\n",
       "      <td>1</td>\n",
       "      <td>100002</td>\n",
       "      <td>20.00</td>\n",
       "      <td>20.00</td>\n",
       "      <td>20.000000</td>\n",
       "      <td>20.00</td>\n",
       "      <td>1.0</td>\n",
       "      <td>1333.0</td>\n",
       "      <td>0.0</td>\n",
       "      <td>0.0</td>\n",
       "      <td>...</td>\n",
       "      <td>0</td>\n",
       "      <td>0</td>\n",
       "      <td>1</td>\n",
       "      <td>0</td>\n",
       "      <td>1</td>\n",
       "      <td>0</td>\n",
       "      <td>0</td>\n",
       "      <td>0</td>\n",
       "      <td>66.7</td>\n",
       "      <td>0</td>\n",
       "    </tr>\n",
       "    <tr>\n",
       "      <th>2</th>\n",
       "      <td>2</td>\n",
       "      <td>100004</td>\n",
       "      <td>49.58</td>\n",
       "      <td>24.79</td>\n",
       "      <td>27.546923</td>\n",
       "      <td>716.22</td>\n",
       "      <td>26.0</td>\n",
       "      <td>2650.0</td>\n",
       "      <td>0.0</td>\n",
       "      <td>0.0</td>\n",
       "      <td>...</td>\n",
       "      <td>0</td>\n",
       "      <td>0</td>\n",
       "      <td>1</td>\n",
       "      <td>0</td>\n",
       "      <td>0</td>\n",
       "      <td>0</td>\n",
       "      <td>0</td>\n",
       "      <td>0</td>\n",
       "      <td>66.5</td>\n",
       "      <td>0</td>\n",
       "    </tr>\n",
       "    <tr>\n",
       "      <th>3</th>\n",
       "      <td>3</td>\n",
       "      <td>100008</td>\n",
       "      <td>50.00</td>\n",
       "      <td>24.79</td>\n",
       "      <td>41.456667</td>\n",
       "      <td>124.37</td>\n",
       "      <td>3.0</td>\n",
       "      <td>2503.0</td>\n",
       "      <td>0.0</td>\n",
       "      <td>0.0</td>\n",
       "      <td>...</td>\n",
       "      <td>0</td>\n",
       "      <td>0</td>\n",
       "      <td>0</td>\n",
       "      <td>0</td>\n",
       "      <td>1</td>\n",
       "      <td>0</td>\n",
       "      <td>0</td>\n",
       "      <td>0</td>\n",
       "      <td>81.1</td>\n",
       "      <td>0</td>\n",
       "    </tr>\n",
       "    <tr>\n",
       "      <th>4</th>\n",
       "      <td>4</td>\n",
       "      <td>100009</td>\n",
       "      <td>25.00</td>\n",
       "      <td>7.44</td>\n",
       "      <td>17.198947</td>\n",
       "      <td>326.78</td>\n",
       "      <td>19.0</td>\n",
       "      <td>2354.0</td>\n",
       "      <td>0.0</td>\n",
       "      <td>0.0</td>\n",
       "      <td>...</td>\n",
       "      <td>0</td>\n",
       "      <td>0</td>\n",
       "      <td>1</td>\n",
       "      <td>0</td>\n",
       "      <td>1</td>\n",
       "      <td>0</td>\n",
       "      <td>0</td>\n",
       "      <td>0</td>\n",
       "      <td>86.7</td>\n",
       "      <td>0</td>\n",
       "    </tr>\n",
       "    <tr>\n",
       "      <th>...</th>\n",
       "      <td>...</td>\n",
       "      <td>...</td>\n",
       "      <td>...</td>\n",
       "      <td>...</td>\n",
       "      <td>...</td>\n",
       "      <td>...</td>\n",
       "      <td>...</td>\n",
       "      <td>...</td>\n",
       "      <td>...</td>\n",
       "      <td>...</td>\n",
       "      <td>...</td>\n",
       "      <td>...</td>\n",
       "      <td>...</td>\n",
       "      <td>...</td>\n",
       "      <td>...</td>\n",
       "      <td>...</td>\n",
       "      <td>...</td>\n",
       "      <td>...</td>\n",
       "      <td>...</td>\n",
       "      <td>...</td>\n",
       "      <td>...</td>\n",
       "    </tr>\n",
       "    <tr>\n",
       "      <th>34883</th>\n",
       "      <td>34883</td>\n",
       "      <td>144686</td>\n",
       "      <td>50.00</td>\n",
       "      <td>50.00</td>\n",
       "      <td>50.000000</td>\n",
       "      <td>50.00</td>\n",
       "      <td>1.0</td>\n",
       "      <td>1225.0</td>\n",
       "      <td>0.0</td>\n",
       "      <td>0.0</td>\n",
       "      <td>...</td>\n",
       "      <td>0</td>\n",
       "      <td>0</td>\n",
       "      <td>1</td>\n",
       "      <td>0</td>\n",
       "      <td>0</td>\n",
       "      <td>0</td>\n",
       "      <td>0</td>\n",
       "      <td>0</td>\n",
       "      <td>54.0</td>\n",
       "      <td>0</td>\n",
       "    </tr>\n",
       "    <tr>\n",
       "      <th>34884</th>\n",
       "      <td>34884</td>\n",
       "      <td>144687</td>\n",
       "      <td>10.00</td>\n",
       "      <td>10.00</td>\n",
       "      <td>10.000000</td>\n",
       "      <td>10.00</td>\n",
       "      <td>1.0</td>\n",
       "      <td>1033.0</td>\n",
       "      <td>0.0</td>\n",
       "      <td>0.0</td>\n",
       "      <td>...</td>\n",
       "      <td>0</td>\n",
       "      <td>0</td>\n",
       "      <td>1</td>\n",
       "      <td>0</td>\n",
       "      <td>1</td>\n",
       "      <td>0</td>\n",
       "      <td>0</td>\n",
       "      <td>0</td>\n",
       "      <td>48.0</td>\n",
       "      <td>0</td>\n",
       "    </tr>\n",
       "    <tr>\n",
       "      <th>34885</th>\n",
       "      <td>34885</td>\n",
       "      <td>144689</td>\n",
       "      <td>100.00</td>\n",
       "      <td>24.79</td>\n",
       "      <td>62.395000</td>\n",
       "      <td>124.79</td>\n",
       "      <td>2.0</td>\n",
       "      <td>71.0</td>\n",
       "      <td>0.0</td>\n",
       "      <td>100.0</td>\n",
       "      <td>...</td>\n",
       "      <td>0</td>\n",
       "      <td>0</td>\n",
       "      <td>1</td>\n",
       "      <td>0</td>\n",
       "      <td>1</td>\n",
       "      <td>0</td>\n",
       "      <td>0</td>\n",
       "      <td>0</td>\n",
       "      <td>51.4</td>\n",
       "      <td>0</td>\n",
       "    </tr>\n",
       "    <tr>\n",
       "      <th>34886</th>\n",
       "      <td>34886</td>\n",
       "      <td>144690</td>\n",
       "      <td>40.00</td>\n",
       "      <td>40.00</td>\n",
       "      <td>40.000000</td>\n",
       "      <td>40.00</td>\n",
       "      <td>1.0</td>\n",
       "      <td>1344.0</td>\n",
       "      <td>0.0</td>\n",
       "      <td>0.0</td>\n",
       "      <td>...</td>\n",
       "      <td>0</td>\n",
       "      <td>0</td>\n",
       "      <td>1</td>\n",
       "      <td>0</td>\n",
       "      <td>1</td>\n",
       "      <td>0</td>\n",
       "      <td>0</td>\n",
       "      <td>0</td>\n",
       "      <td>42.4</td>\n",
       "      <td>0</td>\n",
       "    </tr>\n",
       "    <tr>\n",
       "      <th>34887</th>\n",
       "      <td>34887</td>\n",
       "      <td>144691</td>\n",
       "      <td>39.00</td>\n",
       "      <td>39.00</td>\n",
       "      <td>39.000000</td>\n",
       "      <td>39.00</td>\n",
       "      <td>1.0</td>\n",
       "      <td>1006.0</td>\n",
       "      <td>0.0</td>\n",
       "      <td>0.0</td>\n",
       "      <td>...</td>\n",
       "      <td>0</td>\n",
       "      <td>0</td>\n",
       "      <td>1</td>\n",
       "      <td>0</td>\n",
       "      <td>1</td>\n",
       "      <td>0</td>\n",
       "      <td>0</td>\n",
       "      <td>0</td>\n",
       "      <td>31.3</td>\n",
       "      <td>0</td>\n",
       "    </tr>\n",
       "  </tbody>\n",
       "</table>\n",
       "<p>34888 rows × 38 columns</p>\n",
       "</div>"
      ],
      "text/plain": [
       "       Unnamed: 0  donorID     max    min       mean     sum  count  \\\n",
       "0               0   100001   30.00   6.69  14.874167  178.49   12.0   \n",
       "1               1   100002   20.00  20.00  20.000000   20.00    1.0   \n",
       "2               2   100004   49.58  24.79  27.546923  716.22   26.0   \n",
       "3               3   100008   50.00  24.79  41.456667  124.37    3.0   \n",
       "4               4   100009   25.00   7.44  17.198947  326.78   19.0   \n",
       "...           ...      ...     ...    ...        ...     ...    ...   \n",
       "34883       34883   144686   50.00  50.00  50.000000   50.00    1.0   \n",
       "34884       34884   144687   10.00  10.00  10.000000   10.00    1.0   \n",
       "34885       34885   144689  100.00  24.79  62.395000  124.79    2.0   \n",
       "34886       34886   144690   40.00  40.00  40.000000   40.00    1.0   \n",
       "34887       34887   144691   39.00  39.00  39.000000   39.00    1.0   \n",
       "\n",
       "       recency_days  last_month_mean  year1_mean  ...  language_NaN  \\\n",
       "0            2440.0              0.0         0.0  ...             0   \n",
       "1            1333.0              0.0         0.0  ...             0   \n",
       "2            2650.0              0.0         0.0  ...             0   \n",
       "3            2503.0              0.0         0.0  ...             0   \n",
       "4            2354.0              0.0         0.0  ...             0   \n",
       "...             ...              ...         ...  ...           ...   \n",
       "34883        1225.0              0.0         0.0  ...             0   \n",
       "34884        1033.0              0.0         0.0  ...             0   \n",
       "34885          71.0              0.0       100.0  ...             0   \n",
       "34886        1344.0              0.0         0.0  ...             0   \n",
       "34887        1006.0              0.0         0.0  ...             0   \n",
       "\n",
       "       segment_x  segment_y  segment_z  gender_x  gender_y  age_NaN  \\\n",
       "0              0          1          0         0         0        0   \n",
       "1              0          1          0         1         0        0   \n",
       "2              0          1          0         0         0        0   \n",
       "3              0          0          0         1         0        0   \n",
       "4              0          1          0         1         0        0   \n",
       "...          ...        ...        ...       ...       ...      ...   \n",
       "34883          0          1          0         0         0        0   \n",
       "34884          0          1          0         1         0        0   \n",
       "34885          0          1          0         1         0        0   \n",
       "34886          0          1          0         1         0        0   \n",
       "34887          0          1          0         1         0        0   \n",
       "\n",
       "       recency_days_NaN  age_no_outliers  target  \n",
       "0                     0             50.7       0  \n",
       "1                     0             66.7       0  \n",
       "2                     0             66.5       0  \n",
       "3                     0             81.1       0  \n",
       "4                     0             86.7       0  \n",
       "...                 ...              ...     ...  \n",
       "34883                 0             54.0       0  \n",
       "34884                 0             48.0       0  \n",
       "34885                 0             51.4       0  \n",
       "34886                 0             42.4       0  \n",
       "34887                 0             31.3       0  \n",
       "\n",
       "[34888 rows x 38 columns]"
      ]
     },
     "execution_count": 13,
     "metadata": {},
     "output_type": "execute_result"
    }
   ],
   "source": [
    "basetable_training"
   ]
  },
  {
   "cell_type": "code",
   "execution_count": null,
   "metadata": {},
   "outputs": [],
   "source": [
    "featurues = "
   ]
  },
  {
   "cell_type": "markdown",
   "metadata": {},
   "source": [
    "## Variable selection"
   ]
  },
  {
   "cell_type": "markdown",
   "metadata": {},
   "source": [
    "#### Set the features and target"
   ]
  },
  {
   "cell_type": "code",
   "execution_count": 66,
   "metadata": {
    "scrolled": false
   },
   "outputs": [
    {
     "data": {
      "text/plain": [
       "Index(['Unnamed: 0', 'donorID', 'max', 'min', 'mean', 'sum', 'count',\n",
       "       'recency_days', 'last_month_mean', 'year1_mean', 'year1_count',\n",
       "       'year2_mean', 'year2_count', 'ratio_month_year', 'ratio_year2year_mean',\n",
       "       'ratio_year2year_count', 'prov_Br', 'prov_EaF', 'prov_FB', 'prov_Ha',\n",
       "       'prov_Liege', 'prov_Lim', 'prov_Lux', 'prov_Namur', 'prov_WaB',\n",
       "       'prov_WeF', 'language_x', 'language_y', 'language_NaN', 'segment_x',\n",
       "       'segment_y', 'segment_z', 'gender_x', 'gender_y', 'age_NaN',\n",
       "       'recency_days_NaN', 'age_no_outliers', 'target', 'proba_stepwise'],\n",
       "      dtype='object')"
      ]
     },
     "execution_count": 66,
     "metadata": {},
     "output_type": "execute_result"
    }
   ],
   "source": [
    "basetable_training.columns"
   ]
  },
  {
   "cell_type": "code",
   "execution_count": 67,
   "metadata": {},
   "outputs": [],
   "source": [
    "all_features = basetable_training.columns[2:-2]\n",
    "target = \"target\""
   ]
  },
  {
   "cell_type": "code",
   "execution_count": 68,
   "metadata": {},
   "outputs": [
    {
     "data": {
      "text/plain": [
       "Index(['max', 'min', 'mean', 'sum', 'count', 'recency_days', 'last_month_mean',\n",
       "       'year1_mean', 'year1_count', 'year2_mean', 'year2_count',\n",
       "       'ratio_month_year', 'ratio_year2year_mean', 'ratio_year2year_count',\n",
       "       'prov_Br', 'prov_EaF', 'prov_FB', 'prov_Ha', 'prov_Liege', 'prov_Lim',\n",
       "       'prov_Lux', 'prov_Namur', 'prov_WaB', 'prov_WeF', 'language_x',\n",
       "       'language_y', 'language_NaN', 'segment_x', 'segment_y', 'segment_z',\n",
       "       'gender_x', 'gender_y', 'age_NaN', 'recency_days_NaN',\n",
       "       'age_no_outliers'],\n",
       "      dtype='object')"
      ]
     },
     "execution_count": 68,
     "metadata": {},
     "output_type": "execute_result"
    }
   ],
   "source": [
    "all_features "
   ]
  },
  {
   "cell_type": "markdown",
   "metadata": {},
   "source": [
    "### Model instanciation"
   ]
  },
  {
   "cell_type": "code",
   "execution_count": 69,
   "metadata": {},
   "outputs": [],
   "source": [
    "model = GradientBoostingClassifier()"
   ]
  },
  {
   "cell_type": "markdown",
   "metadata": {},
   "source": [
    "### Use stepwise regression to select the features"
   ]
  },
  {
   "cell_type": "code",
   "execution_count": 70,
   "metadata": {},
   "outputs": [],
   "source": [
    "def stepwiseRegresion (trainingSet: DataFrame, testSet: DataFrame, all_features: [str], target: [str]) -> DataFrame:\n",
    "\n",
    "    def computeAUC (forFeatures: [str]) -> ([str],float,float):\n",
    "    \n",
    "        model.fit(trainingSet[forFeatures], trainingSet[target])\n",
    "\n",
    "        trainingSet[\"proba_stepwise\"] = DataFrame(model.predict_proba(trainingSet[forFeatures]))[1]\n",
    "        testSet[\"proba_stepwise\"]     = DataFrame(model.predict_proba(testSet[forFeatures]))[1]\n",
    "\n",
    "        aucTraining = roc_auc_score(array(trainingSet[target]),array(trainingSet[\"proba_stepwise\"]))\n",
    "        aucTest     = roc_auc_score(array(testSet[target]),array(testSet[\"proba_stepwise\"]))\n",
    "\n",
    "        trainingSet.drop(\"proba_stepwise\", axis = 1)\n",
    "        testSet.drop(\"proba_stepwise\", axis = 1)\n",
    "\n",
    "        return (forFeatures,aucTraining,aucTest)\n",
    "\n",
    "    featuresOrder = []\n",
    "    forwardSelection = []\n",
    "\n",
    "    for step in range(len(all_features)):\n",
    "        print(f\"step {step+1}\")\n",
    "        aucs = []\n",
    "        for feature in all_features:\n",
    "            if feature not in featuresOrder:\n",
    "                modelFeatures = featuresOrder.copy()\n",
    "                modelFeatures.append(feature)\n",
    "                aucs.append(computeAUC(forFeatures = modelFeatures))\n",
    "\n",
    "        steps = DataFrame(aucs)\n",
    "        steps.columns = [\"Feature\",\"AUC training\", \"AUC test\"]\n",
    "        steps = steps.sort_values(by=[\"AUC test\"], ascending = False)\n",
    "\n",
    "        featuresOrder = steps[\"Feature\"].iloc[0]\n",
    "        forwardSelection.append((step+1, steps[\"Feature\"].iloc[0],steps[\"AUC training\"].iloc[0],steps[\"AUC test\"].iloc[0]))\n",
    "\n",
    "    df = DataFrame(forwardSelection)\n",
    "    df.columns = (\"Step\",\"Features\",\"AUC Train\",\"AUC Test\")\n",
    "    \n",
    "    return df"
   ]
  },
  {
   "cell_type": "code",
   "execution_count": 71,
   "metadata": {},
   "outputs": [
    {
     "name": "stdout",
     "output_type": "stream",
     "text": [
      "step 1\n",
      "step 2\n",
      "step 3\n",
      "step 4\n",
      "step 5\n",
      "step 6\n",
      "step 7\n",
      "step 8\n",
      "step 9\n",
      "step 10\n",
      "step 11\n",
      "step 12\n",
      "step 13\n",
      "step 14\n",
      "step 15\n",
      "step 16\n",
      "step 17\n",
      "step 18\n",
      "step 19\n",
      "step 20\n",
      "step 21\n",
      "step 22\n",
      "step 23\n",
      "step 24\n",
      "step 25\n",
      "step 26\n",
      "step 27\n",
      "step 28\n",
      "step 29\n",
      "step 30\n",
      "step 31\n",
      "step 32\n",
      "step 33\n",
      "step 34\n",
      "step 35\n"
     ]
    }
   ],
   "source": [
    "\n",
    "forwardSelection = stepwiseRegresion(trainingSet      = basetable_training, \n",
    "                                     testSet          = basetable_test,\n",
    "                                     all_features     = all_features,\n",
    "                                     target           = target)"
   ]
  },
  {
   "cell_type": "code",
   "execution_count": 72,
   "metadata": {},
   "outputs": [
    {
     "data": {
      "text/html": [
       "<div>\n",
       "<style scoped>\n",
       "    .dataframe tbody tr th:only-of-type {\n",
       "        vertical-align: middle;\n",
       "    }\n",
       "\n",
       "    .dataframe tbody tr th {\n",
       "        vertical-align: top;\n",
       "    }\n",
       "\n",
       "    .dataframe thead th {\n",
       "        text-align: right;\n",
       "    }\n",
       "</style>\n",
       "<table border=\"1\" class=\"dataframe\">\n",
       "  <thead>\n",
       "    <tr style=\"text-align: right;\">\n",
       "      <th></th>\n",
       "      <th>Step</th>\n",
       "      <th>Features</th>\n",
       "      <th>AUC Train</th>\n",
       "      <th>AUC Test</th>\n",
       "    </tr>\n",
       "  </thead>\n",
       "  <tbody>\n",
       "    <tr>\n",
       "      <th>0</th>\n",
       "      <td>1</td>\n",
       "      <td>[min]</td>\n",
       "      <td>0.992552</td>\n",
       "      <td>0.751236</td>\n",
       "    </tr>\n",
       "    <tr>\n",
       "      <th>1</th>\n",
       "      <td>2</td>\n",
       "      <td>[min, ratio_year2year_mean]</td>\n",
       "      <td>0.991811</td>\n",
       "      <td>0.755167</td>\n",
       "    </tr>\n",
       "    <tr>\n",
       "      <th>2</th>\n",
       "      <td>3</td>\n",
       "      <td>[min, ratio_year2year_mean, prov_FB]</td>\n",
       "      <td>0.991287</td>\n",
       "      <td>0.758749</td>\n",
       "    </tr>\n",
       "    <tr>\n",
       "      <th>3</th>\n",
       "      <td>4</td>\n",
       "      <td>[min, ratio_year2year_mean, prov_FB, last_mont...</td>\n",
       "      <td>0.991189</td>\n",
       "      <td>0.760594</td>\n",
       "    </tr>\n",
       "    <tr>\n",
       "      <th>4</th>\n",
       "      <td>5</td>\n",
       "      <td>[min, ratio_year2year_mean, prov_FB, last_mont...</td>\n",
       "      <td>0.991269</td>\n",
       "      <td>0.760638</td>\n",
       "    </tr>\n",
       "    <tr>\n",
       "      <th>5</th>\n",
       "      <td>6</td>\n",
       "      <td>[min, ratio_year2year_mean, prov_FB, last_mont...</td>\n",
       "      <td>0.991254</td>\n",
       "      <td>0.760662</td>\n",
       "    </tr>\n",
       "    <tr>\n",
       "      <th>6</th>\n",
       "      <td>7</td>\n",
       "      <td>[min, ratio_year2year_mean, prov_FB, last_mont...</td>\n",
       "      <td>0.991255</td>\n",
       "      <td>0.760677</td>\n",
       "    </tr>\n",
       "    <tr>\n",
       "      <th>7</th>\n",
       "      <td>8</td>\n",
       "      <td>[min, ratio_year2year_mean, prov_FB, last_mont...</td>\n",
       "      <td>0.991255</td>\n",
       "      <td>0.760677</td>\n",
       "    </tr>\n",
       "    <tr>\n",
       "      <th>8</th>\n",
       "      <td>9</td>\n",
       "      <td>[min, ratio_year2year_mean, prov_FB, last_mont...</td>\n",
       "      <td>0.991255</td>\n",
       "      <td>0.760677</td>\n",
       "    </tr>\n",
       "    <tr>\n",
       "      <th>9</th>\n",
       "      <td>10</td>\n",
       "      <td>[min, ratio_year2year_mean, prov_FB, last_mont...</td>\n",
       "      <td>0.991255</td>\n",
       "      <td>0.760677</td>\n",
       "    </tr>\n",
       "    <tr>\n",
       "      <th>10</th>\n",
       "      <td>11</td>\n",
       "      <td>[min, ratio_year2year_mean, prov_FB, last_mont...</td>\n",
       "      <td>0.991255</td>\n",
       "      <td>0.760676</td>\n",
       "    </tr>\n",
       "    <tr>\n",
       "      <th>11</th>\n",
       "      <td>12</td>\n",
       "      <td>[min, ratio_year2year_mean, prov_FB, last_mont...</td>\n",
       "      <td>0.991257</td>\n",
       "      <td>0.760676</td>\n",
       "    </tr>\n",
       "    <tr>\n",
       "      <th>12</th>\n",
       "      <td>13</td>\n",
       "      <td>[min, ratio_year2year_mean, prov_FB, last_mont...</td>\n",
       "      <td>0.991288</td>\n",
       "      <td>0.757755</td>\n",
       "    </tr>\n",
       "    <tr>\n",
       "      <th>13</th>\n",
       "      <td>14</td>\n",
       "      <td>[min, ratio_year2year_mean, prov_FB, last_mont...</td>\n",
       "      <td>0.991297</td>\n",
       "      <td>0.757746</td>\n",
       "    </tr>\n",
       "    <tr>\n",
       "      <th>14</th>\n",
       "      <td>15</td>\n",
       "      <td>[min, ratio_year2year_mean, prov_FB, last_mont...</td>\n",
       "      <td>0.992616</td>\n",
       "      <td>0.753590</td>\n",
       "    </tr>\n",
       "    <tr>\n",
       "      <th>15</th>\n",
       "      <td>16</td>\n",
       "      <td>[min, ratio_year2year_mean, prov_FB, last_mont...</td>\n",
       "      <td>0.991937</td>\n",
       "      <td>0.755605</td>\n",
       "    </tr>\n",
       "    <tr>\n",
       "      <th>16</th>\n",
       "      <td>17</td>\n",
       "      <td>[min, ratio_year2year_mean, prov_FB, last_mont...</td>\n",
       "      <td>0.991676</td>\n",
       "      <td>0.757054</td>\n",
       "    </tr>\n",
       "    <tr>\n",
       "      <th>17</th>\n",
       "      <td>18</td>\n",
       "      <td>[min, ratio_year2year_mean, prov_FB, last_mont...</td>\n",
       "      <td>0.991676</td>\n",
       "      <td>0.757054</td>\n",
       "    </tr>\n",
       "    <tr>\n",
       "      <th>18</th>\n",
       "      <td>19</td>\n",
       "      <td>[min, ratio_year2year_mean, prov_FB, last_mont...</td>\n",
       "      <td>0.991676</td>\n",
       "      <td>0.757054</td>\n",
       "    </tr>\n",
       "    <tr>\n",
       "      <th>19</th>\n",
       "      <td>20</td>\n",
       "      <td>[min, ratio_year2year_mean, prov_FB, last_mont...</td>\n",
       "      <td>0.991675</td>\n",
       "      <td>0.757004</td>\n",
       "    </tr>\n",
       "    <tr>\n",
       "      <th>20</th>\n",
       "      <td>21</td>\n",
       "      <td>[min, ratio_year2year_mean, prov_FB, last_mont...</td>\n",
       "      <td>0.993565</td>\n",
       "      <td>0.753776</td>\n",
       "    </tr>\n",
       "    <tr>\n",
       "      <th>21</th>\n",
       "      <td>22</td>\n",
       "      <td>[min, ratio_year2year_mean, prov_FB, last_mont...</td>\n",
       "      <td>0.992142</td>\n",
       "      <td>0.756290</td>\n",
       "    </tr>\n",
       "    <tr>\n",
       "      <th>22</th>\n",
       "      <td>23</td>\n",
       "      <td>[min, ratio_year2year_mean, prov_FB, last_mont...</td>\n",
       "      <td>0.993665</td>\n",
       "      <td>0.759514</td>\n",
       "    </tr>\n",
       "    <tr>\n",
       "      <th>23</th>\n",
       "      <td>24</td>\n",
       "      <td>[min, ratio_year2year_mean, prov_FB, last_mont...</td>\n",
       "      <td>0.993005</td>\n",
       "      <td>0.731333</td>\n",
       "    </tr>\n",
       "    <tr>\n",
       "      <th>24</th>\n",
       "      <td>25</td>\n",
       "      <td>[min, ratio_year2year_mean, prov_FB, last_mont...</td>\n",
       "      <td>0.992574</td>\n",
       "      <td>0.739647</td>\n",
       "    </tr>\n",
       "    <tr>\n",
       "      <th>25</th>\n",
       "      <td>26</td>\n",
       "      <td>[min, ratio_year2year_mean, prov_FB, last_mont...</td>\n",
       "      <td>0.993618</td>\n",
       "      <td>0.749253</td>\n",
       "    </tr>\n",
       "    <tr>\n",
       "      <th>26</th>\n",
       "      <td>27</td>\n",
       "      <td>[min, ratio_year2year_mean, prov_FB, last_mont...</td>\n",
       "      <td>0.993618</td>\n",
       "      <td>0.749252</td>\n",
       "    </tr>\n",
       "    <tr>\n",
       "      <th>27</th>\n",
       "      <td>28</td>\n",
       "      <td>[min, ratio_year2year_mean, prov_FB, last_mont...</td>\n",
       "      <td>0.981741</td>\n",
       "      <td>0.729964</td>\n",
       "    </tr>\n",
       "    <tr>\n",
       "      <th>28</th>\n",
       "      <td>29</td>\n",
       "      <td>[min, ratio_year2year_mean, prov_FB, last_mont...</td>\n",
       "      <td>0.991985</td>\n",
       "      <td>0.724949</td>\n",
       "    </tr>\n",
       "    <tr>\n",
       "      <th>29</th>\n",
       "      <td>30</td>\n",
       "      <td>[min, ratio_year2year_mean, prov_FB, last_mont...</td>\n",
       "      <td>0.991714</td>\n",
       "      <td>0.717801</td>\n",
       "    </tr>\n",
       "    <tr>\n",
       "      <th>30</th>\n",
       "      <td>31</td>\n",
       "      <td>[min, ratio_year2year_mean, prov_FB, last_mont...</td>\n",
       "      <td>0.993525</td>\n",
       "      <td>0.734771</td>\n",
       "    </tr>\n",
       "    <tr>\n",
       "      <th>31</th>\n",
       "      <td>32</td>\n",
       "      <td>[min, ratio_year2year_mean, prov_FB, last_mont...</td>\n",
       "      <td>0.994075</td>\n",
       "      <td>0.735727</td>\n",
       "    </tr>\n",
       "    <tr>\n",
       "      <th>32</th>\n",
       "      <td>33</td>\n",
       "      <td>[min, ratio_year2year_mean, prov_FB, last_mont...</td>\n",
       "      <td>0.993693</td>\n",
       "      <td>0.728349</td>\n",
       "    </tr>\n",
       "    <tr>\n",
       "      <th>33</th>\n",
       "      <td>34</td>\n",
       "      <td>[min, ratio_year2year_mean, prov_FB, last_mont...</td>\n",
       "      <td>0.994412</td>\n",
       "      <td>0.722823</td>\n",
       "    </tr>\n",
       "    <tr>\n",
       "      <th>34</th>\n",
       "      <td>35</td>\n",
       "      <td>[min, ratio_year2year_mean, prov_FB, last_mont...</td>\n",
       "      <td>0.994434</td>\n",
       "      <td>0.714092</td>\n",
       "    </tr>\n",
       "  </tbody>\n",
       "</table>\n",
       "</div>"
      ],
      "text/plain": [
       "    Step                                           Features  AUC Train  \\\n",
       "0      1                                              [min]   0.992552   \n",
       "1      2                        [min, ratio_year2year_mean]   0.991811   \n",
       "2      3               [min, ratio_year2year_mean, prov_FB]   0.991287   \n",
       "3      4  [min, ratio_year2year_mean, prov_FB, last_mont...   0.991189   \n",
       "4      5  [min, ratio_year2year_mean, prov_FB, last_mont...   0.991269   \n",
       "5      6  [min, ratio_year2year_mean, prov_FB, last_mont...   0.991254   \n",
       "6      7  [min, ratio_year2year_mean, prov_FB, last_mont...   0.991255   \n",
       "7      8  [min, ratio_year2year_mean, prov_FB, last_mont...   0.991255   \n",
       "8      9  [min, ratio_year2year_mean, prov_FB, last_mont...   0.991255   \n",
       "9     10  [min, ratio_year2year_mean, prov_FB, last_mont...   0.991255   \n",
       "10    11  [min, ratio_year2year_mean, prov_FB, last_mont...   0.991255   \n",
       "11    12  [min, ratio_year2year_mean, prov_FB, last_mont...   0.991257   \n",
       "12    13  [min, ratio_year2year_mean, prov_FB, last_mont...   0.991288   \n",
       "13    14  [min, ratio_year2year_mean, prov_FB, last_mont...   0.991297   \n",
       "14    15  [min, ratio_year2year_mean, prov_FB, last_mont...   0.992616   \n",
       "15    16  [min, ratio_year2year_mean, prov_FB, last_mont...   0.991937   \n",
       "16    17  [min, ratio_year2year_mean, prov_FB, last_mont...   0.991676   \n",
       "17    18  [min, ratio_year2year_mean, prov_FB, last_mont...   0.991676   \n",
       "18    19  [min, ratio_year2year_mean, prov_FB, last_mont...   0.991676   \n",
       "19    20  [min, ratio_year2year_mean, prov_FB, last_mont...   0.991675   \n",
       "20    21  [min, ratio_year2year_mean, prov_FB, last_mont...   0.993565   \n",
       "21    22  [min, ratio_year2year_mean, prov_FB, last_mont...   0.992142   \n",
       "22    23  [min, ratio_year2year_mean, prov_FB, last_mont...   0.993665   \n",
       "23    24  [min, ratio_year2year_mean, prov_FB, last_mont...   0.993005   \n",
       "24    25  [min, ratio_year2year_mean, prov_FB, last_mont...   0.992574   \n",
       "25    26  [min, ratio_year2year_mean, prov_FB, last_mont...   0.993618   \n",
       "26    27  [min, ratio_year2year_mean, prov_FB, last_mont...   0.993618   \n",
       "27    28  [min, ratio_year2year_mean, prov_FB, last_mont...   0.981741   \n",
       "28    29  [min, ratio_year2year_mean, prov_FB, last_mont...   0.991985   \n",
       "29    30  [min, ratio_year2year_mean, prov_FB, last_mont...   0.991714   \n",
       "30    31  [min, ratio_year2year_mean, prov_FB, last_mont...   0.993525   \n",
       "31    32  [min, ratio_year2year_mean, prov_FB, last_mont...   0.994075   \n",
       "32    33  [min, ratio_year2year_mean, prov_FB, last_mont...   0.993693   \n",
       "33    34  [min, ratio_year2year_mean, prov_FB, last_mont...   0.994412   \n",
       "34    35  [min, ratio_year2year_mean, prov_FB, last_mont...   0.994434   \n",
       "\n",
       "    AUC Test  \n",
       "0   0.751236  \n",
       "1   0.755167  \n",
       "2   0.758749  \n",
       "3   0.760594  \n",
       "4   0.760638  \n",
       "5   0.760662  \n",
       "6   0.760677  \n",
       "7   0.760677  \n",
       "8   0.760677  \n",
       "9   0.760677  \n",
       "10  0.760676  \n",
       "11  0.760676  \n",
       "12  0.757755  \n",
       "13  0.757746  \n",
       "14  0.753590  \n",
       "15  0.755605  \n",
       "16  0.757054  \n",
       "17  0.757054  \n",
       "18  0.757054  \n",
       "19  0.757004  \n",
       "20  0.753776  \n",
       "21  0.756290  \n",
       "22  0.759514  \n",
       "23  0.731333  \n",
       "24  0.739647  \n",
       "25  0.749253  \n",
       "26  0.749252  \n",
       "27  0.729964  \n",
       "28  0.724949  \n",
       "29  0.717801  \n",
       "30  0.734771  \n",
       "31  0.735727  \n",
       "32  0.728349  \n",
       "33  0.722823  \n",
       "34  0.714092  "
      ]
     },
     "execution_count": 72,
     "metadata": {},
     "output_type": "execute_result"
    }
   ],
   "source": [
    "forwardSelection\n"
   ]
  },
  {
   "cell_type": "code",
   "execution_count": 97,
   "metadata": {},
   "outputs": [
    {
     "data": {
      "text/plain": [
       "['min',\n",
       " 'ratio_year2year_mean',\n",
       " 'prov_FB',\n",
       " 'last_month_mean',\n",
       " 'prov_Br',\n",
       " 'prov_Liege',\n",
       " 'prov_Ha',\n",
       " 'prov_Lux',\n",
       " 'prov_Namur',\n",
       " 'segment_x',\n",
       " 'ratio_month_year',\n",
       " 'prov_WeF']"
      ]
     },
     "execution_count": 97,
     "metadata": {},
     "output_type": "execute_result"
    }
   ],
   "source": [
    "#selectedpredictors\n",
    "selectedpredictors = forwardSelection['Features'][11]\n",
    "selectedpredictors"
   ]
  },
  {
   "cell_type": "code",
   "execution_count": null,
   "metadata": {
    "scrolled": true
   },
   "outputs": [],
   "source": [
    "\n"
   ]
  },
  {
   "cell_type": "code",
   "execution_count": null,
   "metadata": {},
   "outputs": [],
   "source": [
    "selectedpredictors = ['min',\n",
    " 'segment_z',\n",
    " 'prov_Ha',\n",
    " 'recency_days_NaN',\n",
    " 'prov_Br',\n",
    " 'prov_Lim',\n",
    " 'prov_Lux']"
   ]
  },
  {
   "cell_type": "code",
   "execution_count": null,
   "metadata": {},
   "outputs": [],
   "source": []
  },
  {
   "cell_type": "markdown",
   "metadata": {},
   "source": [
    "### Run the model on training set"
   ]
  },
  {
   "cell_type": "markdown",
   "metadata": {},
   "source": [
    "#### Model instanciation"
   ]
  },
  {
   "cell_type": "code",
   "execution_count": 98,
   "metadata": {},
   "outputs": [],
   "source": [
    "features = selectedpredictors\n",
    "\n",
    "target   = \"target\""
   ]
  },
  {
   "cell_type": "code",
   "execution_count": 99,
   "metadata": {},
   "outputs": [],
   "source": [
    "tree         = DecisionTreeClassifier()\n",
    "logistic     = LogisticRegression(solver = \"lbfgs\", max_iter = 1000)\n",
    "randomForest = RandomForestClassifier(n_estimators = 100)\n",
    "boostedTree  = GradientBoostingClassifier()\n",
    "svm          = SVC(gamma = \"scale\", probability = True)\n",
    "neuralNet    = MLPClassifier()\n",
    "neighbors    = KNeighborsClassifier()"
   ]
  },
  {
   "cell_type": "code",
   "execution_count": 100,
   "metadata": {},
   "outputs": [],
   "source": [
    "models = {\"tree\"         :tree,\n",
    "          \"logistic\"     :logistic,\n",
    "          \"randomForest\" :randomForest,\n",
    "          \"boostedTree\"  :boostedTree,\n",
    "          \"svm\"          :svm,\n",
    "          \"neuralNet\"    :neuralNet,\n",
    "          \"neighbors\"    :neighbors\n",
    "         }"
   ]
  },
  {
   "cell_type": "markdown",
   "metadata": {},
   "source": [
    "#### Train the model on the training set"
   ]
  },
  {
   "cell_type": "code",
   "execution_count": 101,
   "metadata": {},
   "outputs": [
    {
     "name": "stdout",
     "output_type": "stream",
     "text": [
      "tree has been trained successfully\n",
      "logistic has been trained successfully\n",
      "randomForest has been trained successfully\n",
      "boostedTree has been trained successfully\n",
      "svm has been trained successfully\n",
      "neuralNet has been trained successfully\n",
      "neighbors has been trained successfully\n"
     ]
    }
   ],
   "source": [
    "for model in models:\n",
    "    models[model].fit(basetable_training[features],basetable_training[target])\n",
    "    print(f\"{model} has been trained successfully\")"
   ]
  },
  {
   "cell_type": "markdown",
   "metadata": {},
   "source": [
    "### Evaluate the model"
   ]
  },
  {
   "cell_type": "code",
   "execution_count": 102,
   "metadata": {},
   "outputs": [],
   "source": [
    "performances = {}\n",
    "\n",
    "for model in models:\n",
    "    predictions   = models[model].predict(basetable_training[features])\n",
    "    probabilities = DataFrame(models[model].predict_proba(basetable_training[features]))[1]\n",
    "    accuracy      = accuracy_score(basetable_training[target],predictions)\n",
    "    auc           = roc_auc_score(array(basetable_training[target]),array(probabilities))\n",
    "    \n",
    "    performances[model] = {\"Accuracy\":accuracy,\"AUC\":auc}"
   ]
  },
  {
   "cell_type": "code",
   "execution_count": 103,
   "metadata": {},
   "outputs": [
    {
     "data": {
      "text/html": [
       "<div>\n",
       "<style scoped>\n",
       "    .dataframe tbody tr th:only-of-type {\n",
       "        vertical-align: middle;\n",
       "    }\n",
       "\n",
       "    .dataframe tbody tr th {\n",
       "        vertical-align: top;\n",
       "    }\n",
       "\n",
       "    .dataframe thead th {\n",
       "        text-align: right;\n",
       "    }\n",
       "</style>\n",
       "<table border=\"1\" class=\"dataframe\">\n",
       "  <thead>\n",
       "    <tr style=\"text-align: right;\">\n",
       "      <th></th>\n",
       "      <th>tree</th>\n",
       "      <th>logistic</th>\n",
       "      <th>randomForest</th>\n",
       "      <th>boostedTree</th>\n",
       "      <th>svm</th>\n",
       "      <th>neuralNet</th>\n",
       "      <th>neighbors</th>\n",
       "    </tr>\n",
       "  </thead>\n",
       "  <tbody>\n",
       "    <tr>\n",
       "      <th>Accuracy</th>\n",
       "      <td>0.993293</td>\n",
       "      <td>0.96569</td>\n",
       "      <td>0.993293</td>\n",
       "      <td>0.988563</td>\n",
       "      <td>0.965862</td>\n",
       "      <td>0.965834</td>\n",
       "      <td>0.987503</td>\n",
       "    </tr>\n",
       "    <tr>\n",
       "      <th>AUC</th>\n",
       "      <td>0.998283</td>\n",
       "      <td>0.54665</td>\n",
       "      <td>0.997955</td>\n",
       "      <td>0.991257</td>\n",
       "      <td>0.535503</td>\n",
       "      <td>0.565266</td>\n",
       "      <td>0.993222</td>\n",
       "    </tr>\n",
       "  </tbody>\n",
       "</table>\n",
       "</div>"
      ],
      "text/plain": [
       "              tree  logistic  randomForest  boostedTree       svm  neuralNet  \\\n",
       "Accuracy  0.993293   0.96569      0.993293     0.988563  0.965862   0.965834   \n",
       "AUC       0.998283   0.54665      0.997955     0.991257  0.535503   0.565266   \n",
       "\n",
       "          neighbors  \n",
       "Accuracy   0.987503  \n",
       "AUC        0.993222  "
      ]
     },
     "execution_count": 103,
     "metadata": {},
     "output_type": "execute_result"
    }
   ],
   "source": [
    "DataFrame(performances)"
   ]
  },
  {
   "cell_type": "markdown",
   "metadata": {},
   "source": [
    "### selected model"
   ]
  },
  {
   "cell_type": "code",
   "execution_count": 104,
   "metadata": {},
   "outputs": [],
   "source": [
    "boostedTree  = GradientBoostingClassifier()"
   ]
  },
  {
   "cell_type": "markdown",
   "metadata": {},
   "source": [
    "### Evaluate the model on the test set"
   ]
  },
  {
   "cell_type": "code",
   "execution_count": 121,
   "metadata": {},
   "outputs": [],
   "source": [
    "features = selectedpredictors \n",
    "target   = \"target\""
   ]
  },
  {
   "cell_type": "code",
   "execution_count": 122,
   "metadata": {},
   "outputs": [
    {
     "data": {
      "text/plain": [
       "GradientBoostingClassifier()"
      ]
     },
     "execution_count": 122,
     "metadata": {},
     "output_type": "execute_result"
    }
   ],
   "source": [
    "boostedTree.fit(basetable_training[features],basetable_training[target])"
   ]
  },
  {
   "cell_type": "code",
   "execution_count": 123,
   "metadata": {},
   "outputs": [],
   "source": [
    "    predictions_test   = boostedTree.predict(basetable_test[features])\n",
    "    probabilities_test = DataFrame(boostedTree.predict_proba(basetable_test[features]))[1]\n",
    "    accuracy_test      = accuracy_score(basetable_test[target],predictions_test)\n",
    "    auc_test           = roc_auc_score(array(basetable_test[target]),array(probabilities_test))\n",
    "    "
   ]
  },
  {
   "cell_type": "code",
   "execution_count": 124,
   "metadata": {},
   "outputs": [
    {
     "data": {
      "text/plain": [
       "0.760675786774157"
      ]
     },
     "execution_count": 124,
     "metadata": {},
     "output_type": "execute_result"
    }
   ],
   "source": [
    "auc_test"
   ]
  },
  {
   "cell_type": "code",
   "execution_count": 125,
   "metadata": {},
   "outputs": [
    {
     "data": {
      "text/plain": [
       "25645"
      ]
     },
     "execution_count": 125,
     "metadata": {},
     "output_type": "execute_result"
    }
   ],
   "source": [
    "len(predictions_test)"
   ]
  },
  {
   "cell_type": "code",
   "execution_count": 126,
   "metadata": {},
   "outputs": [
    {
     "data": {
      "text/plain": [
       "0.9828426593877949"
      ]
     },
     "execution_count": 126,
     "metadata": {},
     "output_type": "execute_result"
    }
   ],
   "source": [
    "accuracy_test"
   ]
  },
  {
   "cell_type": "code",
   "execution_count": 127,
   "metadata": {},
   "outputs": [
    {
     "data": {
      "text/plain": [
       "93"
      ]
     },
     "execution_count": 127,
     "metadata": {},
     "output_type": "execute_result"
    }
   ],
   "source": [
    "predictions_test.sum()"
   ]
  },
  {
   "cell_type": "code",
   "execution_count": 128,
   "metadata": {},
   "outputs": [
    {
     "data": {
      "text/plain": [
       "361"
      ]
     },
     "execution_count": 128,
     "metadata": {},
     "output_type": "execute_result"
    }
   ],
   "source": [
    "basetable_test.target.sum()"
   ]
  },
  {
   "cell_type": "markdown",
   "metadata": {},
   "source": [
    "### Cummulative gain curve"
   ]
  },
  {
   "cell_type": "code",
   "execution_count": 132,
   "metadata": {},
   "outputs": [],
   "source": [
    "features_selected = selectedpredictors"
   ]
  },
  {
   "cell_type": "code",
   "execution_count": 133,
   "metadata": {},
   "outputs": [
    {
     "data": {
      "image/png": "[encoded data removed]",
      "text/plain": [
       "<Figure size 720x360 with 1 Axes>"
      ]
     },
     "metadata": {
      "needs_background": "light"
     },
     "output_type": "display_data"
    }
   ],
   "source": [
    "features_select = basetable_training[features_selected]\n",
    "target = basetable_training[\"target\"]\n",
    "\n",
    "X = features_select\n",
    "y = target\n",
    "\n",
    "logreg = GradientBoostingClassifier()\n",
    "\n",
    "logreg.fit(X,y)\n",
    "\n",
    "predictions = logreg.predict_proba(X)\n",
    "\n",
    "skplt.metrics.plot_cumulative_gain(y, predictions, figsize=(10,5), title_fontsize=15, text_fontsize=15)\n",
    "plt.show()"
   ]
  },
  {
   "cell_type": "code",
   "execution_count": 134,
   "metadata": {},
   "outputs": [
    {
     "data": {
      "image/png": "[encoded data removed]",
      "text/plain": [
       "<Figure size 720x360 with 1 Axes>"
      ]
     },
     "metadata": {
      "needs_background": "light"
     },
     "output_type": "display_data"
    }
   ],
   "source": [
    "features_select = basetable_test[features_selected]\n",
    "target = basetable_test[\"target\"]\n",
    "\n",
    "X = features_select\n",
    "y = target\n",
    "\n",
    "logreg = GradientBoostingClassifier()\n",
    "\n",
    "logreg.fit(X,y)\n",
    "\n",
    "predictions = logreg.predict_proba(X)\n",
    "\n",
    "skplt.metrics.plot_cumulative_gain(y, predictions, figsize=(10,5), title_fontsize=15, text_fontsize=15)\n",
    "plt.show()"
   ]
  },
  {
   "cell_type": "code",
   "execution_count": 137,
   "metadata": {},
   "outputs": [],
   "source": [
    "data      = DataFrame(basetable_test['target']).copy() \n",
    "\n",
    "data['proba_logistic'] = DataFrame(boostedTree.predict_proba(basetable_test[features_selected]))[1]\n",
    "lifts = lift(dataSet = data, actuals = \"target\", probability = 'proba_logistic')\n",
    "responses = cumulativeResponse(dataSet = data, actuals = \"target\", probability = 'proba_logistic')\n",
    "gains = cumulativeGains(dataSet = data, actuals = \"target\", probability = 'proba_logistic')"
   ]
  },
  {
   "cell_type": "code",
   "execution_count": 138,
   "metadata": {},
   "outputs": [
    {
     "data": {
      "text/html": [
       "<div>\n",
       "<style scoped>\n",
       "    .dataframe tbody tr th:only-of-type {\n",
       "        vertical-align: middle;\n",
       "    }\n",
       "\n",
       "    .dataframe tbody tr th {\n",
       "        vertical-align: top;\n",
       "    }\n",
       "\n",
       "    .dataframe thead th {\n",
       "        text-align: right;\n",
       "    }\n",
       "</style>\n",
       "<table border=\"1\" class=\"dataframe\">\n",
       "  <thead>\n",
       "    <tr style=\"text-align: right;\">\n",
       "      <th></th>\n",
       "      <th>Quantile</th>\n",
       "      <th>Lift</th>\n",
       "      <th>Base</th>\n",
       "    </tr>\n",
       "  </thead>\n",
       "  <tbody>\n",
       "    <tr>\n",
       "      <th>10</th>\n",
       "      <td>1.00</td>\n",
       "      <td>4.091239</td>\n",
       "      <td>1.0</td>\n",
       "    </tr>\n",
       "    <tr>\n",
       "      <th>9</th>\n",
       "      <td>0.95</td>\n",
       "      <td>2.562988</td>\n",
       "      <td>1.0</td>\n",
       "    </tr>\n",
       "    <tr>\n",
       "      <th>8</th>\n",
       "      <td>0.90</td>\n",
       "      <td>2.665427</td>\n",
       "      <td>1.0</td>\n",
       "    </tr>\n",
       "    <tr>\n",
       "      <th>7</th>\n",
       "      <td>0.85</td>\n",
       "      <td>2.243849</td>\n",
       "      <td>1.0</td>\n",
       "    </tr>\n",
       "    <tr>\n",
       "      <th>6</th>\n",
       "      <td>0.80</td>\n",
       "      <td>2.001545</td>\n",
       "      <td>1.0</td>\n",
       "    </tr>\n",
       "    <tr>\n",
       "      <th>5</th>\n",
       "      <td>0.75</td>\n",
       "      <td>2.395390</td>\n",
       "      <td>1.0</td>\n",
       "    </tr>\n",
       "    <tr>\n",
       "      <th>4</th>\n",
       "      <td>0.70</td>\n",
       "      <td>1.765909</td>\n",
       "      <td>1.0</td>\n",
       "    </tr>\n",
       "    <tr>\n",
       "      <th>3</th>\n",
       "      <td>0.55</td>\n",
       "      <td>1.375964</td>\n",
       "      <td>1.0</td>\n",
       "    </tr>\n",
       "    <tr>\n",
       "      <th>2</th>\n",
       "      <td>0.45</td>\n",
       "      <td>1.342479</td>\n",
       "      <td>1.0</td>\n",
       "    </tr>\n",
       "    <tr>\n",
       "      <th>1</th>\n",
       "      <td>0.40</td>\n",
       "      <td>1.226036</td>\n",
       "      <td>1.0</td>\n",
       "    </tr>\n",
       "    <tr>\n",
       "      <th>0</th>\n",
       "      <td>0.20</td>\n",
       "      <td>1.000000</td>\n",
       "      <td>1.0</td>\n",
       "    </tr>\n",
       "  </tbody>\n",
       "</table>\n",
       "</div>"
      ],
      "text/plain": [
       "    Quantile      Lift  Base\n",
       "10      1.00  4.091239   1.0\n",
       "9       0.95  2.562988   1.0\n",
       "8       0.90  2.665427   1.0\n",
       "7       0.85  2.243849   1.0\n",
       "6       0.80  2.001545   1.0\n",
       "5       0.75  2.395390   1.0\n",
       "4       0.70  1.765909   1.0\n",
       "3       0.55  1.375964   1.0\n",
       "2       0.45  1.342479   1.0\n",
       "1       0.40  1.226036   1.0\n",
       "0       0.20  1.000000   1.0"
      ]
     },
     "execution_count": 138,
     "metadata": {},
     "output_type": "execute_result"
    }
   ],
   "source": [
    "lifts\n"
   ]
  },
  {
   "cell_type": "code",
   "execution_count": 139,
   "metadata": {},
   "outputs": [],
   "source": [
    "lifts.to_csv('lifts_curves_booostedtree.csv')"
   ]
  },
  {
   "cell_type": "code",
   "execution_count": 140,
   "metadata": {},
   "outputs": [],
   "source": [
    "responses.to_csv('responses_curves_booostedtree.csv')"
   ]
  },
  {
   "cell_type": "code",
   "execution_count": 141,
   "metadata": {},
   "outputs": [],
   "source": [
    "gains.to_csv('gains_curves_booostedtree.csv')"
   ]
  },
  {
   "cell_type": "markdown",
   "metadata": {},
   "source": [
    "### Prediction of Unseen DATA"
   ]
  },
  {
   "cell_type": "code",
   "execution_count": 175,
   "metadata": {
    "scrolled": true
   },
   "outputs": [
    {
     "data": {
      "text/html": [
       "<div>\n",
       "<style scoped>\n",
       "    .dataframe tbody tr th:only-of-type {\n",
       "        vertical-align: middle;\n",
       "    }\n",
       "\n",
       "    .dataframe tbody tr th {\n",
       "        vertical-align: top;\n",
       "    }\n",
       "\n",
       "    .dataframe thead th {\n",
       "        text-align: right;\n",
       "    }\n",
       "</style>\n",
       "<table border=\"1\" class=\"dataframe\">\n",
       "  <thead>\n",
       "    <tr style=\"text-align: right;\">\n",
       "      <th></th>\n",
       "      <th>donorID</th>\n",
       "    </tr>\n",
       "  </thead>\n",
       "  <tbody>\n",
       "    <tr>\n",
       "      <th>0</th>\n",
       "      <td>134242</td>\n",
       "    </tr>\n",
       "    <tr>\n",
       "      <th>1</th>\n",
       "      <td>126503</td>\n",
       "    </tr>\n",
       "    <tr>\n",
       "      <th>2</th>\n",
       "      <td>104392</td>\n",
       "    </tr>\n",
       "    <tr>\n",
       "      <th>3</th>\n",
       "      <td>105905</td>\n",
       "    </tr>\n",
       "    <tr>\n",
       "      <th>4</th>\n",
       "      <td>120506</td>\n",
       "    </tr>\n",
       "  </tbody>\n",
       "</table>\n",
       "</div>"
      ],
      "text/plain": [
       "   donorID\n",
       "0   134242\n",
       "1   126503\n",
       "2   104392\n",
       "3   105905\n",
       "4   120506"
      ]
     },
     "execution_count": 175,
     "metadata": {},
     "output_type": "execute_result"
    }
   ],
   "source": [
    "#reading data\n",
    "campaigns_7662 = pd.read_csv('selection campaign 7662.csv')\n",
    "campaigns_7662.head()"
   ]
  },
  {
   "cell_type": "code",
   "execution_count": 176,
   "metadata": {},
   "outputs": [
    {
     "data": {
      "text/plain": [
       "26522"
      ]
     },
     "execution_count": 176,
     "metadata": {},
     "output_type": "execute_result"
    }
   ],
   "source": [
    "len(campaigns_7662)"
   ]
  },
  {
   "cell_type": "code",
   "execution_count": 177,
   "metadata": {},
   "outputs": [
    {
     "name": "stdout",
     "output_type": "stream",
     "text": [
      "216594\n"
     ]
    }
   ],
   "source": [
    "#15th of December 2020\n",
    "reference7662 = dt.datetime(year=2020, month=12, day=15)\n",
    "\n",
    "gifts_data = gifts[(gifts[\"date\"] < reference7662)]\n",
    "\n",
    "print(len(gifts_data))"
   ]
  },
  {
   "cell_type": "code",
   "execution_count": 178,
   "metadata": {},
   "outputs": [
    {
     "data": {
      "text/html": [
       "<div>\n",
       "<style scoped>\n",
       "    .dataframe tbody tr th:only-of-type {\n",
       "        vertical-align: middle;\n",
       "    }\n",
       "\n",
       "    .dataframe tbody tr th {\n",
       "        vertical-align: top;\n",
       "    }\n",
       "\n",
       "    .dataframe thead th {\n",
       "        text-align: right;\n",
       "    }\n",
       "</style>\n",
       "<table border=\"1\" class=\"dataframe\">\n",
       "  <thead>\n",
       "    <tr style=\"text-align: right;\">\n",
       "      <th></th>\n",
       "      <th>donorID</th>\n",
       "      <th>max</th>\n",
       "      <th>min</th>\n",
       "      <th>mean</th>\n",
       "      <th>sum</th>\n",
       "      <th>count</th>\n",
       "    </tr>\n",
       "  </thead>\n",
       "  <tbody>\n",
       "    <tr>\n",
       "      <th>0</th>\n",
       "      <td>100001</td>\n",
       "      <td>30.00</td>\n",
       "      <td>6.69</td>\n",
       "      <td>14.874167</td>\n",
       "      <td>178.49</td>\n",
       "      <td>12</td>\n",
       "    </tr>\n",
       "    <tr>\n",
       "      <th>1</th>\n",
       "      <td>100002</td>\n",
       "      <td>20.00</td>\n",
       "      <td>20.00</td>\n",
       "      <td>20.000000</td>\n",
       "      <td>20.00</td>\n",
       "      <td>1</td>\n",
       "    </tr>\n",
       "    <tr>\n",
       "      <th>2</th>\n",
       "      <td>100003</td>\n",
       "      <td>5.00</td>\n",
       "      <td>3.00</td>\n",
       "      <td>3.833333</td>\n",
       "      <td>46.00</td>\n",
       "      <td>12</td>\n",
       "    </tr>\n",
       "    <tr>\n",
       "      <th>3</th>\n",
       "      <td>100004</td>\n",
       "      <td>49.58</td>\n",
       "      <td>24.79</td>\n",
       "      <td>27.546923</td>\n",
       "      <td>716.22</td>\n",
       "      <td>26</td>\n",
       "    </tr>\n",
       "    <tr>\n",
       "      <th>4</th>\n",
       "      <td>100005</td>\n",
       "      <td>10.00</td>\n",
       "      <td>2.48</td>\n",
       "      <td>4.992000</td>\n",
       "      <td>24.96</td>\n",
       "      <td>5</td>\n",
       "    </tr>\n",
       "  </tbody>\n",
       "</table>\n",
       "</div>"
      ],
      "text/plain": [
       "   donorID    max    min       mean     sum  count\n",
       "0   100001  30.00   6.69  14.874167  178.49     12\n",
       "1   100002  20.00  20.00  20.000000   20.00      1\n",
       "2   100003   5.00   3.00   3.833333   46.00     12\n",
       "3   100004  49.58  24.79  27.546923  716.22     26\n",
       "4   100005  10.00   2.48   4.992000   24.96      5"
      ]
     },
     "execution_count": 178,
     "metadata": {},
     "output_type": "execute_result"
    }
   ],
   "source": [
    "basetable = gifts_data.groupby([\"donorID\"])[\"amount\"].agg(['max', 'min','mean','sum', 'count']).reset_index()\n",
    "basetable.head()"
   ]
  },
  {
   "cell_type": "code",
   "execution_count": 179,
   "metadata": {},
   "outputs": [],
   "source": [
    "# Latest gift per donor\n",
    "last_gift_data = gifts_data.groupby([\"donorID\"])[\"date\"].max().reset_index()\n",
    "last_gift_data[\"recency_days\"] = reference7662 - last_gift_data[\"date\"]   \n",
    "last_gift_data[\"recency_days\"] = last_gift_data.recency_days.apply(lambda x: x.days)\n",
    "# Add recency to the basetable\n",
    "basetable = pd.merge(basetable, last_gift_data[[\"donorID\", \"recency_days\"]], how=\"left\")"
   ]
  },
  {
   "cell_type": "code",
   "execution_count": 180,
   "metadata": {},
   "outputs": [],
   "source": [
    "reference = dt.datetime(2020, 12, 15)\n",
    "reference1 = dt.datetime(2020, 11, 15)\n",
    "\n",
    "#gifts last month\n",
    "gifts_last_month7662 = gifts_data[(gifts_data[\"date\"] <= reference) & (gifts_data[\"date\"] >= reference1)]\n",
    "\n",
    "last_month7662 = gifts_last_month7662.groupby(\"donorID\")[\"amount\"].mean().reset_index()\n",
    "last_month7662.columns = [\"donorID\", \"last_month_mean\"]\n",
    "\n",
    "basetable = pd.merge(basetable, last_month7662, how='left', on='donorID')"
   ]
  },
  {
   "cell_type": "code",
   "execution_count": 181,
   "metadata": {},
   "outputs": [
    {
     "data": {
      "text/html": [
       "<div>\n",
       "<style scoped>\n",
       "    .dataframe tbody tr th:only-of-type {\n",
       "        vertical-align: middle;\n",
       "    }\n",
       "\n",
       "    .dataframe tbody tr th {\n",
       "        vertical-align: top;\n",
       "    }\n",
       "\n",
       "    .dataframe thead th {\n",
       "        text-align: right;\n",
       "    }\n",
       "</style>\n",
       "<table border=\"1\" class=\"dataframe\">\n",
       "  <thead>\n",
       "    <tr style=\"text-align: right;\">\n",
       "      <th></th>\n",
       "      <th>donorID</th>\n",
       "      <th>max</th>\n",
       "      <th>min</th>\n",
       "      <th>mean</th>\n",
       "      <th>sum</th>\n",
       "      <th>count</th>\n",
       "      <th>recency_days</th>\n",
       "      <th>last_month_mean</th>\n",
       "    </tr>\n",
       "  </thead>\n",
       "  <tbody>\n",
       "    <tr>\n",
       "      <th>0</th>\n",
       "      <td>100001</td>\n",
       "      <td>30.0</td>\n",
       "      <td>6.69</td>\n",
       "      <td>14.874167</td>\n",
       "      <td>178.49</td>\n",
       "      <td>12</td>\n",
       "      <td>3273</td>\n",
       "      <td>NaN</td>\n",
       "    </tr>\n",
       "    <tr>\n",
       "      <th>1</th>\n",
       "      <td>100002</td>\n",
       "      <td>20.0</td>\n",
       "      <td>20.00</td>\n",
       "      <td>20.000000</td>\n",
       "      <td>20.00</td>\n",
       "      <td>1</td>\n",
       "      <td>2166</td>\n",
       "      <td>NaN</td>\n",
       "    </tr>\n",
       "  </tbody>\n",
       "</table>\n",
       "</div>"
      ],
      "text/plain": [
       "   donorID   max    min       mean     sum  count  recency_days  \\\n",
       "0   100001  30.0   6.69  14.874167  178.49     12          3273   \n",
       "1   100002  20.0  20.00  20.000000   20.00      1          2166   \n",
       "\n",
       "   last_month_mean  \n",
       "0              NaN  \n",
       "1              NaN  "
      ]
     },
     "execution_count": 181,
     "metadata": {},
     "output_type": "execute_result"
    }
   ],
   "source": [
    "basetable.head(2)"
   ]
  },
  {
   "cell_type": "code",
   "execution_count": 182,
   "metadata": {},
   "outputs": [],
   "source": [
    "#Number of gifts in this period per donor\n",
    "reference = dt.datetime(2020, 12, 15)\n",
    "reference_y = dt.datetime(2019, 12, 15)\n",
    "\n",
    "#gifts year 1\n",
    "gifts_last_year7662 = gifts_data[(gifts_data[\"date\"] <= reference) & (gifts_data[\"date\"] >= reference_y)]\n",
    "\n",
    "year1_gifts_7662 = gifts_last_year7662.groupby(\"donorID\")[\"amount\"].agg(['mean', 'count']).reset_index()\n",
    "year1_gifts_7662.columns = [\"donorID\", \"year1_mean\", \"year1_count\"]\n",
    "\n",
    "basetable = pd.merge(basetable, year1_gifts_7662, how='left', on='donorID' )"
   ]
  },
  {
   "cell_type": "code",
   "execution_count": 183,
   "metadata": {},
   "outputs": [
    {
     "data": {
      "text/html": [
       "<div>\n",
       "<style scoped>\n",
       "    .dataframe tbody tr th:only-of-type {\n",
       "        vertical-align: middle;\n",
       "    }\n",
       "\n",
       "    .dataframe tbody tr th {\n",
       "        vertical-align: top;\n",
       "    }\n",
       "\n",
       "    .dataframe thead th {\n",
       "        text-align: right;\n",
       "    }\n",
       "</style>\n",
       "<table border=\"1\" class=\"dataframe\">\n",
       "  <thead>\n",
       "    <tr style=\"text-align: right;\">\n",
       "      <th></th>\n",
       "      <th>donorID</th>\n",
       "      <th>max</th>\n",
       "      <th>min</th>\n",
       "      <th>mean</th>\n",
       "      <th>sum</th>\n",
       "      <th>count</th>\n",
       "      <th>recency_days</th>\n",
       "      <th>last_month_mean</th>\n",
       "      <th>year1_mean</th>\n",
       "      <th>year1_count</th>\n",
       "      <th>year2_mean</th>\n",
       "      <th>year2_count</th>\n",
       "    </tr>\n",
       "  </thead>\n",
       "  <tbody>\n",
       "    <tr>\n",
       "      <th>0</th>\n",
       "      <td>100001</td>\n",
       "      <td>30.0</td>\n",
       "      <td>6.69</td>\n",
       "      <td>14.874167</td>\n",
       "      <td>178.49</td>\n",
       "      <td>12</td>\n",
       "      <td>3273</td>\n",
       "      <td>NaN</td>\n",
       "      <td>NaN</td>\n",
       "      <td>NaN</td>\n",
       "      <td>NaN</td>\n",
       "      <td>NaN</td>\n",
       "    </tr>\n",
       "    <tr>\n",
       "      <th>1</th>\n",
       "      <td>100002</td>\n",
       "      <td>20.0</td>\n",
       "      <td>20.00</td>\n",
       "      <td>20.000000</td>\n",
       "      <td>20.00</td>\n",
       "      <td>1</td>\n",
       "      <td>2166</td>\n",
       "      <td>NaN</td>\n",
       "      <td>NaN</td>\n",
       "      <td>NaN</td>\n",
       "      <td>NaN</td>\n",
       "      <td>NaN</td>\n",
       "    </tr>\n",
       "  </tbody>\n",
       "</table>\n",
       "</div>"
      ],
      "text/plain": [
       "   donorID   max    min       mean     sum  count  recency_days  \\\n",
       "0   100001  30.0   6.69  14.874167  178.49     12          3273   \n",
       "1   100002  20.0  20.00  20.000000   20.00      1          2166   \n",
       "\n",
       "   last_month_mean  year1_mean  year1_count  year2_mean  year2_count  \n",
       "0              NaN         NaN          NaN         NaN          NaN  \n",
       "1              NaN         NaN          NaN         NaN          NaN  "
      ]
     },
     "execution_count": 183,
     "metadata": {},
     "output_type": "execute_result"
    }
   ],
   "source": [
    "#Number of gifts in this period per donor\n",
    "reference_y1 = dt.datetime(2019, 12, 15)\n",
    "reference_y2 = dt.datetime(2018, 12, 15)\n",
    "\n",
    "#gifts last month\n",
    "gifts_year2_7662 = gifts_data[(gifts_data[\"date\"] < reference_y1) & (gifts_data[\"date\"] >= reference_y2)]\n",
    "\n",
    "year2_7662  = gifts_year2_7662.groupby(\"donorID\")[\"amount\"].agg(['mean', 'count']).reset_index()\n",
    "year2_7662 .columns = [\"donorID\", \"year2_mean\", \"year2_count\"]\n",
    "\n",
    "basetable = pd.merge(basetable, year2_7662, how='left', on='donorID' )\n",
    "basetable.head(2)"
   ]
  },
  {
   "cell_type": "code",
   "execution_count": 184,
   "metadata": {},
   "outputs": [
    {
     "data": {
      "text/html": [
       "<div>\n",
       "<style scoped>\n",
       "    .dataframe tbody tr th:only-of-type {\n",
       "        vertical-align: middle;\n",
       "    }\n",
       "\n",
       "    .dataframe tbody tr th {\n",
       "        vertical-align: top;\n",
       "    }\n",
       "\n",
       "    .dataframe thead th {\n",
       "        text-align: right;\n",
       "    }\n",
       "</style>\n",
       "<table border=\"1\" class=\"dataframe\">\n",
       "  <thead>\n",
       "    <tr style=\"text-align: right;\">\n",
       "      <th></th>\n",
       "      <th>donorID</th>\n",
       "      <th>max</th>\n",
       "      <th>min</th>\n",
       "      <th>mean</th>\n",
       "      <th>sum</th>\n",
       "      <th>count</th>\n",
       "      <th>recency_days</th>\n",
       "      <th>last_month_mean</th>\n",
       "      <th>year1_mean</th>\n",
       "      <th>year1_count</th>\n",
       "      <th>year2_mean</th>\n",
       "      <th>year2_count</th>\n",
       "      <th>ratio_month_year</th>\n",
       "      <th>ratio_year2year_mean</th>\n",
       "      <th>ratio_year2year_count</th>\n",
       "    </tr>\n",
       "  </thead>\n",
       "  <tbody>\n",
       "    <tr>\n",
       "      <th>0</th>\n",
       "      <td>100001</td>\n",
       "      <td>30.0</td>\n",
       "      <td>6.69</td>\n",
       "      <td>14.874167</td>\n",
       "      <td>178.49</td>\n",
       "      <td>12</td>\n",
       "      <td>3273</td>\n",
       "      <td>NaN</td>\n",
       "      <td>NaN</td>\n",
       "      <td>NaN</td>\n",
       "      <td>NaN</td>\n",
       "      <td>NaN</td>\n",
       "      <td>NaN</td>\n",
       "      <td>NaN</td>\n",
       "      <td>NaN</td>\n",
       "    </tr>\n",
       "    <tr>\n",
       "      <th>1</th>\n",
       "      <td>100002</td>\n",
       "      <td>20.0</td>\n",
       "      <td>20.00</td>\n",
       "      <td>20.000000</td>\n",
       "      <td>20.00</td>\n",
       "      <td>1</td>\n",
       "      <td>2166</td>\n",
       "      <td>NaN</td>\n",
       "      <td>NaN</td>\n",
       "      <td>NaN</td>\n",
       "      <td>NaN</td>\n",
       "      <td>NaN</td>\n",
       "      <td>NaN</td>\n",
       "      <td>NaN</td>\n",
       "      <td>NaN</td>\n",
       "    </tr>\n",
       "  </tbody>\n",
       "</table>\n",
       "</div>"
      ],
      "text/plain": [
       "   donorID   max    min       mean     sum  count  recency_days  \\\n",
       "0   100001  30.0   6.69  14.874167  178.49     12          3273   \n",
       "1   100002  20.0  20.00  20.000000   20.00      1          2166   \n",
       "\n",
       "   last_month_mean  year1_mean  year1_count  year2_mean  year2_count  \\\n",
       "0              NaN         NaN          NaN         NaN          NaN   \n",
       "1              NaN         NaN          NaN         NaN          NaN   \n",
       "\n",
       "   ratio_month_year  ratio_year2year_mean  ratio_year2year_count  \n",
       "0               NaN                   NaN                    NaN  \n",
       "1               NaN                   NaN                    NaN  "
      ]
     },
     "execution_count": 184,
     "metadata": {},
     "output_type": "execute_result"
    }
   ],
   "source": [
    "basetable[\"ratio_month_year\"] = basetable[\"last_month_mean\"] / basetable[\"year1_mean\"]\n",
    "basetable[\"ratio_year2year_mean\"] = basetable[\"year1_mean\"] / basetable[\"year2_mean\"]\n",
    "basetable[\"ratio_year2year_count\"] = basetable[\"year1_count\"] / basetable[\"year2_count\"]\n",
    "basetable.head(2)"
   ]
  },
  {
   "cell_type": "code",
   "execution_count": 185,
   "metadata": {},
   "outputs": [],
   "source": [
    "basetable['segment'] = ''\n",
    "\n",
    "for i in range(len(basetable)):\n",
    "    if (basetable['mean'][i] > 1.5*(gifts_data[\"amount\"].mean())) & (basetable['count'][i]>=5):\n",
    "        basetable['segment'][i] = 'Gold'\n",
    "    elif (basetable['mean'][i] >= (gifts_data[\"amount\"].mean())) & (basetable['count'][i]>=3):\n",
    "        basetable['segment'][i] = 'Silver'\n",
    "    elif (basetable['mean'][i] > 0.5*(gifts_data[\"amount\"].mean())) & (basetable['count'][i]>=3):\n",
    "        basetable['segment'][i] = 'Bronze'\n",
    "    else:\n",
    "        basetable['segment'][i] = 'Regular'"
   ]
  },
  {
   "cell_type": "code",
   "execution_count": 186,
   "metadata": {},
   "outputs": [],
   "source": [
    "donors[\"dateOfBirth\"] = pd.to_datetime(donors[\"dateOfBirth\"])"
   ]
  },
  {
   "cell_type": "code",
   "execution_count": 187,
   "metadata": {},
   "outputs": [
    {
     "data": {
      "text/html": [
       "<div>\n",
       "<style scoped>\n",
       "    .dataframe tbody tr th:only-of-type {\n",
       "        vertical-align: middle;\n",
       "    }\n",
       "\n",
       "    .dataframe tbody tr th {\n",
       "        vertical-align: top;\n",
       "    }\n",
       "\n",
       "    .dataframe thead th {\n",
       "        text-align: right;\n",
       "    }\n",
       "</style>\n",
       "<table border=\"1\" class=\"dataframe\">\n",
       "  <thead>\n",
       "    <tr style=\"text-align: right;\">\n",
       "      <th></th>\n",
       "      <th>donorID</th>\n",
       "      <th>zipcode</th>\n",
       "      <th>province</th>\n",
       "      <th>region</th>\n",
       "      <th>gender</th>\n",
       "      <th>language</th>\n",
       "      <th>dateOfBirth</th>\n",
       "      <th>age_7662</th>\n",
       "    </tr>\n",
       "  </thead>\n",
       "  <tbody>\n",
       "    <tr>\n",
       "      <th>0</th>\n",
       "      <td>100001</td>\n",
       "      <td>1861.0</td>\n",
       "      <td>Flemish Brabant</td>\n",
       "      <td>Flanders</td>\n",
       "      <td>F</td>\n",
       "      <td>NL</td>\n",
       "      <td>1967-12-24</td>\n",
       "      <td>53.0</td>\n",
       "    </tr>\n",
       "    <tr>\n",
       "      <th>1</th>\n",
       "      <td>100002</td>\n",
       "      <td>2260.0</td>\n",
       "      <td>Antwerp</td>\n",
       "      <td>Flanders</td>\n",
       "      <td>M</td>\n",
       "      <td>NL</td>\n",
       "      <td>1952-01-14</td>\n",
       "      <td>69.0</td>\n",
       "    </tr>\n",
       "  </tbody>\n",
       "</table>\n",
       "</div>"
      ],
      "text/plain": [
       "   donorID  zipcode         province    region gender language dateOfBirth  \\\n",
       "0   100001   1861.0  Flemish Brabant  Flanders      F       NL  1967-12-24   \n",
       "1   100002   2260.0          Antwerp  Flanders      M       NL  1952-01-14   \n",
       "\n",
       "   age_7662  \n",
       "0      53.0  \n",
       "1      69.0  "
      ]
     },
     "execution_count": 187,
     "metadata": {},
     "output_type": "execute_result"
    }
   ],
   "source": [
    "#calculate age training basetable\n",
    "donors['age_7662'] = (reference7662 - donors['dateOfBirth'])\n",
    "donors['age_7662'] = donors.age_7662.apply(lambda x: x.days)\n",
    "donors['age_7662'] = round((donors['age_7662']/365),1)\n",
    "donors.head(2)"
   ]
  },
  {
   "cell_type": "code",
   "execution_count": 188,
   "metadata": {},
   "outputs": [
    {
     "data": {
      "text/html": [
       "<div>\n",
       "<style scoped>\n",
       "    .dataframe tbody tr th:only-of-type {\n",
       "        vertical-align: middle;\n",
       "    }\n",
       "\n",
       "    .dataframe tbody tr th {\n",
       "        vertical-align: top;\n",
       "    }\n",
       "\n",
       "    .dataframe thead th {\n",
       "        text-align: right;\n",
       "    }\n",
       "</style>\n",
       "<table border=\"1\" class=\"dataframe\">\n",
       "  <thead>\n",
       "    <tr style=\"text-align: right;\">\n",
       "      <th></th>\n",
       "      <th>donorID</th>\n",
       "      <th>max</th>\n",
       "      <th>min</th>\n",
       "      <th>mean</th>\n",
       "      <th>sum</th>\n",
       "      <th>count</th>\n",
       "      <th>recency_days</th>\n",
       "      <th>last_month_mean</th>\n",
       "      <th>year1_mean</th>\n",
       "      <th>year1_count</th>\n",
       "      <th>year2_mean</th>\n",
       "      <th>year2_count</th>\n",
       "      <th>ratio_month_year</th>\n",
       "      <th>ratio_year2year_mean</th>\n",
       "      <th>ratio_year2year_count</th>\n",
       "      <th>segment</th>\n",
       "      <th>age_7662</th>\n",
       "      <th>gender</th>\n",
       "      <th>province</th>\n",
       "      <th>language</th>\n",
       "    </tr>\n",
       "  </thead>\n",
       "  <tbody>\n",
       "    <tr>\n",
       "      <th>0</th>\n",
       "      <td>100001</td>\n",
       "      <td>30.0</td>\n",
       "      <td>6.69</td>\n",
       "      <td>14.874167</td>\n",
       "      <td>178.49</td>\n",
       "      <td>12</td>\n",
       "      <td>3273</td>\n",
       "      <td>NaN</td>\n",
       "      <td>NaN</td>\n",
       "      <td>NaN</td>\n",
       "      <td>NaN</td>\n",
       "      <td>NaN</td>\n",
       "      <td>NaN</td>\n",
       "      <td>NaN</td>\n",
       "      <td>NaN</td>\n",
       "      <td>Regular</td>\n",
       "      <td>53.0</td>\n",
       "      <td>F</td>\n",
       "      <td>Flemish Brabant</td>\n",
       "      <td>NL</td>\n",
       "    </tr>\n",
       "    <tr>\n",
       "      <th>1</th>\n",
       "      <td>100002</td>\n",
       "      <td>20.0</td>\n",
       "      <td>20.00</td>\n",
       "      <td>20.000000</td>\n",
       "      <td>20.00</td>\n",
       "      <td>1</td>\n",
       "      <td>2166</td>\n",
       "      <td>NaN</td>\n",
       "      <td>NaN</td>\n",
       "      <td>NaN</td>\n",
       "      <td>NaN</td>\n",
       "      <td>NaN</td>\n",
       "      <td>NaN</td>\n",
       "      <td>NaN</td>\n",
       "      <td>NaN</td>\n",
       "      <td>Regular</td>\n",
       "      <td>69.0</td>\n",
       "      <td>M</td>\n",
       "      <td>Antwerp</td>\n",
       "      <td>NL</td>\n",
       "    </tr>\n",
       "  </tbody>\n",
       "</table>\n",
       "</div>"
      ],
      "text/plain": [
       "   donorID   max    min       mean     sum  count  recency_days  \\\n",
       "0   100001  30.0   6.69  14.874167  178.49     12          3273   \n",
       "1   100002  20.0  20.00  20.000000   20.00      1          2166   \n",
       "\n",
       "   last_month_mean  year1_mean  year1_count  year2_mean  year2_count  \\\n",
       "0              NaN         NaN          NaN         NaN          NaN   \n",
       "1              NaN         NaN          NaN         NaN          NaN   \n",
       "\n",
       "   ratio_month_year  ratio_year2year_mean  ratio_year2year_count  segment  \\\n",
       "0               NaN                   NaN                    NaN  Regular   \n",
       "1               NaN                   NaN                    NaN  Regular   \n",
       "\n",
       "   age_7662 gender         province language  \n",
       "0      53.0      F  Flemish Brabant       NL  \n",
       "1      69.0      M          Antwerp       NL  "
      ]
     },
     "execution_count": 188,
     "metadata": {},
     "output_type": "execute_result"
    }
   ],
   "source": [
    "basetable = pd.merge(basetable,donors[[\"donorID\",\"age_7662\",\"gender\",\"province\", \"language\"]], on = \"donorID\", how = \"left\")\n",
    "\n",
    "basetable.head(2)"
   ]
  },
  {
   "cell_type": "markdown",
   "metadata": {},
   "source": [
    "#### Merge basetable with campaign 7662"
   ]
  },
  {
   "cell_type": "code",
   "execution_count": 189,
   "metadata": {},
   "outputs": [
    {
     "name": "stdout",
     "output_type": "stream",
     "text": [
      "26522\n"
     ]
    },
    {
     "data": {
      "text/html": [
       "<div>\n",
       "<style scoped>\n",
       "    .dataframe tbody tr th:only-of-type {\n",
       "        vertical-align: middle;\n",
       "    }\n",
       "\n",
       "    .dataframe tbody tr th {\n",
       "        vertical-align: top;\n",
       "    }\n",
       "\n",
       "    .dataframe thead th {\n",
       "        text-align: right;\n",
       "    }\n",
       "</style>\n",
       "<table border=\"1\" class=\"dataframe\">\n",
       "  <thead>\n",
       "    <tr style=\"text-align: right;\">\n",
       "      <th></th>\n",
       "      <th>donorID</th>\n",
       "      <th>max</th>\n",
       "      <th>min</th>\n",
       "      <th>mean</th>\n",
       "      <th>sum</th>\n",
       "      <th>count</th>\n",
       "      <th>recency_days</th>\n",
       "      <th>last_month_mean</th>\n",
       "      <th>year1_mean</th>\n",
       "      <th>year1_count</th>\n",
       "      <th>year2_mean</th>\n",
       "      <th>year2_count</th>\n",
       "      <th>ratio_month_year</th>\n",
       "      <th>ratio_year2year_mean</th>\n",
       "      <th>ratio_year2year_count</th>\n",
       "      <th>segment</th>\n",
       "      <th>age_7662</th>\n",
       "      <th>gender</th>\n",
       "      <th>province</th>\n",
       "      <th>language</th>\n",
       "    </tr>\n",
       "  </thead>\n",
       "  <tbody>\n",
       "    <tr>\n",
       "      <th>0</th>\n",
       "      <td>134242</td>\n",
       "      <td>20.0</td>\n",
       "      <td>10.0</td>\n",
       "      <td>15.0</td>\n",
       "      <td>30.0</td>\n",
       "      <td>2.0</td>\n",
       "      <td>2573.0</td>\n",
       "      <td>NaN</td>\n",
       "      <td>NaN</td>\n",
       "      <td>NaN</td>\n",
       "      <td>NaN</td>\n",
       "      <td>NaN</td>\n",
       "      <td>NaN</td>\n",
       "      <td>NaN</td>\n",
       "      <td>NaN</td>\n",
       "      <td>Regular</td>\n",
       "      <td>54.3</td>\n",
       "      <td>M</td>\n",
       "      <td>Limburg</td>\n",
       "      <td>NL</td>\n",
       "    </tr>\n",
       "    <tr>\n",
       "      <th>1</th>\n",
       "      <td>126503</td>\n",
       "      <td>50.0</td>\n",
       "      <td>50.0</td>\n",
       "      <td>50.0</td>\n",
       "      <td>50.0</td>\n",
       "      <td>1.0</td>\n",
       "      <td>2179.0</td>\n",
       "      <td>NaN</td>\n",
       "      <td>NaN</td>\n",
       "      <td>NaN</td>\n",
       "      <td>NaN</td>\n",
       "      <td>NaN</td>\n",
       "      <td>NaN</td>\n",
       "      <td>NaN</td>\n",
       "      <td>NaN</td>\n",
       "      <td>Regular</td>\n",
       "      <td>71.2</td>\n",
       "      <td>M</td>\n",
       "      <td>Liege</td>\n",
       "      <td>FR</td>\n",
       "    </tr>\n",
       "  </tbody>\n",
       "</table>\n",
       "</div>"
      ],
      "text/plain": [
       "   donorID   max   min  mean   sum  count  recency_days  last_month_mean  \\\n",
       "0   134242  20.0  10.0  15.0  30.0    2.0        2573.0              NaN   \n",
       "1   126503  50.0  50.0  50.0  50.0    1.0        2179.0              NaN   \n",
       "\n",
       "   year1_mean  year1_count  year2_mean  year2_count  ratio_month_year  \\\n",
       "0         NaN          NaN         NaN          NaN               NaN   \n",
       "1         NaN          NaN         NaN          NaN               NaN   \n",
       "\n",
       "   ratio_year2year_mean  ratio_year2year_count  segment  age_7662 gender  \\\n",
       "0                   NaN                    NaN  Regular      54.3      M   \n",
       "1                   NaN                    NaN  Regular      71.2      M   \n",
       "\n",
       "  province language  \n",
       "0  Limburg       NL  \n",
       "1    Liege       FR  "
      ]
     },
     "execution_count": 189,
     "metadata": {},
     "output_type": "execute_result"
    }
   ],
   "source": [
    "basetable = pd.merge(campaigns_7662, basetable, on = \"donorID\", how = \"left\")\n",
    "print(len(basetable))\n",
    "basetable.head(2)"
   ]
  },
  {
   "cell_type": "markdown",
   "metadata": {},
   "source": [
    "### Create dummy variable"
   ]
  },
  {
   "cell_type": "code",
   "execution_count": 191,
   "metadata": {},
   "outputs": [
    {
     "data": {
      "text/html": [
       "<div>\n",
       "<style scoped>\n",
       "    .dataframe tbody tr th:only-of-type {\n",
       "        vertical-align: middle;\n",
       "    }\n",
       "\n",
       "    .dataframe tbody tr th {\n",
       "        vertical-align: top;\n",
       "    }\n",
       "\n",
       "    .dataframe thead th {\n",
       "        text-align: right;\n",
       "    }\n",
       "</style>\n",
       "<table border=\"1\" class=\"dataframe\">\n",
       "  <thead>\n",
       "    <tr style=\"text-align: right;\">\n",
       "      <th></th>\n",
       "      <th>Brussels</th>\n",
       "      <th>East Flanders</th>\n",
       "      <th>Flemish Brabant</th>\n",
       "      <th>Hainaut</th>\n",
       "      <th>Liege</th>\n",
       "      <th>Limburg</th>\n",
       "      <th>Luxembourg</th>\n",
       "      <th>Namur</th>\n",
       "      <th>Walloon Brabant</th>\n",
       "      <th>West Flanders</th>\n",
       "    </tr>\n",
       "  </thead>\n",
       "  <tbody>\n",
       "    <tr>\n",
       "      <th>0</th>\n",
       "      <td>0</td>\n",
       "      <td>0</td>\n",
       "      <td>0</td>\n",
       "      <td>0</td>\n",
       "      <td>0</td>\n",
       "      <td>1</td>\n",
       "      <td>0</td>\n",
       "      <td>0</td>\n",
       "      <td>0</td>\n",
       "      <td>0</td>\n",
       "    </tr>\n",
       "    <tr>\n",
       "      <th>1</th>\n",
       "      <td>0</td>\n",
       "      <td>0</td>\n",
       "      <td>0</td>\n",
       "      <td>0</td>\n",
       "      <td>1</td>\n",
       "      <td>0</td>\n",
       "      <td>0</td>\n",
       "      <td>0</td>\n",
       "      <td>0</td>\n",
       "      <td>0</td>\n",
       "    </tr>\n",
       "    <tr>\n",
       "      <th>2</th>\n",
       "      <td>0</td>\n",
       "      <td>0</td>\n",
       "      <td>0</td>\n",
       "      <td>0</td>\n",
       "      <td>1</td>\n",
       "      <td>0</td>\n",
       "      <td>0</td>\n",
       "      <td>0</td>\n",
       "      <td>0</td>\n",
       "      <td>0</td>\n",
       "    </tr>\n",
       "    <tr>\n",
       "      <th>3</th>\n",
       "      <td>0</td>\n",
       "      <td>0</td>\n",
       "      <td>0</td>\n",
       "      <td>0</td>\n",
       "      <td>0</td>\n",
       "      <td>0</td>\n",
       "      <td>0</td>\n",
       "      <td>0</td>\n",
       "      <td>0</td>\n",
       "      <td>1</td>\n",
       "    </tr>\n",
       "    <tr>\n",
       "      <th>4</th>\n",
       "      <td>0</td>\n",
       "      <td>0</td>\n",
       "      <td>0</td>\n",
       "      <td>0</td>\n",
       "      <td>0</td>\n",
       "      <td>0</td>\n",
       "      <td>0</td>\n",
       "      <td>0</td>\n",
       "      <td>0</td>\n",
       "      <td>1</td>\n",
       "    </tr>\n",
       "  </tbody>\n",
       "</table>\n",
       "</div>"
      ],
      "text/plain": [
       "   Brussels  East Flanders  Flemish Brabant  Hainaut  Liege  Limburg  \\\n",
       "0         0              0                0        0      0        1   \n",
       "1         0              0                0        0      1        0   \n",
       "2         0              0                0        0      1        0   \n",
       "3         0              0                0        0      0        0   \n",
       "4         0              0                0        0      0        0   \n",
       "\n",
       "   Luxembourg  Namur  Walloon Brabant  West Flanders  \n",
       "0           0      0                0              0  \n",
       "1           0      0                0              0  \n",
       "2           0      0                0              0  \n",
       "3           0      0                0              1  \n",
       "4           0      0                0              1  "
      ]
     },
     "execution_count": 191,
     "metadata": {},
     "output_type": "execute_result"
    }
   ],
   "source": [
    "#Dummy variables for region\n",
    "dummies_province = pd.get_dummies(basetable[\"province\"], drop_first=True)\n",
    "dummies_province.head()"
   ]
  },
  {
   "cell_type": "code",
   "execution_count": 192,
   "metadata": {},
   "outputs": [],
   "source": [
    "#Change dummy variable name\n",
    "dummies_province.columns = ['prov_Br', 'prov_EaF', 'prov_FB', 'prov_Ha', 'prov_Liege', 'prov_Lim', 'prov_Lux','prov_Namur','prov_WaB', 'prov_WeF']\n",
    "# Add the dummy variable to the basetable\n",
    "basetable = pd.concat([basetable, dummies_province], axis=1)\n",
    "# Delete the original variable from the basetable\n",
    "del basetable[\"province\"]"
   ]
  },
  {
   "cell_type": "code",
   "execution_count": 193,
   "metadata": {},
   "outputs": [
    {
     "data": {
      "text/plain": [
       "5"
      ]
     },
     "execution_count": 193,
     "metadata": {},
     "output_type": "execute_result"
    }
   ],
   "source": [
    "basetable.language.isna().sum()"
   ]
  },
  {
   "cell_type": "code",
   "execution_count": 194,
   "metadata": {},
   "outputs": [
    {
     "data": {
      "text/html": [
       "<div>\n",
       "<style scoped>\n",
       "    .dataframe tbody tr th:only-of-type {\n",
       "        vertical-align: middle;\n",
       "    }\n",
       "\n",
       "    .dataframe tbody tr th {\n",
       "        vertical-align: top;\n",
       "    }\n",
       "\n",
       "    .dataframe thead th {\n",
       "        text-align: right;\n",
       "    }\n",
       "</style>\n",
       "<table border=\"1\" class=\"dataframe\">\n",
       "  <thead>\n",
       "    <tr style=\"text-align: right;\">\n",
       "      <th></th>\n",
       "      <th>FR</th>\n",
       "      <th>NL</th>\n",
       "      <th>NaN</th>\n",
       "    </tr>\n",
       "  </thead>\n",
       "  <tbody>\n",
       "    <tr>\n",
       "      <th>0</th>\n",
       "      <td>0</td>\n",
       "      <td>1</td>\n",
       "      <td>0</td>\n",
       "    </tr>\n",
       "    <tr>\n",
       "      <th>1</th>\n",
       "      <td>1</td>\n",
       "      <td>0</td>\n",
       "      <td>0</td>\n",
       "    </tr>\n",
       "    <tr>\n",
       "      <th>2</th>\n",
       "      <td>1</td>\n",
       "      <td>0</td>\n",
       "      <td>0</td>\n",
       "    </tr>\n",
       "    <tr>\n",
       "      <th>3</th>\n",
       "      <td>0</td>\n",
       "      <td>1</td>\n",
       "      <td>0</td>\n",
       "    </tr>\n",
       "    <tr>\n",
       "      <th>4</th>\n",
       "      <td>0</td>\n",
       "      <td>1</td>\n",
       "      <td>0</td>\n",
       "    </tr>\n",
       "  </tbody>\n",
       "</table>\n",
       "</div>"
      ],
      "text/plain": [
       "   FR  NL  NaN\n",
       "0   0   1    0\n",
       "1   1   0    0\n",
       "2   1   0    0\n",
       "3   0   1    0\n",
       "4   0   1    0"
      ]
     },
     "execution_count": 194,
     "metadata": {},
     "output_type": "execute_result"
    }
   ],
   "source": [
    "#Dummy variables for language\n",
    "dummies_language = pd.get_dummies(basetable[\"language\"], drop_first=True, dummy_na=True)\n",
    "dummies_language.head()"
   ]
  },
  {
   "cell_type": "code",
   "execution_count": 195,
   "metadata": {},
   "outputs": [],
   "source": [
    "#Change dummy variable name\n",
    "dummies_language.columns = ['language_x', 'language_y', 'language_NaN']\n",
    "# Add the dummy variable to the basetable\n",
    "basetable = pd.concat([basetable, dummies_language], axis=1)\n",
    "# Delete the original variable from the basetable\n",
    "del basetable[\"language\"]"
   ]
  },
  {
   "cell_type": "code",
   "execution_count": 196,
   "metadata": {},
   "outputs": [
    {
     "data": {
      "text/html": [
       "<div>\n",
       "<style scoped>\n",
       "    .dataframe tbody tr th:only-of-type {\n",
       "        vertical-align: middle;\n",
       "    }\n",
       "\n",
       "    .dataframe tbody tr th {\n",
       "        vertical-align: top;\n",
       "    }\n",
       "\n",
       "    .dataframe thead th {\n",
       "        text-align: right;\n",
       "    }\n",
       "</style>\n",
       "<table border=\"1\" class=\"dataframe\">\n",
       "  <thead>\n",
       "    <tr style=\"text-align: right;\">\n",
       "      <th></th>\n",
       "      <th>Gold</th>\n",
       "      <th>Regular</th>\n",
       "      <th>Silver</th>\n",
       "    </tr>\n",
       "  </thead>\n",
       "  <tbody>\n",
       "    <tr>\n",
       "      <th>0</th>\n",
       "      <td>0</td>\n",
       "      <td>1</td>\n",
       "      <td>0</td>\n",
       "    </tr>\n",
       "    <tr>\n",
       "      <th>1</th>\n",
       "      <td>0</td>\n",
       "      <td>1</td>\n",
       "      <td>0</td>\n",
       "    </tr>\n",
       "    <tr>\n",
       "      <th>2</th>\n",
       "      <td>0</td>\n",
       "      <td>1</td>\n",
       "      <td>0</td>\n",
       "    </tr>\n",
       "    <tr>\n",
       "      <th>3</th>\n",
       "      <td>0</td>\n",
       "      <td>0</td>\n",
       "      <td>1</td>\n",
       "    </tr>\n",
       "    <tr>\n",
       "      <th>4</th>\n",
       "      <td>0</td>\n",
       "      <td>1</td>\n",
       "      <td>0</td>\n",
       "    </tr>\n",
       "  </tbody>\n",
       "</table>\n",
       "</div>"
      ],
      "text/plain": [
       "   Gold  Regular  Silver\n",
       "0     0        1       0\n",
       "1     0        1       0\n",
       "2     0        1       0\n",
       "3     0        0       1\n",
       "4     0        1       0"
      ]
     },
     "execution_count": 196,
     "metadata": {},
     "output_type": "execute_result"
    }
   ],
   "source": [
    "#Dummy variables for segment\n",
    "dummies_segment = pd.get_dummies(basetable[\"segment\"], drop_first=True)\n",
    "dummies_segment.head()"
   ]
  },
  {
   "cell_type": "code",
   "execution_count": 197,
   "metadata": {},
   "outputs": [],
   "source": [
    "#Change dummy variable name\n",
    "dummies_segment.columns = ['segment_x', 'segment_y', 'segment_z']\n",
    "# Add the dummy variable to the basetable\n",
    "basetable = pd.concat([basetable, dummies_segment], axis=1)\n",
    "# Delete the original variable from the basetable\n",
    "del basetable[\"segment\"]"
   ]
  },
  {
   "cell_type": "code",
   "execution_count": 198,
   "metadata": {},
   "outputs": [
    {
     "data": {
      "text/html": [
       "<div>\n",
       "<style scoped>\n",
       "    .dataframe tbody tr th:only-of-type {\n",
       "        vertical-align: middle;\n",
       "    }\n",
       "\n",
       "    .dataframe tbody tr th {\n",
       "        vertical-align: top;\n",
       "    }\n",
       "\n",
       "    .dataframe thead th {\n",
       "        text-align: right;\n",
       "    }\n",
       "</style>\n",
       "<table border=\"1\" class=\"dataframe\">\n",
       "  <thead>\n",
       "    <tr style=\"text-align: right;\">\n",
       "      <th></th>\n",
       "      <th>M</th>\n",
       "      <th>NaN</th>\n",
       "    </tr>\n",
       "  </thead>\n",
       "  <tbody>\n",
       "    <tr>\n",
       "      <th>0</th>\n",
       "      <td>1</td>\n",
       "      <td>0</td>\n",
       "    </tr>\n",
       "    <tr>\n",
       "      <th>1</th>\n",
       "      <td>1</td>\n",
       "      <td>0</td>\n",
       "    </tr>\n",
       "    <tr>\n",
       "      <th>2</th>\n",
       "      <td>0</td>\n",
       "      <td>0</td>\n",
       "    </tr>\n",
       "    <tr>\n",
       "      <th>3</th>\n",
       "      <td>1</td>\n",
       "      <td>0</td>\n",
       "    </tr>\n",
       "    <tr>\n",
       "      <th>4</th>\n",
       "      <td>1</td>\n",
       "      <td>0</td>\n",
       "    </tr>\n",
       "  </tbody>\n",
       "</table>\n",
       "</div>"
      ],
      "text/plain": [
       "   M  NaN\n",
       "0  1    0\n",
       "1  1    0\n",
       "2  0    0\n",
       "3  1    0\n",
       "4  1    0"
      ]
     },
     "execution_count": 198,
     "metadata": {},
     "output_type": "execute_result"
    }
   ],
   "source": [
    "# Create the dummy variable gender\n",
    "dummies_gender = pd.get_dummies(basetable[\"gender\"], drop_first=True, dummy_na=True)\n",
    "dummies_gender.head()"
   ]
  },
  {
   "cell_type": "code",
   "execution_count": 199,
   "metadata": {},
   "outputs": [],
   "source": [
    "#Change dummy variable name\n",
    "dummies_gender.columns = ['gender_x', 'gender_y']\n",
    "# Add the dummy variable to the basetable\n",
    "basetable = pd.concat([basetable, dummies_gender], axis=1)\n",
    "# Delete the original variable from the basetable\n",
    "del basetable[\"gender\"]"
   ]
  },
  {
   "cell_type": "markdown",
   "metadata": {},
   "source": [
    "### Replace missing values"
   ]
  },
  {
   "cell_type": "code",
   "execution_count": 200,
   "metadata": {},
   "outputs": [],
   "source": [
    "#replace missing values by 0\n",
    "\n",
    "basetable[\"last_month_mean\"] = basetable[\"last_month_mean\"].replace(np.nan, 0)\n",
    "basetable[\"count\"] = basetable[\"count\"].replace(np.nan, 0)\n",
    "basetable[\"year1_mean\"] = basetable[\"year1_mean\"].replace(np.nan, 0)\n",
    "basetable[\"year1_count\"] = basetable[\"year1_count\"].replace(np.nan, 0)\n",
    "basetable[\"year2_mean\"] = basetable[\"year2_mean\"].replace(np.nan, 0)\n",
    "basetable[\"year2_count\"] = basetable[\"year2_count\"].replace(np.nan, 0)\n",
    "basetable[\"ratio_month_year\"] = basetable[\"ratio_month_year\"].replace(np.nan, 0)\n",
    "basetable[\"ratio_year2year_mean\"] = basetable[\"ratio_year2year_mean\"].replace(np.nan, 0)\n",
    "basetable[\"ratio_year2year_count\"] = basetable[\"ratio_year2year_count\"].replace(np.nan, 0)"
   ]
  },
  {
   "cell_type": "code",
   "execution_count": 201,
   "metadata": {},
   "outputs": [
    {
     "data": {
      "text/plain": [
       "5"
      ]
     },
     "execution_count": 201,
     "metadata": {},
     "output_type": "execute_result"
    }
   ],
   "source": [
    "basetable['age_7662'].isna().sum()"
   ]
  },
  {
   "cell_type": "code",
   "execution_count": 202,
   "metadata": {},
   "outputs": [],
   "source": [
    "basetable['age_NaN'] = basetable['age_7662'].isna()*1"
   ]
  },
  {
   "cell_type": "code",
   "execution_count": 203,
   "metadata": {},
   "outputs": [
    {
     "data": {
      "text/plain": [
       "5"
      ]
     },
     "execution_count": 203,
     "metadata": {},
     "output_type": "execute_result"
    }
   ],
   "source": [
    "basetable['age_NaN'].sum()"
   ]
  },
  {
   "cell_type": "code",
   "execution_count": 204,
   "metadata": {},
   "outputs": [],
   "source": [
    "basetable[\"age_7662\"] = basetable[\"age_7662\"].replace(np.nan, basetable[\"age_7662\"].median())"
   ]
  },
  {
   "cell_type": "code",
   "execution_count": 205,
   "metadata": {},
   "outputs": [
    {
     "data": {
      "text/plain": [
       "0"
      ]
     },
     "execution_count": 205,
     "metadata": {},
     "output_type": "execute_result"
    }
   ],
   "source": [
    "basetable['age_7662'].isna().sum()"
   ]
  },
  {
   "cell_type": "code",
   "execution_count": 206,
   "metadata": {},
   "outputs": [
    {
     "data": {
      "text/plain": [
       "3"
      ]
     },
     "execution_count": 206,
     "metadata": {},
     "output_type": "execute_result"
    }
   ],
   "source": [
    "basetable[\"recency_days\"].isna().sum()"
   ]
  },
  {
   "cell_type": "code",
   "execution_count": 207,
   "metadata": {},
   "outputs": [],
   "source": [
    "basetable[\"recency_days_NaN\"] = basetable['recency_days'].isna()*1"
   ]
  },
  {
   "cell_type": "code",
   "execution_count": 208,
   "metadata": {},
   "outputs": [
    {
     "data": {
      "text/plain": [
       "3"
      ]
     },
     "execution_count": 208,
     "metadata": {},
     "output_type": "execute_result"
    }
   ],
   "source": [
    "basetable[\"recency_days_NaN\"].sum()"
   ]
  },
  {
   "cell_type": "code",
   "execution_count": 209,
   "metadata": {},
   "outputs": [],
   "source": [
    "basetable[\"recency_days\"] = basetable[\"recency_days\"].replace(np.nan, basetable[\"recency_days\"].median())"
   ]
  },
  {
   "cell_type": "code",
   "execution_count": 210,
   "metadata": {},
   "outputs": [
    {
     "data": {
      "text/plain": [
       "0"
      ]
     },
     "execution_count": 210,
     "metadata": {},
     "output_type": "execute_result"
    }
   ],
   "source": [
    "basetable[\"recency_days\"].isna().sum()"
   ]
  },
  {
   "cell_type": "markdown",
   "metadata": {},
   "source": [
    "### Dealing with outliers"
   ]
  },
  {
   "cell_type": "code",
   "execution_count": 211,
   "metadata": {},
   "outputs": [
    {
     "name": "stdout",
     "output_type": "stream",
     "text": [
      "128.4\n",
      "22.5\n"
     ]
    }
   ],
   "source": [
    "# Show the maximum age \n",
    "\n",
    "print(basetable[\"age_7662\"].max())\n",
    "print(basetable[\"age_7662\"].min())"
   ]
  },
  {
   "cell_type": "code",
   "execution_count": 212,
   "metadata": {},
   "outputs": [
    {
     "name": "stdout",
     "output_type": "stream",
     "text": [
      "100.5428065184908\n"
     ]
    }
   ],
   "source": [
    "#Dealing with outliers in the variable age\n",
    "\n",
    "# Calculate mean and standard deviation of age\n",
    "mean_age7662 = basetable[\"age_7662\"].mean()\n",
    "std_age7662 = basetable[\"age_7662\"].std()\n",
    "\n",
    "# Calculate the lower and upper limits\n",
    "lower_limit7662 = mean_age7662 - std_age7662 * 3\n",
    "upper_limit7662 = mean_age7662 + std_age7662 * 3\n",
    "\n",
    "# Add a variable age_no_outliers to the basetable with outliers replaced\n",
    "basetable[\"age_no_outliers\"] = (pd.Series([min(max(a, lower_limit7662), upper_limit7662) \n",
    "                             for a in basetable[\"age_7662\"]]))\n",
    "print(basetable[\"age_no_outliers\"].max())"
   ]
  },
  {
   "cell_type": "code",
   "execution_count": 213,
   "metadata": {},
   "outputs": [],
   "source": [
    "#delete previous columns age\n",
    "del basetable[\"age_7662\"]"
   ]
  },
  {
   "cell_type": "code",
   "execution_count": 214,
   "metadata": {},
   "outputs": [
    {
     "name": "stdout",
     "output_type": "stream",
     "text": [
      "0.6211764705882361\n",
      "2479000.0\n"
     ]
    }
   ],
   "source": [
    "# Check minimum mean of donations\n",
    "print(basetable[\"mean\"].min())\n",
    "print(basetable[\"mean\"].max())"
   ]
  },
  {
   "cell_type": "code",
   "execution_count": 215,
   "metadata": {},
   "outputs": [
    {
     "name": "stdout",
     "output_type": "stream",
     "text": [
      "123.95\n"
     ]
    }
   ],
   "source": [
    "# Fill out the lower limit\n",
    "lower_limit7662 = 0.0\n",
    "\n",
    "# Winsorize the variable sum_donations\n",
    "basetable[\"mean\"] = winsorize(basetable[\"mean\"], limits=[lower_limit7662, 0.01])\n",
    "\n",
    "# Check maximum sum of donations after winsorization\n",
    "print(basetable[\"mean\"].max())"
   ]
  },
  {
   "cell_type": "code",
   "execution_count": 216,
   "metadata": {},
   "outputs": [
    {
     "name": "stdout",
     "output_type": "stream",
     "text": [
      "5.0\n",
      "4000030.0\n"
     ]
    }
   ],
   "source": [
    "# Check minimum mean of donations\n",
    "print(basetable[\"sum\"].min())\n",
    "print(basetable[\"sum\"].max())"
   ]
  },
  {
   "cell_type": "code",
   "execution_count": 217,
   "metadata": {},
   "outputs": [
    {
     "name": "stdout",
     "output_type": "stream",
     "text": [
      "1139.8\n"
     ]
    }
   ],
   "source": [
    "# Fill out the lower limit\n",
    "lower_limit7662 = 0.0\n",
    "\n",
    "# Winsorize the variable sum_donations\n",
    "basetable[\"sum\"] = winsorize(basetable[\"sum\"], limits=[lower_limit7662, 0.01])\n",
    "\n",
    "# Check maximum sum of donations after winsorization\n",
    "print(basetable[\"sum\"].max())"
   ]
  },
  {
   "cell_type": "code",
   "execution_count": 218,
   "metadata": {},
   "outputs": [
    {
     "name": "stdout",
     "output_type": "stream",
     "text": [
      "0.1\n",
      "2479000.0\n"
     ]
    }
   ],
   "source": [
    "# Check minimum mean of donations\n",
    "print(basetable[\"min\"].min())\n",
    "print(basetable[\"min\"].max())"
   ]
  },
  {
   "cell_type": "code",
   "execution_count": 219,
   "metadata": {},
   "outputs": [
    {
     "name": "stdout",
     "output_type": "stream",
     "text": [
      "100.0\n"
     ]
    }
   ],
   "source": [
    "# Fill out the lower limit\n",
    "lower_limit7662 = 0.0\n",
    "\n",
    "# Winsorize the variable sum_donations\n",
    "basetable[\"min\"] = winsorize(basetable[\"min\"], limits=[lower_limit7662, 0.01])\n",
    "\n",
    "# Check maximum sum of donations after winsorization\n",
    "print(basetable[\"min\"].max())"
   ]
  },
  {
   "cell_type": "code",
   "execution_count": 220,
   "metadata": {},
   "outputs": [
    {
     "name": "stdout",
     "output_type": "stream",
     "text": [
      "5.0\n",
      "4000000.0\n"
     ]
    }
   ],
   "source": [
    "# Check minimum mean of donations\n",
    "print(basetable[\"max\"].min())\n",
    "print(basetable[\"max\"].max())"
   ]
  },
  {
   "cell_type": "code",
   "execution_count": 221,
   "metadata": {},
   "outputs": [
    {
     "name": "stdout",
     "output_type": "stream",
     "text": [
      "200.0\n"
     ]
    }
   ],
   "source": [
    "# Fill out the lower limit\n",
    "lower_limit7662 = 0.0\n",
    "\n",
    "# Winsorize the variable sum_donations\n",
    "basetable[\"max\"] = winsorize(basetable[\"max\"], limits=[lower_limit7662, 0.01])\n",
    "\n",
    "# Check maximum sum of donations after winsorization\n",
    "print(basetable[\"max\"].max())"
   ]
  },
  {
   "cell_type": "code",
   "execution_count": 222,
   "metadata": {},
   "outputs": [
    {
     "data": {
      "text/plain": [
       "0"
      ]
     },
     "execution_count": 222,
     "metadata": {},
     "output_type": "execute_result"
    }
   ],
   "source": [
    "basetable.isna().sum().sum()"
   ]
  },
  {
   "cell_type": "code",
   "execution_count": 223,
   "metadata": {},
   "outputs": [
    {
     "data": {
      "text/html": [
       "<div>\n",
       "<style scoped>\n",
       "    .dataframe tbody tr th:only-of-type {\n",
       "        vertical-align: middle;\n",
       "    }\n",
       "\n",
       "    .dataframe tbody tr th {\n",
       "        vertical-align: top;\n",
       "    }\n",
       "\n",
       "    .dataframe thead th {\n",
       "        text-align: right;\n",
       "    }\n",
       "</style>\n",
       "<table border=\"1\" class=\"dataframe\">\n",
       "  <thead>\n",
       "    <tr style=\"text-align: right;\">\n",
       "      <th></th>\n",
       "      <th>donorID</th>\n",
       "      <th>max</th>\n",
       "      <th>min</th>\n",
       "      <th>mean</th>\n",
       "      <th>sum</th>\n",
       "      <th>count</th>\n",
       "      <th>recency_days</th>\n",
       "      <th>last_month_mean</th>\n",
       "      <th>year1_mean</th>\n",
       "      <th>year1_count</th>\n",
       "      <th>...</th>\n",
       "      <th>language_y</th>\n",
       "      <th>language_NaN</th>\n",
       "      <th>segment_x</th>\n",
       "      <th>segment_y</th>\n",
       "      <th>segment_z</th>\n",
       "      <th>gender_x</th>\n",
       "      <th>gender_y</th>\n",
       "      <th>age_NaN</th>\n",
       "      <th>recency_days_NaN</th>\n",
       "      <th>age_no_outliers</th>\n",
       "    </tr>\n",
       "  </thead>\n",
       "  <tbody>\n",
       "    <tr>\n",
       "      <th>0</th>\n",
       "      <td>134242</td>\n",
       "      <td>20.0</td>\n",
       "      <td>10.0</td>\n",
       "      <td>15.0</td>\n",
       "      <td>30.0</td>\n",
       "      <td>2.0</td>\n",
       "      <td>2573.0</td>\n",
       "      <td>0.0</td>\n",
       "      <td>0.0</td>\n",
       "      <td>0.0</td>\n",
       "      <td>...</td>\n",
       "      <td>1</td>\n",
       "      <td>0</td>\n",
       "      <td>0</td>\n",
       "      <td>1</td>\n",
       "      <td>0</td>\n",
       "      <td>1</td>\n",
       "      <td>0</td>\n",
       "      <td>0</td>\n",
       "      <td>0</td>\n",
       "      <td>54.3</td>\n",
       "    </tr>\n",
       "    <tr>\n",
       "      <th>1</th>\n",
       "      <td>126503</td>\n",
       "      <td>50.0</td>\n",
       "      <td>50.0</td>\n",
       "      <td>50.0</td>\n",
       "      <td>50.0</td>\n",
       "      <td>1.0</td>\n",
       "      <td>2179.0</td>\n",
       "      <td>0.0</td>\n",
       "      <td>0.0</td>\n",
       "      <td>0.0</td>\n",
       "      <td>...</td>\n",
       "      <td>0</td>\n",
       "      <td>0</td>\n",
       "      <td>0</td>\n",
       "      <td>1</td>\n",
       "      <td>0</td>\n",
       "      <td>1</td>\n",
       "      <td>0</td>\n",
       "      <td>0</td>\n",
       "      <td>0</td>\n",
       "      <td>71.2</td>\n",
       "    </tr>\n",
       "  </tbody>\n",
       "</table>\n",
       "<p>2 rows × 36 columns</p>\n",
       "</div>"
      ],
      "text/plain": [
       "   donorID   max   min  mean   sum  count  recency_days  last_month_mean  \\\n",
       "0   134242  20.0  10.0  15.0  30.0    2.0        2573.0              0.0   \n",
       "1   126503  50.0  50.0  50.0  50.0    1.0        2179.0              0.0   \n",
       "\n",
       "   year1_mean  year1_count  ...  language_y  language_NaN  segment_x  \\\n",
       "0         0.0          0.0  ...           1             0          0   \n",
       "1         0.0          0.0  ...           0             0          0   \n",
       "\n",
       "   segment_y  segment_z  gender_x  gender_y  age_NaN  recency_days_NaN  \\\n",
       "0          1          0         1         0        0                 0   \n",
       "1          1          0         1         0        0                 0   \n",
       "\n",
       "   age_no_outliers  \n",
       "0             54.3  \n",
       "1             71.2  \n",
       "\n",
       "[2 rows x 36 columns]"
      ]
     },
     "execution_count": 223,
     "metadata": {},
     "output_type": "execute_result"
    }
   ],
   "source": [
    "basetable.head(2)"
   ]
  },
  {
   "cell_type": "code",
   "execution_count": 224,
   "metadata": {},
   "outputs": [],
   "source": [
    "basetable.to_csv('basetable_Processed-data.csv')"
   ]
  },
  {
   "cell_type": "markdown",
   "metadata": {},
   "source": [
    "### Predictions"
   ]
  },
  {
   "cell_type": "code",
   "execution_count": 225,
   "metadata": {},
   "outputs": [],
   "source": [
    "features_select = selectedpredictors"
   ]
  },
  {
   "cell_type": "code",
   "execution_count": 226,
   "metadata": {},
   "outputs": [],
   "source": [
    "predictions_7662   = boostedTree.predict(basetable[features_select ])\n",
    "probabilities_7662 = DataFrame(boostedTree.predict_proba(basetable[features_select]))[1]"
   ]
  },
  {
   "cell_type": "code",
   "execution_count": 227,
   "metadata": {},
   "outputs": [
    {
     "data": {
      "text/plain": [
       "861"
      ]
     },
     "execution_count": 227,
     "metadata": {},
     "output_type": "execute_result"
    }
   ],
   "source": [
    "predictions_7662.sum()"
   ]
  },
  {
   "cell_type": "code",
   "execution_count": 228,
   "metadata": {},
   "outputs": [],
   "source": [
    "basetable['donation_proba'] = probabilities"
   ]
  },
  {
   "cell_type": "code",
   "execution_count": 229,
   "metadata": {},
   "outputs": [],
   "source": [
    "basetable[['donorID','donation_proba']].to_csv('Campaign7662_Prediction_boostedTree.csv')"
   ]
  },
  {
   "cell_type": "code",
   "execution_count": null,
   "metadata": {},
   "outputs": [],
   "source": []
  }
 ],
 "metadata": {
  "kernelspec": {
   "display_name": "Python 3",
   "language": "python",
   "name": "python3"
  },
  "language_info": {
   "codemirror_mode": {
    "name": "ipython",
    "version": 3
   },
   "file_extension": ".py",
   "mimetype": "text/x-python",
   "name": "python",
   "nbconvert_exporter": "python",
   "pygments_lexer": "ipython3",
   "version": "3.8.3"
  }
 },
 "nbformat": 4,
 "nbformat_minor": 4
}
